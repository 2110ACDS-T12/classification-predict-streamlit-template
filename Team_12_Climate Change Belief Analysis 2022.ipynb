{
 "cells": [
  {
   "cell_type": "markdown",
   "id": "3c0eaab5",
   "metadata": {},
   "source": [
    "# <a id='0'>Team_12:Climate Change Belief Analysis 2022</a>"
   ]
  },
  {
   "cell_type": "markdown",
   "id": "3182fc4f",
   "metadata": {},
   "source": [
    "# Table of Contents\n",
    "\n",
    "1. [Introduction](#1.-Introduction)\n",
    "\n",
    "    1.1 [Overview](##1.1-Overview)\n",
    "    \n",
    "    1.2. [Problem Statement](##1.2-Problem-Statement)\n",
    "2. [Comet Experiment](#2.-Comet-Experiment)\n",
    "3. [Loading Dependencies](#3.-Loading-Dependencies)\n",
    "4. [Exploratory Data Analysis](#4.-Exploratory-Data-Analysis)\n",
    "5. [Data Preprocessing](#5.-Data-Preprocessing)\n",
    "6. [Modelling](#6.-Modelling)\n",
    "7. [Conclusion](#7.-Conclusion)\n",
    "8. [Recommendations](#8.-Recommendations)\n",
    "\n"
   ]
  },
  {
   "cell_type": "markdown",
   "id": "b2aa3873",
   "metadata": {},
   "source": [
    "# 1. Introduction"
   ]
  },
  {
   "cell_type": "markdown",
   "id": "15f9a77c",
   "metadata": {},
   "source": [
    "   ## 1.1 Overview"
   ]
  },
  {
   "cell_type": "markdown",
   "id": "078b21cb",
   "metadata": {},
   "source": [
    "Many companies are built around lessening one’s environmental impact or carbon footprint. They offer products and services that are environmentally friendly and sustainable, in line with their values and ideals. They would like to determine how people perceive climate change and whether or not they believe it is a real threat. This would add to their market research efforts in gauging how their product/service may be received.\n",
    "\n",
    "With this context, we are creating a Machine Learning model that is able to classify whether or not a person believes in climate change, based on their novel tweet data.\n",
    "\n",
    "Providing an accurate and robust solution to this task gives companies access to a broad base of consumer sentiment, spanning multiple demographic and geographic categories - thus increasing their insights and informing future marketing strategies."
   ]
  },
  {
   "cell_type": "markdown",
   "id": "497521aa",
   "metadata": {},
   "source": [
    "   ## 1.2 Problem Statement"
   ]
  },
  {
   "cell_type": "markdown",
   "id": "e9b262be",
   "metadata": {},
   "source": []
  },
  {
   "cell_type": "markdown",
   "id": "1cf3f08e",
   "metadata": {},
   "source": [
    "# 2. Comet Experiment"
   ]
  },
  {
   "cell_type": "code",
   "execution_count": 2,
   "id": "3632635d",
   "metadata": {},
   "outputs": [
    {
     "name": "stdout",
     "output_type": "stream",
     "text": [
      "Collecting comet_ml\n",
      "  Downloading comet_ml-3.28.2-py2.py3-none-any.whl (342 kB)\n",
      "Collecting requests-toolbelt>=0.8.0\n",
      "  Downloading requests_toolbelt-0.9.1-py2.py3-none-any.whl (54 kB)\n",
      "Collecting semantic-version>=2.8.0\n",
      "  Downloading semantic_version-2.9.0-py2.py3-none-any.whl (15 kB)\n",
      "Collecting wurlitzer>=1.0.2\n",
      "  Downloading wurlitzer-3.0.2-py3-none-any.whl (7.3 kB)\n",
      "Requirement already satisfied: requests>=2.18.4 in c:\\users\\jenipher\\anaconda3\\new folder\\lib\\site-packages (from comet_ml) (2.26.0)\n",
      "Requirement already satisfied: wrapt>=1.11.2 in c:\\users\\jenipher\\anaconda3\\new folder\\lib\\site-packages (from comet_ml) (1.12.1)\n",
      "Collecting dulwich!=0.20.33,>=0.20.6\n",
      "  Downloading dulwich-0.20.34-cp39-cp39-win_amd64.whl (494 kB)\n",
      "Collecting websocket-client>=0.55.0\n",
      "  Downloading websocket_client-1.3.1-py3-none-any.whl (54 kB)\n",
      "Requirement already satisfied: six in c:\\users\\jenipher\\anaconda3\\new folder\\lib\\site-packages (from comet_ml) (1.16.0)\n",
      "Collecting nvidia-ml-py3>=7.352.0\n",
      "  Downloading nvidia-ml-py3-7.352.0.tar.gz (19 kB)\n",
      "Requirement already satisfied: jsonschema!=3.1.0,>=2.6.0 in c:\\users\\jenipher\\anaconda3\\new folder\\lib\\site-packages (from comet_ml) (3.2.0)\n",
      "Collecting everett[ini]>=1.0.1\n",
      "  Downloading everett-3.0.0-py2.py3-none-any.whl (35 kB)\n",
      "Requirement already satisfied: urllib3>=1.24.1 in c:\\users\\jenipher\\anaconda3\\new folder\\lib\\site-packages (from dulwich!=0.20.33,>=0.20.6->comet_ml) (1.26.7)\n",
      "Requirement already satisfied: certifi in c:\\users\\jenipher\\anaconda3\\new folder\\lib\\site-packages (from dulwich!=0.20.33,>=0.20.6->comet_ml) (2021.10.8)\n",
      "Collecting configobj\n",
      "  Downloading configobj-5.0.6.tar.gz (33 kB)\n",
      "Requirement already satisfied: setuptools in c:\\users\\jenipher\\anaconda3\\new folder\\lib\\site-packages (from jsonschema!=3.1.0,>=2.6.0->comet_ml) (58.0.4)\n",
      "Requirement already satisfied: attrs>=17.4.0 in c:\\users\\jenipher\\anaconda3\\new folder\\lib\\site-packages (from jsonschema!=3.1.0,>=2.6.0->comet_ml) (21.2.0)\n",
      "Requirement already satisfied: pyrsistent>=0.14.0 in c:\\users\\jenipher\\anaconda3\\new folder\\lib\\site-packages (from jsonschema!=3.1.0,>=2.6.0->comet_ml) (0.18.0)\n",
      "Requirement already satisfied: charset-normalizer~=2.0.0 in c:\\users\\jenipher\\anaconda3\\new folder\\lib\\site-packages (from requests>=2.18.4->comet_ml) (2.0.4)\n",
      "Requirement already satisfied: idna<4,>=2.5 in c:\\users\\jenipher\\anaconda3\\new folder\\lib\\site-packages (from requests>=2.18.4->comet_ml) (3.2)\n",
      "Building wheels for collected packages: nvidia-ml-py3, configobj\n",
      "  Building wheel for nvidia-ml-py3 (setup.py): started\n",
      "  Building wheel for nvidia-ml-py3 (setup.py): finished with status 'done'\n",
      "  Created wheel for nvidia-ml-py3: filename=nvidia_ml_py3-7.352.0-py3-none-any.whl size=19191 sha256=77738356d382f1ba30352dc7ebff1d419f79bbd8cd5c2e8533b7e4a42727cab1\n",
      "  Stored in directory: c:\\users\\jenipher\\appdata\\local\\pip\\cache\\wheels\\f6\\d8\\b0\\15cfd7805d39250ac29318105f09b1750683387630d68423e1\n",
      "  Building wheel for configobj (setup.py): started\n",
      "  Building wheel for configobj (setup.py): finished with status 'done'\n",
      "  Created wheel for configobj: filename=configobj-5.0.6-py3-none-any.whl size=34546 sha256=1123b85e721489d872aab23599dabfc2c89ce5be4bc580dfc843d61c2d2fa430\n",
      "  Stored in directory: c:\\users\\jenipher\\appdata\\local\\pip\\cache\\wheels\\4b\\35\\53\\dfa4d3a4196794cb0a777a97c68dcf02b073d33de9c135d72a\n",
      "Successfully built nvidia-ml-py3 configobj\n",
      "Installing collected packages: everett, configobj, wurlitzer, websocket-client, semantic-version, requests-toolbelt, nvidia-ml-py3, dulwich, comet-ml\n",
      "Successfully installed comet-ml-3.28.2 configobj-5.0.6 dulwich-0.20.34 everett-3.0.0 nvidia-ml-py3-7.352.0 requests-toolbelt-0.9.1 semantic-version-2.9.0 websocket-client-1.3.1 wurlitzer-3.0.2\n"
     ]
    }
   ],
   "source": [
    "!pip3 install comet_ml"
   ]
  },
  {
   "cell_type": "code",
   "execution_count": null,
   "id": "0b98e8ea",
   "metadata": {},
   "outputs": [],
   "source": []
  },
  {
   "cell_type": "code",
   "execution_count": null,
   "id": "5463aa80",
   "metadata": {},
   "outputs": [],
   "source": []
  },
  {
   "cell_type": "markdown",
   "id": "39860f78",
   "metadata": {},
   "source": [
    "# 3. Loading Dependencies"
   ]
  },
  {
   "cell_type": "code",
   "execution_count": null,
   "id": "2547ce8d",
   "metadata": {},
   "outputs": [],
   "source": [
    "#import libraries"
   ]
  },
  {
   "cell_type": "code",
   "execution_count": null,
   "id": "82135234",
   "metadata": {},
   "outputs": [],
   "source": [
    "#loading the data"
   ]
  },
  {
   "cell_type": "code",
   "execution_count": null,
   "id": "699e32f0",
   "metadata": {},
   "outputs": [],
   "source": []
  },
  {
   "cell_type": "markdown",
   "id": "01cd8f22",
   "metadata": {},
   "source": [
    "# 4. Exploratory Data Analysis"
   ]
  },
  {
   "cell_type": "code",
   "execution_count": null,
   "id": "403f8c32",
   "metadata": {},
   "outputs": [],
   "source": []
  },
  {
   "cell_type": "code",
   "execution_count": null,
   "id": "2512ba19",
   "metadata": {},
   "outputs": [],
   "source": []
  },
  {
   "cell_type": "code",
   "execution_count": null,
   "id": "04541933",
   "metadata": {},
   "outputs": [],
   "source": []
  },
  {
   "cell_type": "markdown",
   "id": "40b3516a",
   "metadata": {},
   "source": [
    "# 5. Data Preprocessing"
   ]
  },
  {
   "cell_type": "code",
   "execution_count": null,
   "id": "71175125",
   "metadata": {},
   "outputs": [],
   "source": []
  },
  {
   "cell_type": "code",
   "execution_count": null,
   "id": "1f6da17c",
   "metadata": {},
   "outputs": [],
   "source": []
  },
  {
   "cell_type": "code",
   "execution_count": null,
   "id": "ec6a5d1f",
   "metadata": {},
   "outputs": [],
   "source": []
  },
  {
   "cell_type": "code",
   "execution_count": null,
   "id": "8bb1c139",
   "metadata": {},
   "outputs": [],
   "source": []
  },
  {
   "cell_type": "markdown",
   "id": "0baf21a2",
   "metadata": {},
   "source": [
    "# 6. Modelling"
   ]
  },
  {
   "cell_type": "code",
   "execution_count": null,
   "id": "29355a0e",
   "metadata": {},
   "outputs": [],
   "source": []
  },
  {
   "cell_type": "code",
   "execution_count": null,
   "id": "0776426d",
   "metadata": {},
   "outputs": [],
   "source": []
  },
  {
   "cell_type": "markdown",
   "id": "0bbcb91d",
   "metadata": {},
   "source": [
    "# 7. Conclusion"
   ]
  },
  {
   "cell_type": "code",
   "execution_count": null,
   "id": "c4d554f5",
   "metadata": {},
   "outputs": [],
   "source": []
  },
  {
   "cell_type": "code",
   "execution_count": null,
   "id": "bb25c484",
   "metadata": {},
   "outputs": [],
   "source": []
  },
  {
   "cell_type": "markdown",
   "id": "cc625838",
   "metadata": {},
   "source": [
    "# 8. Recommendations"
   ]
  },
  {
   "cell_type": "code",
   "execution_count": null,
   "id": "53cf888e",
   "metadata": {},
   "outputs": [],
   "source": []
  },
  {
   "cell_type": "code",
   "execution_count": null,
   "id": "09931c4d",
   "metadata": {},
   "outputs": [],
   "source": []
  }
 ],
 "metadata": {
  "kernelspec": {
   "display_name": "Python 3 (ipykernel)",
   "language": "python",
   "name": "python3"
  },
  "language_info": {
   "codemirror_mode": {
    "name": "ipython",
    "version": 3
   },
   "file_extension": ".py",
   "mimetype": "text/x-python",
   "name": "python",
   "nbconvert_exporter": "python",
   "pygments_lexer": "ipython3",
   "version": "3.9.7"
  }
 },
 "nbformat": 4,
 "nbformat_minor": 5
}

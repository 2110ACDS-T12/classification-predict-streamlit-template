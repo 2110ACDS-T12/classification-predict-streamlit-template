{
 "cells": [
  {
   "cell_type": "markdown",
   "metadata": {
    "colab_type": "text",
    "id": "xpIPMNPoU_-p"
   },
   "source": [
    "# Advance Classification Solution\n",
    "### EDSA - Climate Change Belief Analysis 2022 \n",
    "#### RecycleStats Solutions - Team 12 EDSA\n",
    "\n",
    "© Explore Data Science Academy\n",
    "\n"
   ]
  },
  {
   "cell_type": "markdown",
   "metadata": {},
   "source": [
    "<a id=\"cont\"></a>\n",
    "## Table of Content\n",
    "\n",
    "<a href=#one>1. Introduction</a>\n",
    "\n",
    "    1.1 Overview\n",
    "    1.2 Problem Statement\n",
    "    1.3 Instruction\n",
    "        1.3.1 Model Version with COMET\n",
    "        1.3.2 NLTK Corpora Installation\n",
    "       \n",
    "<a href=#two>1. Import Packages</a>\n",
    "\n",
    "<a href=#three>2. Collect Data</a>\n",
    "\n",
    "<a href=#four>4. Exploratory Data Analysis (EDA)<a>\n",
    "    \n",
    "    4.1 Missing Data Check\n",
    "    4.2 Target Distribution Visualization\n",
    "\n",
    "<a href=#five>5. Data Processing</a>\n",
    "    \n",
    "    5.1 Text Cleaning\n",
    "        5.1.1 Remove Noise \n",
    "        5.1.2 Remove Punctuation\n",
    "    5.2 Tokenization\n",
    "    5.3 Count Vectorizer\n",
    "    5.4 TF-IDF Vectorizer\n",
    "\n",
    "<a href=#six>6. Modeling</a>\n",
    "    \n",
    "    6.1 Naive Bayes Model\n",
    "\n",
    "<a href=#seven>7. Model Performance</a>\n",
    "    \n",
    "    7.1 Model Test Score\n",
    "    7.2 Model Confusion Matrix\n",
    "\n",
    "<a href=#eight>8. Saving & Exporting Model</a>\n",
    "\n",
    "<a href=#nine>9. Best Model Explanations</a>\n",
    "\n",
    "<a href=#ten>10. Conclusion</a>\n",
    "\n",
    "<a href=#eleven>11. Recommendation</a>\n",
    "\n",
    "<a href=#ref>Reference Document Links</a>"
   ]
  },
  {
   "cell_type": "markdown",
   "metadata": {},
   "source": [
    "<a id=\"one\"></a>\n",
    "## 1. INTRODUCTION\n",
    "<a href=#cont>Back to Table of Contents</a>"
   ]
  },
  {
   "cell_type": "markdown",
   "metadata": {},
   "source": [
    "### 1.1 Overview\n",
    "\n",
    "Many companies are built around lessening one’s environmental impact or carbon footprint. They offer products and services that are environmentally friendly and sustainable, in line with their values and ideals. They would like to determine how people perceive climate change and whether or not they believe it is a real threat. This would add to their market research efforts in gauging how their product/service may be received.\n",
    "\n",
    "Hence, We will be creating a Machine Learning model that is able to classify whether or not a person believes in climate change, based on their novel tweet data.\n",
    "\n",
    "Providing an accurate and robust solution to this task gives companies access to a broad base of consumer sentiment, spanning multiple demographic and geographic categories - thus increasing their insights and informing future marketing strategies.\n"
   ]
  },
  {
   "cell_type": "markdown",
   "metadata": {},
   "source": [
    "### 1.2 Problem Statement\n",
    "\n",
    "We are looking to Empower the marketing sector of Eco-Friendly Companies, helping them maximise productivity, driving profitability by knowledge of the demand & Supply on her goods & Services. "
   ]
  },
  {
   "cell_type": "markdown",
   "metadata": {},
   "source": [
    "### 1.3 Instruction\n",
    "\n",
    "#### 1.3.1 Model Version with COMET\n",
    "To Begin with, We will be using Comet, a great tool for model versioning and experimentation as it records the parameters and conditions from each of your experiements- allowing you to reproduce your results, or go back to a previous version of your experiment.\n",
    "\n",
    "If you don't have a commet Accout, Go ahead to create an individual account, visit https://www.comet.ml/  You will see a project folder. That is where the records of your experiments can be viewed.\n",
    "\n",
    "You should install as illustrated below if you don't already have it. Always import Experiment at the top of your notebook/script. (Always install if on Google Colab)."
   ]
  },
  {
   "cell_type": "code",
   "execution_count": 1,
   "metadata": {},
   "outputs": [],
   "source": [
    "# Install Comet\n",
    "# !pip install comet_ml"
   ]
  },
  {
   "cell_type": "code",
   "execution_count": 2,
   "metadata": {},
   "outputs": [
    {
     "data": {
      "text/plain": [
       "'\\nGo ahead and get your api_key, project_name & workspace from your\\nComet Project Folder.\\n'"
      ]
     },
     "execution_count": 2,
     "metadata": {},
     "output_type": "execute_result"
    }
   ],
   "source": [
    "# Import Comet package\n",
    "from comet_ml import Experiment\n",
    "\n",
    "# Setting the API key (saved as environment variable)\n",
    "\"\"\"\n",
    "Go ahead and get your api_key, project_name & workspace from your\n",
    "Comet Project Folder.\n",
    "\"\"\"\n",
    "# experiment = Experiment(\n",
    "#     api_key=\"<HIDDEN>\",\n",
    "#     project_name=\"team-12-advanced-classification-sentiment-analysis\",\n",
    "#     workspace=\"jeniffermukami\")"
   ]
  },
  {
   "cell_type": "markdown",
   "metadata": {
    "colab_type": "text",
    "id": "C68jzOFpU_-2"
   },
   "source": [
    "####  1.3.2 Ensure you've got NLTK Corpora installed\n",
    "Some of the `nltk` text processing involve a lookup operation. For example, to find all [stopwords](https://www.geeksforgeeks.org/removing-stop-words-nltk-python/) in a given string of text, we require a list of all possible stopwords in the English language to use for the lookup. Such a list is refered to as a [corpus](https://en.wikipedia.org/wiki/Text_corpus). Therefore, first download the corpora we're going use if you don't have it installed, otherwise we may get a lookup error! Watch out specifically for the `tokenize` and `stopwords` sections. Not to worry, as we can easily avoid these errors by downloading the [corpora](http://www.nltk.org/nltk_data/) using the `nltk` downloader tool:"
   ]
  },
  {
   "cell_type": "markdown",
   "metadata": {
    "colab_type": "text",
    "id": "lct3bK9aU_-7"
   },
   "source": [
    "You should see this pop-up box. \n",
    "\n",
    "**NOTE:** the box might pop-up in the backround, in which case you should use `alt + tab` to switch to the downloader window.\n",
    "\n",
    "<img src=\"https://github.com/Explore-AI/Pictures/blob/master/nltk_downloader.png?raw=true\" width=50%/> \n",
    "\n",
    "Use it to navigate to the item we need to download: \n",
    "- stopwords corpus (Corpora tab)\n",
    "- punkt tokenizer models (Models tab)\n",
    "\n",
    "Navigate to these, click the download button, and exit the downloader when finished."
   ]
  },
  {
   "cell_type": "markdown",
   "metadata": {},
   "source": [
    "So, Let's Proceed"
   ]
  },
  {
   "cell_type": "markdown",
   "metadata": {
    "colab_type": "text",
    "id": "lKmhMwlDU_-u"
   },
   "source": [
    "<a id=\"two\"></a>\n",
    "## 2. IMPORT PACKAGES\n",
    "<a href=#cont>Back to Table of Contents</a>\n",
    "\n",
    "In this section, we will be importing libraries which are a collections of modules in their classes and based on their functionality. For this Analysis and Modelling, we wil be requiring;\n",
    "\n",
    "   ` For Data Manupulation, libraries such as Pandas, Numpy etc.`\n",
    "   \n",
    "`For Data Visualization, libraries such as mathplotlib, seaborn`\n",
    "    \n",
    "`libraries for data prepartion, feature selection, model building, Performance Calculation and more.`\n",
    "\n",
    "**SEE** in-line comments BELOW for purpose per importation."
   ]
  },
  {
   "cell_type": "code",
   "execution_count": 3,
   "metadata": {
    "colab": {
     "base_uri": "https://localhost:8080/",
     "height": 680
    },
    "colab_type": "code",
    "executionInfo": {
     "elapsed": 29356,
     "status": "error",
     "timestamp": 1560340175121,
     "user": {
      "displayName": "Bryan Davies",
      "photoUrl": "",
      "userId": "03059035420523728518"
     },
     "user_tz": -120
    },
    "id": "w8Iw1yCRU_-2",
    "outputId": "188501d1-fcf6-45be-8a45-56f885491dcd"
   },
   "outputs": [],
   "source": [
    "'''\n",
    "if you don't have installed, the NLTK corpora, Remove Hashtag below and Run \n",
    "IF NOT, just run the import file.\n",
    "'''\n",
    "import nltk\n",
    "\n",
    "#nltk.download()"
   ]
  },
  {
   "cell_type": "code",
   "execution_count": 4,
   "metadata": {
    "colab": {},
    "colab_type": "code",
    "id": "OQm0O5XHU_-z",
    "jupyter": {
     "outputs_hidden": true
    }
   },
   "outputs": [],
   "source": [
    "\"\"\" For seamless run, Import All required libraries here \"\"\"\n",
    "\n",
    "# Libraries for data loading, data manipulation and data visulisation\n",
    "import pandas as pd                                                   # for loading CSV data\n",
    "import numpy as np                                                    # Used for mathematical operations\n",
    "import matplotlib.pyplot as plt                                       # for Graphical Representation\n",
    "%matplotlib inline                                                    \n",
    "import seaborn as sns                                                 # for specialized plots\n",
    "import re                                                             \n",
    "import math                                                           \n",
    "sns.set()                                                             # set plot style\n",
    "\n",
    "# Libraries for data preparation\n",
    "from nltk.corpus import stopwords                                     \n",
    "import string                                                         \n",
    "from nltk.tokenize import TweetTokenizer, regexp_tokenize                                                          \n",
    "from nltk import RegexpTokenizer                                      \n",
    "from sklearn.feature_extraction.text import CountVectorizer, TfidfVectorizer                    \n",
    "from nltk import SnowballStemmer, PorterStemmer, LancasterStemmer     \n",
    "from nltk.stem import WordNetLemmatizer                               \n",
    "from nltk.util import ngrams                                          \n",
    "from statsmodels.graphics.correlation import plot_corr                # To plot correlation heatmap\n",
    "\n",
    "# Libraries for Feature Extraction\n",
    "from sklearn.feature_extraction.text import CountVectorizer, TfidfVectorizer   \n",
    "\n",
    "# Libraries for Model Building\n",
    "from sklearn.model_selection import train_test_split                  # To split the data into training and testing data\n",
    "from sklearn.naive_bayes import MultinomialNB\n",
    "\n",
    "# Libraries for calculating performance metrics\n",
    "from sklearn import metrics                                           # for\n",
    "from sklearn.metrics import accuracy_score, confusion_matrix, classification_report, ConfusionMatrixDisplay\n",
    "\n",
    "# Libraries to Save/Restore Models\n",
    "import pickle\n",
    "\n",
    "# Setting global constants to ensure notebook results are reproducible\n",
    "\n",
    "\n",
    "import warnings\n",
    "warnings.filterwarnings('ignore')"
   ]
  },
  {
   "cell_type": "markdown",
   "metadata": {},
   "source": [
    "<a id=\"three\"></a>\n",
    "## 3. Collect Data\n",
    "<a href=#cont>Back to Table of Contents</a>\n",
    "\n",
    "Data is required to help you find a solution to your data science problem. The data will provide insights that will lead you to a solution.\n",
    "\n",
    "The collection of the data used for this analysis was funded by a Canada Foundation for Innovation JELF Grant to Chris Bauch, University of Waterloo, and made available by the EXPLORE Data Science Academy (EDSA) in challenging us during the Classification Sprint with the task of creating a Machine Learning model that is able to classify whether or not a person believes in climate change, based on their novel tweet data. \n",
    "\n",
    "The dataset aggregates tweets pertaining to climate change collected between Apr 27, 2015 and Feb 21, 2018. In total, 43943 tweets were collected."
   ]
  },
  {
   "cell_type": "code",
   "execution_count": 5,
   "metadata": {},
   "outputs": [],
   "source": [
    "# Load Data\n",
    "df_train = pd.read_csv('train.csv')\n",
    "df_test =pd.read_csv('test_with_no_labels.csv')"
   ]
  },
  {
   "cell_type": "code",
   "execution_count": 6,
   "metadata": {},
   "outputs": [
    {
     "data": {
      "text/html": [
       "<div>\n",
       "<style scoped>\n",
       "    .dataframe tbody tr th:only-of-type {\n",
       "        vertical-align: middle;\n",
       "    }\n",
       "\n",
       "    .dataframe tbody tr th {\n",
       "        vertical-align: top;\n",
       "    }\n",
       "\n",
       "    .dataframe thead th {\n",
       "        text-align: right;\n",
       "    }\n",
       "</style>\n",
       "<table border=\"1\" class=\"dataframe\">\n",
       "  <thead>\n",
       "    <tr style=\"text-align: right;\">\n",
       "      <th></th>\n",
       "      <th>sentiment</th>\n",
       "      <th>message</th>\n",
       "      <th>tweetid</th>\n",
       "    </tr>\n",
       "  </thead>\n",
       "  <tbody>\n",
       "    <tr>\n",
       "      <th>0</th>\n",
       "      <td>1</td>\n",
       "      <td>PolySciMajor EPA chief doesn't think carbon di...</td>\n",
       "      <td>625221</td>\n",
       "    </tr>\n",
       "    <tr>\n",
       "      <th>1</th>\n",
       "      <td>1</td>\n",
       "      <td>It's not like we lack evidence of anthropogeni...</td>\n",
       "      <td>126103</td>\n",
       "    </tr>\n",
       "    <tr>\n",
       "      <th>2</th>\n",
       "      <td>2</td>\n",
       "      <td>RT @RawStory: Researchers say we have three ye...</td>\n",
       "      <td>698562</td>\n",
       "    </tr>\n",
       "    <tr>\n",
       "      <th>3</th>\n",
       "      <td>1</td>\n",
       "      <td>#TodayinMaker# WIRED : 2016 was a pivotal year...</td>\n",
       "      <td>573736</td>\n",
       "    </tr>\n",
       "    <tr>\n",
       "      <th>4</th>\n",
       "      <td>1</td>\n",
       "      <td>RT @SoyNovioDeTodas: It's 2016, and a racist, ...</td>\n",
       "      <td>466954</td>\n",
       "    </tr>\n",
       "  </tbody>\n",
       "</table>\n",
       "</div>"
      ],
      "text/plain": [
       "   sentiment                                            message  tweetid\n",
       "0          1  PolySciMajor EPA chief doesn't think carbon di...   625221\n",
       "1          1  It's not like we lack evidence of anthropogeni...   126103\n",
       "2          2  RT @RawStory: Researchers say we have three ye...   698562\n",
       "3          1  #TodayinMaker# WIRED : 2016 was a pivotal year...   573736\n",
       "4          1  RT @SoyNovioDeTodas: It's 2016, and a racist, ...   466954"
      ]
     },
     "execution_count": 6,
     "metadata": {},
     "output_type": "execute_result"
    }
   ],
   "source": [
    "# View Dataset\n",
    "df_train.head()"
   ]
  },
  {
   "cell_type": "code",
   "execution_count": 7,
   "metadata": {},
   "outputs": [
    {
     "name": "stdout",
     "output_type": "stream",
     "text": [
      "No. of Tweets on our TRAIN dataset: (15819, 3)\n",
      "No. of Tweets on our TEST dataaet: (10546, 2)\n"
     ]
    }
   ],
   "source": [
    "# Lets see the shape of our Dataset.\n",
    "print(f'No. of Tweets on our TRAIN dataset: {df_train.shape}')\n",
    "print(f'No. of Tweets on our TEST dataaet: {df_test.shape}')"
   ]
  },
  {
   "cell_type": "code",
   "execution_count": 8,
   "metadata": {},
   "outputs": [
    {
     "name": "stdout",
     "output_type": "stream",
     "text": [
      "[1, 2, 0, -1]\n"
     ]
    }
   ],
   "source": [
    "# printing a list of all sentiment types we have in our data.\n",
    "type_labels = list(df_train.sentiment.unique())\n",
    "print(type_labels)"
   ]
  },
  {
   "cell_type": "markdown",
   "metadata": {},
   "source": [
    "We have available for training and Test our model, `15819 Tweets` & `10546 Tweets` respectively as seen above. Each tweet labelled, represents one of the following classes:\n",
    "\n",
    "Class Description\n",
    "*  2 **News:**     The tweet links to factual news about climate change\n",
    "*  1 **Pro:**      The tweet supports the belief of man-made climate change\n",
    "*  0 **Neutral:**  The tweet neither supports nor refutes the belief of man-made climate change\n",
    "* -1 **Anti:**     The tweet does not believe in man-made climate change\n",
    "\n",
    "Variable definitions\n",
    "- **sentiment:** Sentiment of tweet\n",
    "- **message:**   Tweet body\n",
    "- **tweetid:**   Twitter unique id"
   ]
  },
  {
   "cell_type": "markdown",
   "metadata": {},
   "source": [
    "<a id=\"four\"></a>\n",
    "## 4. Exploratory Data Analysis (EDA)\n",
    "<a href=#cont>Back to Table of Contents</a>\n",
    "\n",
    "This includes looking to understand patterns in our data, pinpoint any outliers and indicate relationships between variables. This phase includes descriptive statistics and data visualisations.\n",
    "\n",
    "Hence, let's proceed to carrying out some EDA"
   ]
  },
  {
   "cell_type": "markdown",
   "metadata": {},
   "source": [
    "#### 4.1 Missing Data Check\n",
    "At the training phase it's important your dataset is ideal as possible, meaning things like; NO MISSING DATA in each observation."
   ]
  },
  {
   "cell_type": "code",
   "execution_count": 9,
   "metadata": {},
   "outputs": [
    {
     "name": "stdout",
     "output_type": "stream",
     "text": [
      "<class 'pandas.core.frame.DataFrame'>\n",
      "RangeIndex: 15819 entries, 0 to 15818\n",
      "Data columns (total 3 columns):\n",
      " #   Column     Non-Null Count  Dtype \n",
      "---  ------     --------------  ----- \n",
      " 0   sentiment  15819 non-null  int64 \n",
      " 1   message    15819 non-null  object\n",
      " 2   tweetid    15819 non-null  int64 \n",
      "dtypes: int64(2), object(1)\n",
      "memory usage: 370.9+ KB\n"
     ]
    }
   ],
   "source": [
    "df_train.info()"
   ]
  },
  {
   "cell_type": "markdown",
   "metadata": {},
   "source": [
    "The info command reveals presence of `Categorical` and `Numerical` features in our dataset, and as expected the message feature is categorical while the tweetid and sentiment are numerical. All features seem to have `Zero Non-Null` values. let's check to confirm count of null values present in each feature."
   ]
  },
  {
   "cell_type": "code",
   "execution_count": 10,
   "metadata": {},
   "outputs": [
    {
     "data": {
      "text/plain": [
       "sentiment    0\n",
       "message      0\n",
       "tweetid      0\n",
       "dtype: int64"
      ]
     },
     "execution_count": 10,
     "metadata": {},
     "output_type": "execute_result"
    }
   ],
   "source": [
    "df_train.isnull().sum()"
   ]
  },
  {
   "cell_type": "markdown",
   "metadata": {},
   "source": [
    "This Confirms; `No Missing Values in our Dataset`"
   ]
  },
  {
   "cell_type": "markdown",
   "metadata": {},
   "source": [
    "#### 4.2 Target Distribution Visualization"
   ]
  },
  {
   "cell_type": "markdown",
   "metadata": {},
   "source": [
    "Let's Visualize the distribution of our Target Response within our Training DataSet i.e. how many data samples we have for each of the different sentiment types"
   ]
  },
  {
   "cell_type": "code",
   "execution_count": 11,
   "metadata": {},
   "outputs": [
    {
     "data": {
      "image/png": "[encoded data removed]",
      "text/plain": [
       "<Figure size 576x360 with 1 Axes>"
      ]
     },
     "metadata": {},
     "output_type": "display_data"
    }
   ],
   "source": [
    "# Target variable distribution\n",
    "sns.set_style('darkgrid')\n",
    "plt.figure(figsize=(8, 5))\n",
    "sns.countplot(df_train['sentiment'])\n",
    "plt.title('Target variable distribution')\n",
    "plt.show()"
   ]
  },
  {
   "cell_type": "markdown",
   "metadata": {},
   "source": [
    "<a id=\"five\"></a>\n",
    "## 5. DATA PROCESSING\n",
    "<a href=#cont>Back to Table of Contents</a>\n",
    "\n",
    "Let's get the data and clean it up a bit"
   ]
  },
  {
   "cell_type": "markdown",
   "metadata": {
    "colab_type": "text",
    "id": "oKeKPQWkU_-9"
   },
   "source": [
    "### 5.1 Text Cleaning"
   ]
  },
  {
   "cell_type": "markdown",
   "metadata": {},
   "source": [
    "#### 5.1.1 Remove Noise\n",
    "In text analytics, removing noise (i.e. unneccesary information) is a key part of getting the data into a usable format\n",
    "\n",
    "For our data set we will follow the following steps \n",
    " * removing Removing hashtags, mentions, and links\n",
    " * making everything lower case\n",
    " * removing punctuation"
   ]
  },
  {
   "cell_type": "code",
   "execution_count": 12,
   "metadata": {},
   "outputs": [
    {
     "data": {
      "text/html": [
       "<div>\n",
       "<style scoped>\n",
       "    .dataframe tbody tr th:only-of-type {\n",
       "        vertical-align: middle;\n",
       "    }\n",
       "\n",
       "    .dataframe tbody tr th {\n",
       "        vertical-align: top;\n",
       "    }\n",
       "\n",
       "    .dataframe thead th {\n",
       "        text-align: right;\n",
       "    }\n",
       "</style>\n",
       "<table border=\"1\" class=\"dataframe\">\n",
       "  <thead>\n",
       "    <tr style=\"text-align: right;\">\n",
       "      <th></th>\n",
       "      <th>sentiment</th>\n",
       "      <th>message</th>\n",
       "      <th>tweetid</th>\n",
       "    </tr>\n",
       "  </thead>\n",
       "  <tbody>\n",
       "    <tr>\n",
       "      <th>0</th>\n",
       "      <td>1</td>\n",
       "      <td>PolySciMajor EPA chief doesn't think carbon di...</td>\n",
       "      <td>625221</td>\n",
       "    </tr>\n",
       "    <tr>\n",
       "      <th>1</th>\n",
       "      <td>1</td>\n",
       "      <td>It's not like we lack evidence of anthropogeni...</td>\n",
       "      <td>126103</td>\n",
       "    </tr>\n",
       "    <tr>\n",
       "      <th>2</th>\n",
       "      <td>2</td>\n",
       "      <td>RT @RawStory: Researchers say we have three ye...</td>\n",
       "      <td>698562</td>\n",
       "    </tr>\n",
       "    <tr>\n",
       "      <th>3</th>\n",
       "      <td>1</td>\n",
       "      <td>#TodayinMaker# WIRED : 2016 was a pivotal year...</td>\n",
       "      <td>573736</td>\n",
       "    </tr>\n",
       "    <tr>\n",
       "      <th>4</th>\n",
       "      <td>1</td>\n",
       "      <td>RT @SoyNovioDeTodas: It's 2016, and a racist, ...</td>\n",
       "      <td>466954</td>\n",
       "    </tr>\n",
       "    <tr>\n",
       "      <th>5</th>\n",
       "      <td>1</td>\n",
       "      <td>Worth a read whether you do or don't believe i...</td>\n",
       "      <td>425577</td>\n",
       "    </tr>\n",
       "    <tr>\n",
       "      <th>6</th>\n",
       "      <td>1</td>\n",
       "      <td>RT @thenation: Mike Pence doesn’t believe in g...</td>\n",
       "      <td>294933</td>\n",
       "    </tr>\n",
       "    <tr>\n",
       "      <th>7</th>\n",
       "      <td>1</td>\n",
       "      <td>RT @makeandmendlife: Six big things we can ALL...</td>\n",
       "      <td>992717</td>\n",
       "    </tr>\n",
       "    <tr>\n",
       "      <th>8</th>\n",
       "      <td>1</td>\n",
       "      <td>@AceofSpadesHQ My 8yo nephew is inconsolable. ...</td>\n",
       "      <td>664510</td>\n",
       "    </tr>\n",
       "    <tr>\n",
       "      <th>9</th>\n",
       "      <td>1</td>\n",
       "      <td>RT @paigetweedy: no offense… but like… how do ...</td>\n",
       "      <td>260471</td>\n",
       "    </tr>\n",
       "  </tbody>\n",
       "</table>\n",
       "</div>"
      ],
      "text/plain": [
       "   sentiment                                            message  tweetid\n",
       "0          1  PolySciMajor EPA chief doesn't think carbon di...   625221\n",
       "1          1  It's not like we lack evidence of anthropogeni...   126103\n",
       "2          2  RT @RawStory: Researchers say we have three ye...   698562\n",
       "3          1  #TodayinMaker# WIRED : 2016 was a pivotal year...   573736\n",
       "4          1  RT @SoyNovioDeTodas: It's 2016, and a racist, ...   466954\n",
       "5          1  Worth a read whether you do or don't believe i...   425577\n",
       "6          1  RT @thenation: Mike Pence doesn’t believe in g...   294933\n",
       "7          1  RT @makeandmendlife: Six big things we can ALL...   992717\n",
       "8          1  @AceofSpadesHQ My 8yo nephew is inconsolable. ...   664510\n",
       "9          1  RT @paigetweedy: no offense… but like… how do ...   260471"
      ]
     },
     "execution_count": 12,
     "metadata": {},
     "output_type": "execute_result"
    }
   ],
   "source": [
    "# View Data\n",
    "df_train.head(10)"
   ]
  },
  {
   "cell_type": "code",
   "execution_count": 13,
   "metadata": {},
   "outputs": [],
   "source": [
    "# So let's remove url\n",
    "pattern_url = r'http[s]?://(?:[A-Za-z]|[0-9]|[$-_@.&+]|[!*\\(\\),]|(?:%[0-9A-Fa-f][0-9A-Fa-f]))+'\n",
    "subs_url = r'url-web'\n",
    "df_train['message'] = df_train['message'].replace(to_replace = pattern_url, value = subs_url, regex = True)"
   ]
  },
  {
   "cell_type": "code",
   "execution_count": 14,
   "metadata": {},
   "outputs": [
    {
     "data": {
      "text/plain": [
       "0        PolySciMajor EPA chief doesn't think carbon di...\n",
       "1        It's not like we lack evidence of anthropogeni...\n",
       "2        RT @RawStory: Researchers say we have three ye...\n",
       "3        #TodayinMaker# WIRED : 2016 was a pivotal year...\n",
       "4        RT @SoyNovioDeTodas: It's 2016, and a racist, ...\n",
       "                               ...                        \n",
       "15814    RT @ezlusztig: They took down the material on ...\n",
       "15815    RT @washingtonpost: How climate change could b...\n",
       "15816    notiven: RT: nytimesworld :What does Trump act...\n",
       "15817    RT @sara8smiles: Hey liberals the climate chan...\n",
       "15818    RT @Chet_Cannon: .@kurteichenwald's 'climate c...\n",
       "Name: message, Length: 15819, dtype: object"
      ]
     },
     "execution_count": 14,
     "metadata": {},
     "output_type": "execute_result"
    }
   ],
   "source": [
    "# Let's view the MESSAGE created\n",
    "df_train['message'] "
   ]
  },
  {
   "cell_type": "markdown",
   "metadata": {},
   "source": [
    "#### 5.1.2 Remove Punctuation \n",
    "\n",
    "Haven removed some unnecessary information (i.e info not entirely useful to training our desired outcome), we need make all the text lower case to remove some noise from capitalisation."
   ]
  },
  {
   "cell_type": "code",
   "execution_count": 15,
   "metadata": {},
   "outputs": [],
   "source": [
    "# first DeCaptilize our message (Convert to lowercase)\n",
    "df_train['message'] = df_train['message'].str.lower()"
   ]
  },
  {
   "cell_type": "code",
   "execution_count": 16,
   "metadata": {},
   "outputs": [],
   "source": [
    "# Define a function to handle punctuation removal\n",
    "def remove_punctuation(post):\n",
    "    return ''.join([l for l in post if l not in string.punctuation])"
   ]
  },
  {
   "cell_type": "code",
   "execution_count": 17,
   "metadata": {},
   "outputs": [],
   "source": [
    "# Remove Punctutaion Noise\n",
    "df_train['message'] = df_train['message'].apply(remove_punctuation)"
   ]
  },
  {
   "cell_type": "code",
   "execution_count": 18,
   "metadata": {},
   "outputs": [
    {
     "data": {
      "text/html": [
       "<div>\n",
       "<style scoped>\n",
       "    .dataframe tbody tr th:only-of-type {\n",
       "        vertical-align: middle;\n",
       "    }\n",
       "\n",
       "    .dataframe tbody tr th {\n",
       "        vertical-align: top;\n",
       "    }\n",
       "\n",
       "    .dataframe thead th {\n",
       "        text-align: right;\n",
       "    }\n",
       "</style>\n",
       "<table border=\"1\" class=\"dataframe\">\n",
       "  <thead>\n",
       "    <tr style=\"text-align: right;\">\n",
       "      <th></th>\n",
       "      <th>sentiment</th>\n",
       "      <th>message</th>\n",
       "      <th>tweetid</th>\n",
       "    </tr>\n",
       "  </thead>\n",
       "  <tbody>\n",
       "    <tr>\n",
       "      <th>0</th>\n",
       "      <td>1</td>\n",
       "      <td>polyscimajor epa chief doesnt think carbon dio...</td>\n",
       "      <td>625221</td>\n",
       "    </tr>\n",
       "    <tr>\n",
       "      <th>1</th>\n",
       "      <td>1</td>\n",
       "      <td>its not like we lack evidence of anthropogenic...</td>\n",
       "      <td>126103</td>\n",
       "    </tr>\n",
       "    <tr>\n",
       "      <th>2</th>\n",
       "      <td>2</td>\n",
       "      <td>rt rawstory researchers say we have three year...</td>\n",
       "      <td>698562</td>\n",
       "    </tr>\n",
       "    <tr>\n",
       "      <th>3</th>\n",
       "      <td>1</td>\n",
       "      <td>todayinmaker wired  2016 was a pivotal year in...</td>\n",
       "      <td>573736</td>\n",
       "    </tr>\n",
       "    <tr>\n",
       "      <th>4</th>\n",
       "      <td>1</td>\n",
       "      <td>rt soynoviodetodas its 2016 and a racist sexis...</td>\n",
       "      <td>466954</td>\n",
       "    </tr>\n",
       "    <tr>\n",
       "      <th>5</th>\n",
       "      <td>1</td>\n",
       "      <td>worth a read whether you do or dont believe in...</td>\n",
       "      <td>425577</td>\n",
       "    </tr>\n",
       "    <tr>\n",
       "      <th>6</th>\n",
       "      <td>1</td>\n",
       "      <td>rt thenation mike pence doesn’t believe in glo...</td>\n",
       "      <td>294933</td>\n",
       "    </tr>\n",
       "    <tr>\n",
       "      <th>7</th>\n",
       "      <td>1</td>\n",
       "      <td>rt makeandmendlife six big things we can all d...</td>\n",
       "      <td>992717</td>\n",
       "    </tr>\n",
       "    <tr>\n",
       "      <th>8</th>\n",
       "      <td>1</td>\n",
       "      <td>aceofspadeshq my 8yo nephew is inconsolable he...</td>\n",
       "      <td>664510</td>\n",
       "    </tr>\n",
       "    <tr>\n",
       "      <th>9</th>\n",
       "      <td>1</td>\n",
       "      <td>rt paigetweedy no offense… but like… how do yo...</td>\n",
       "      <td>260471</td>\n",
       "    </tr>\n",
       "  </tbody>\n",
       "</table>\n",
       "</div>"
      ],
      "text/plain": [
       "   sentiment                                            message  tweetid\n",
       "0          1  polyscimajor epa chief doesnt think carbon dio...   625221\n",
       "1          1  its not like we lack evidence of anthropogenic...   126103\n",
       "2          2  rt rawstory researchers say we have three year...   698562\n",
       "3          1  todayinmaker wired  2016 was a pivotal year in...   573736\n",
       "4          1  rt soynoviodetodas its 2016 and a racist sexis...   466954\n",
       "5          1  worth a read whether you do or dont believe in...   425577\n",
       "6          1  rt thenation mike pence doesn’t believe in glo...   294933\n",
       "7          1  rt makeandmendlife six big things we can all d...   992717\n",
       "8          1  aceofspadeshq my 8yo nephew is inconsolable he...   664510\n",
       "9          1  rt paigetweedy no offense… but like… how do yo...   260471"
      ]
     },
     "execution_count": 18,
     "metadata": {},
     "output_type": "execute_result"
    }
   ],
   "source": [
    "# Verify Actions\n",
    "df_train.head(10)"
   ]
  },
  {
   "cell_type": "markdown",
   "metadata": {},
   "source": [
    "### 5.2 Tokenization"
   ]
  },
  {
   "cell_type": "code",
   "execution_count": 19,
   "metadata": {},
   "outputs": [
    {
     "data": {
      "text/plain": [
       "0        [polyscimajor, epa, chief, doesnt, think, carb...\n",
       "1        [its, not, like, we, lack, evidence, of, anthr...\n",
       "2        [rt, rawstory, researchers, say, we, have, thr...\n",
       "3        [todayinmaker, wired, 2016, was, a, pivotal, y...\n",
       "4        [rt, soynoviodetodas, its, 2016, and, a, racis...\n",
       "                               ...                        \n",
       "15814    [rt, ezlusztig, they, took, down, the, materia...\n",
       "15815    [rt, washingtonpost, how, climate, change, cou...\n",
       "15816    [notiven, rt, nytimesworld, what, does, trump,...\n",
       "15817    [rt, sara, 8smiles, hey, liberals, the, climat...\n",
       "15818    [rt, chetcannon, kurteichenwalds, climate, cha...\n",
       "Name: message, Length: 15819, dtype: object"
      ]
     },
     "execution_count": 19,
     "metadata": {},
     "output_type": "execute_result"
    }
   ],
   "source": [
    "# Apply the tweet tokenization\n",
    "tt = TweetTokenizer()\n",
    "df_train['message'].apply(tt.tokenize)"
   ]
  },
  {
   "cell_type": "code",
   "execution_count": 20,
   "metadata": {},
   "outputs": [
    {
     "data": {
      "text/html": [
       "<div>\n",
       "<style scoped>\n",
       "    .dataframe tbody tr th:only-of-type {\n",
       "        vertical-align: middle;\n",
       "    }\n",
       "\n",
       "    .dataframe tbody tr th {\n",
       "        vertical-align: top;\n",
       "    }\n",
       "\n",
       "    .dataframe thead th {\n",
       "        text-align: right;\n",
       "    }\n",
       "</style>\n",
       "<table border=\"1\" class=\"dataframe\">\n",
       "  <thead>\n",
       "    <tr style=\"text-align: right;\">\n",
       "      <th></th>\n",
       "      <th>sentiment</th>\n",
       "      <th>message</th>\n",
       "      <th>tweetid</th>\n",
       "    </tr>\n",
       "  </thead>\n",
       "  <tbody>\n",
       "    <tr>\n",
       "      <th>0</th>\n",
       "      <td>1</td>\n",
       "      <td>polyscimajor epa chief doesnt think carbon dio...</td>\n",
       "      <td>625221</td>\n",
       "    </tr>\n",
       "    <tr>\n",
       "      <th>1</th>\n",
       "      <td>1</td>\n",
       "      <td>its not like we lack evidence of anthropogenic...</td>\n",
       "      <td>126103</td>\n",
       "    </tr>\n",
       "    <tr>\n",
       "      <th>2</th>\n",
       "      <td>2</td>\n",
       "      <td>rt rawstory researchers say we have three year...</td>\n",
       "      <td>698562</td>\n",
       "    </tr>\n",
       "    <tr>\n",
       "      <th>3</th>\n",
       "      <td>1</td>\n",
       "      <td>todayinmaker wired  2016 was a pivotal year in...</td>\n",
       "      <td>573736</td>\n",
       "    </tr>\n",
       "    <tr>\n",
       "      <th>4</th>\n",
       "      <td>1</td>\n",
       "      <td>rt soynoviodetodas its 2016 and a racist sexis...</td>\n",
       "      <td>466954</td>\n",
       "    </tr>\n",
       "  </tbody>\n",
       "</table>\n",
       "</div>"
      ],
      "text/plain": [
       "   sentiment                                            message  tweetid\n",
       "0          1  polyscimajor epa chief doesnt think carbon dio...   625221\n",
       "1          1  its not like we lack evidence of anthropogenic...   126103\n",
       "2          2  rt rawstory researchers say we have three year...   698562\n",
       "3          1  todayinmaker wired  2016 was a pivotal year in...   573736\n",
       "4          1  rt soynoviodetodas its 2016 and a racist sexis...   466954"
      ]
     },
     "execution_count": 20,
     "metadata": {},
     "output_type": "execute_result"
    }
   ],
   "source": [
    "df_train.head()"
   ]
  },
  {
   "cell_type": "markdown",
   "metadata": {
    "colab": {},
    "colab_type": "code",
    "id": "h3G_aB4hU__G",
    "outputId": "92110f2c-5cab-4f7b-a5b3-4a9b0be103e3"
   },
   "source": [
    "##### Repeat Text Cleaning for Test DataSet\n",
    "NOTE: All functions applied have already been defined while cleaning our Train Data."
   ]
  },
  {
   "cell_type": "code",
   "execution_count": 21,
   "metadata": {
    "colab_type": "text",
    "id": "GnKe3gyoU__Z"
   },
   "outputs": [],
   "source": [
    "# Removing Noise\n",
    "df_test['message'] = df_test['message'].replace(to_replace = pattern_url, value = subs_url, regex = True)"
   ]
  },
  {
   "cell_type": "code",
   "execution_count": 22,
   "metadata": {},
   "outputs": [],
   "source": [
    "# Convert Capitals, Remove Punctuations\n",
    "df_test['message'] = df_test['message'].str.lower()\n",
    "df_test['message'] = df_test['message'].apply(remove_punctuation)"
   ]
  },
  {
   "cell_type": "code",
   "execution_count": 23,
   "metadata": {
    "colab": {},
    "colab_type": "code",
    "id": "CUATZmo5U__h",
    "jupyter": {
     "outputs_hidden": true
    }
   },
   "outputs": [
    {
     "data": {
      "text/plain": [
       "0        [europe, will, now, be, looking, to, china, to...\n",
       "1        [combine, this, with, the, polling, of, staffe...\n",
       "2        [the, scary, unimpeachable, evidence, that, cl...\n",
       "3        [karoli, morgfair, osborneink, dailykos, putin...\n",
       "4        [rt, fakewillmoore, female, orgasms, cause, gl...\n",
       "                               ...                        \n",
       "10541    [rt, brittanybohrer, brb, writing, a, poem, ab...\n",
       "10542    [2016, the, year, climate, change, came, home,...\n",
       "10543    [rt, loopvanuatu, pacific, countries, positive...\n",
       "10544    [rt, xanria, 00018, you, ’, re, so, hot, you, ...\n",
       "10545    [rt, chloebalaoing, climate, change, is, a, gl...\n",
       "Name: message, Length: 10546, dtype: object"
      ]
     },
     "execution_count": 23,
     "metadata": {},
     "output_type": "execute_result"
    }
   ],
   "source": [
    "# Tokenisation\n",
    "df_test['message'].apply(tt.tokenize)"
   ]
  },
  {
   "cell_type": "markdown",
   "metadata": {
    "colab": {},
    "colab_type": "code",
    "id": "_XY1p3uZVAAS"
   },
   "source": [
    "There are other forms of text cleaning that are important to be applied, such as;\n",
    "\n",
    "    STEMMING is the process of transforming to the root word. It uses an algorithm that removes common word-endings from English words, such as “ly,” “es,” “ed,” and “s”. Some methods includes `Porter`, `Lancaster`, `Snowball`.\n",
    "    \n",
    "    LEMMATIZATION similar to stemming, it processes by grouping words of similar meaning together. In other words, your root STEM(the word you ended up with), is not something you can just look up in a dictionary, often called LEMMA.\n",
    "    \n",
    "    STOPWORD words which do not contain important significance to be used in Search Queries `e.g as, and, if`. Usually these words are filtered out from search queries because they return a vast amount of unnecessary information.\n",
    "    \n",
    "NOW thanks to Python...\n",
    "\n",
    "sklearn has a built in text feature extraction module called `CountVectorizer` that will literally do all of that work in one line of code! This function will convert a collection of documents (rows of text) into a matrix of token counts.\n",
    "\n",
    "So let's go ahead to apply the CountVectorizer.\n"
   ]
  },
  {
   "cell_type": "markdown",
   "metadata": {},
   "source": [
    "### 5.3 Count Vectorizer"
   ]
  },
  {
   "cell_type": "markdown",
   "metadata": {},
   "source": [
    "Let's first split our dataset because................(FILL IN: EXPERIEMENT what happens if we CountVectorize before splitting, what happens)"
   ]
  },
  {
   "cell_type": "code",
   "execution_count": 24,
   "metadata": {},
   "outputs": [],
   "source": [
    "# Get features and label \n",
    "X = df_train['message']\n",
    "y = df_train['sentiment']\n",
    "\n",
    "# split data to Train/Test set\n",
    "X_train, X_test, y_train, y_test = train_test_split(X, y, test_size=0.33, random_state = 53)"
   ]
  },
  {
   "cell_type": "markdown",
   "metadata": {},
   "source": [
    "Before we move on, let's take a look at the distribution of observations between our classes."
   ]
  },
  {
   "cell_type": "code",
   "execution_count": 25,
   "metadata": {},
   "outputs": [
    {
     "data": {
      "image/png": "[encoded data removed]",
      "text/plain": [
       "<Figure size 432x288 with 1 Axes>"
      ]
     },
     "metadata": {},
     "output_type": "display_data"
    },
    {
     "data": {
      "text/plain": [
       " 1    8530\n",
       " 2    3640\n",
       " 0    2353\n",
       "-1    1296\n",
       "Name: sentiment, dtype: int64"
      ]
     },
     "execution_count": 25,
     "metadata": {},
     "output_type": "execute_result"
    }
   ],
   "source": [
    "unique, counts = np.unique(y_train, return_counts=True)\n",
    "plt.bar(unique, counts)\n",
    "unique, counts = np.unique(y_test, return_counts=True)\n",
    "plt.bar(unique, counts)\n",
    "\n",
    "plt.title('Class Frequency')\n",
    "plt.xlabel('Class')\n",
    "plt.ylabel('Frequency')\n",
    "plt.xticks(ticks=[2,1,0,-1], labels=[2,1,0,-1])\n",
    "\n",
    "plt.show()\n",
    "y.value_counts()"
   ]
  },
  {
   "cell_type": "markdown",
   "metadata": {},
   "source": [
    "**Observed very high level of Class imbalance here: there are 8530 observations in class 1 and only 1296 in class -1.**\n",
    "\n",
    "We have to deal with this imbalance as this will affect the predictivity of our model"
   ]
  },
  {
   "cell_type": "markdown",
   "metadata": {},
   "source": [
    "let's proceed to initializing and fitting a tuned CountVectorizer to the Train data."
   ]
  },
  {
   "cell_type": "code",
   "execution_count": 26,
   "metadata": {},
   "outputs": [],
   "source": [
    "# initilize count vectorizer\n",
    "betterVect = CountVectorizer(stop_words='english', \n",
    "                             min_df=2, \n",
    "                             max_df=0.5, \n",
    "                             ngram_range=(1, 1))"
   ]
  },
  {
   "cell_type": "code",
   "execution_count": 27,
   "metadata": {},
   "outputs": [],
   "source": [
    "#transform the split training data using only the 'message' column values\n",
    "count_train =betterVect.fit_transform(X_train.values)\n",
    "\n",
    "#transform the split test data using only the 'message' column values\n",
    "count_test=betterVect.transform(X_test.values)\n",
    "\n",
    "# Repeat for Main Test Data\n",
    "counteer_test = betterVect.transform(df_test['message'])"
   ]
  },
  {
   "cell_type": "code",
   "execution_count": 28,
   "metadata": {},
   "outputs": [
    {
     "name": "stdout",
     "output_type": "stream",
     "text": [
      "['10', '100', '1000', '100000', '1000s', '101', '105', '109c', '10yrs', '11', '110', '115', '12', '125', '13', '14', '145', '15', '150', '15c', '16', '17', '170', '175', '18', '19', '1957', '1963', '1968', '1970s', '1990', '1990s', '1991', '1followernodad', '1o5c', '1st', '1starfleetcadet', '20', '200', '2000', '200000', '2008', '2009', '200millionyearold', '2010', '20102017', '2011', '2012', '2013', '2014', '2015', '2016', '2016s', '2017', '2018', '202', '2020', '2030', '2045', '2050', '21', '2100', '21cf', '21logician', '21st', '22', '23', '2322', '24', '25', '25th', '26', '27', '28', '280', '29', '2c', '2day', '2nd', '30', '300000', '32', '320', '3200', '320000', '33', '34', '35', '350', '37', '3novices', '3rd', '40', '400', '44', '45', '46', '48', '4corners', '50']\n"
     ]
    }
   ],
   "source": [
    "# print the first 10 features of the count_vectorizer\n",
    "print(betterVect.get_feature_names()[:100])"
   ]
  },
  {
   "cell_type": "markdown",
   "metadata": {},
   "source": [
    "### 5.4 TF-IDF Vectorizer\n",
    "\n",
    "TF-IDF which stands for `Term Frequency-Inverse Document Frequency`.It is a commonly used NLP (Natural Language Processing) model that helps you determine the most important words in each document in the corpus.The idea behind TFIDF is that each corpus may have shared words beyond just the stopwords.These common words are like stop words and should be removed or atleast downweighted in importance."
   ]
  },
  {
   "cell_type": "code",
   "execution_count": 29,
   "metadata": {},
   "outputs": [],
   "source": [
    "# initilize TF-IDF Vectorizer\n",
    "tfidf = TfidfVectorizer(stop_words='english', max_df =0.7)"
   ]
  },
  {
   "cell_type": "code",
   "execution_count": 30,
   "metadata": {},
   "outputs": [],
   "source": [
    "# Transform train & test data\n",
    "tfidf_train =tfidf.fit_transform(X_train)\n",
    "tfidf_test =tfidf.transform(X_test)\n",
    "\n",
    "# Repeat for test data\n",
    "tfidf_test =tfidf.transform(X_test)"
   ]
  },
  {
   "cell_type": "code",
   "execution_count": 31,
   "metadata": {},
   "outputs": [
    {
     "name": "stdout",
     "output_type": "stream",
     "text": [
      "['000005', '009barca', '010536', '012', '02', '02cents0', '0519am', '07', '094', '0bamas', '0c', '0x526978', '10', '100', '1000', '100000', '10000yr', '1000s', '1001', '100daysofshame', '100h', '100isnow', '100s', '100th', '100x', '100yearold', '101', '1010', '105', '106', '10950', '109c', '10c', '10most', '10yrs', '10ã', '11', '110', '1100', '1110c', '1111', '1123', '1130', '114', '115', '11500', '11pm', '11th', '12', '1200', '120k', '1224', '125', '12am', '12balboa', '12th', '13', '130', '1306chomley', '131', '13690', '14', '140', '1400', '140b', '1430', '1431', '145', '1488ã', '15', '150', '15000', '150000', '15c', '15mm', '15th', '15ã', '16', '160', '164', '1645ã', '16yearold', '17', '170', '170billion', '17352', '175', '1778', '17mohdsajid', '17posc225', '17year', '18', '18001930', '180bn', '182', '1840s', '1856', '1875', '18yearlong', '19']\n"
     ]
    }
   ],
   "source": [
    "# print the first 10 features of the TF-IDF Vectorizer\n",
    "print(tfidf.get_feature_names()[:100])"
   ]
  },
  {
   "cell_type": "code",
   "execution_count": 32,
   "metadata": {},
   "outputs": [
    {
     "name": "stdout",
     "output_type": "stream",
     "text": [
      "[[0. 0. 0. ... 0. 0. 0.]\n",
      " [0. 0. 0. ... 0. 0. 0.]\n",
      " [0. 0. 0. ... 0. 0. 0.]\n",
      " ...\n",
      " [0. 0. 0. ... 0. 0. 0.]\n",
      " [0. 0. 0. ... 0. 0. 0.]\n",
      " [0. 0. 0. ... 0. 0. 0.]]\n"
     ]
    }
   ],
   "source": [
    "#print the first 20 vectors of tfidf training data\n",
    "print(tfidf_train.A[:10])"
   ]
  },
  {
   "cell_type": "code",
   "execution_count": 33,
   "metadata": {},
   "outputs": [
    {
     "name": "stdout",
     "output_type": "stream",
     "text": [
      "   000005  009barca  010536  012   02  02cents0  0519am   07  094  0bamas  \\\n",
      "0     0.0       0.0     0.0  0.0  0.0       0.0     0.0  0.0  0.0     0.0   \n",
      "1     0.0       0.0     0.0  0.0  0.0       0.0     0.0  0.0  0.0     0.0   \n",
      "2     0.0       0.0     0.0  0.0  0.0       0.0     0.0  0.0  0.0     0.0   \n",
      "3     0.0       0.0     0.0  0.0  0.0       0.0     0.0  0.0  0.0     0.0   \n",
      "4     0.0       0.0     0.0  0.0  0.0       0.0     0.0  0.0  0.0     0.0   \n",
      "\n",
      "   ...   เล  และ   ได  と通知した  どうなる米国  スタリん時代のソ連や毛沢東の文化大革命並のサイエンスに政治的介入だ  \\\n",
      "0  ...  0.0  0.0  0.0    0.0     0.0                                0.0   \n",
      "1  ...  0.0  0.0  0.0    0.0     0.0                                0.0   \n",
      "2  ...  0.0  0.0  0.0    0.0     0.0                                0.0   \n",
      "3  ...  0.0  0.0  0.0    0.0     0.0                                0.0   \n",
      "4  ...  0.0  0.0  0.0    0.0     0.0                                0.0   \n",
      "\n",
      "   地球温暖化会議  気候変動との表現を削除しないと予算を貰えない  申請書のアブストラクトに  米国政府はある研究者に連絡して  \n",
      "0      0.0                     0.0           0.0              0.0  \n",
      "1      0.0                     0.0           0.0              0.0  \n",
      "2      0.0                     0.0           0.0              0.0  \n",
      "3      0.0                     0.0           0.0              0.0  \n",
      "4      0.0                     0.0           0.0              0.0  \n",
      "\n",
      "[5 rows x 19074 columns]\n"
     ]
    }
   ],
   "source": [
    "# create tfidf vectorizer df\n",
    "tfidf_df = pd.DataFrame(tfidf_train.A, columns=tfidf.get_feature_names())\n",
    "print(tfidf_df.head())"
   ]
  },
  {
   "cell_type": "markdown",
   "metadata": {},
   "source": [
    "Forget about thhe chinese, it's well understandable English text ready to be feed to our model."
   ]
  },
  {
   "cell_type": "markdown",
   "metadata": {},
   "source": [
    "<a id=\"six\"></a>\n",
    "## 6. Modeling\n",
    "<a href=#cont>Back to Table of Contents</a>\n",
    "\n"
   ]
  },
  {
   "cell_type": "markdown",
   "metadata": {},
   "source": [
    "### 6.1. Naive Bayes Model\n",
    "\n",
    "Naive bayes is most commonly used for testing NLP classification because of its basis in probability. Naive bayes algorithm attempts to answer the question 'Given a particular piece of data how likely is the outcome?'\n",
    "\n",
    "Each word acts as a feature from our count vectorizer helping classify our message using probability.\n",
    "\n",
    "There are three types of Naive Bayes model under the scikit-learn library:\n",
    "\n",
    "    Gaussian: It is used in classification and it assumes that features follow a normal distribution.\n",
    "\n",
    "    Multinomial: It is used for discrete counts. For example, let’s say,  we have a text classification problem. Here we can consider Bernoulli trials which is one step further and instead of “word occurring in the document”, we have “count how often word occurs in the document”, you can think of it as “number of times outcome number x_i is observed over the n trials”.\n",
    "\n",
    "    Bernoulli: The binomial model is useful if your feature vectors are binary (i.e. zeros and ones). One application would be text classification with ‘bag of words’ model where the 1s & 0s are “word occurs in the document” and “word does not occur in the document” respectively.\n",
    "\n",
    "We choose the Multinomial Naive Bayes (MultinomialNB) Model because of how well it works with count vectorizer as it expects integer inputs.\n"
   ]
  },
  {
   "cell_type": "code",
   "execution_count": 34,
   "metadata": {},
   "outputs": [
    {
     "data": {
      "text/plain": [
       "MultinomialNB()"
      ]
     },
     "execution_count": 34,
     "metadata": {},
     "output_type": "execute_result"
    }
   ],
   "source": [
    "# initialize classifier\n",
    "nb_classifier = MultinomialNB()\n",
    "\n",
    "# Training Model with CountVector\n",
    "nb_classifier.fit(count_train, y_train)"
   ]
  },
  {
   "cell_type": "code",
   "execution_count": 35,
   "metadata": {},
   "outputs": [],
   "source": [
    "# Predicting for Counter Vectorizer\n",
    "pred_coutv_mnb = nb_classifier.predict(count_test)\n"
   ]
  },
  {
   "cell_type": "markdown",
   "metadata": {},
   "source": [
    "<a id=\"seven\"></a>\n",
    "## 7. MODEL PERFORMANCE\n",
    "<a href=#cont>Back to Table of Contents</a>\n",
    "\n"
   ]
  },
  {
   "cell_type": "markdown",
   "metadata": {},
   "source": [
    "### 7.1 Model Testing Scores\n"
   ]
  },
  {
   "cell_type": "code",
   "execution_count": 36,
   "metadata": {},
   "outputs": [
    {
     "name": "stdout",
     "output_type": "stream",
     "text": [
      "Classification Report\n",
      "              precision    recall  f1-score   support\n",
      "\n",
      "     1: News       0.66      0.39      0.49       434\n",
      "      2: Pro       0.56      0.40      0.46       782\n",
      "  0: Neutral       0.76      0.80      0.78      2817\n",
      "    -1: Anti       0.68      0.80      0.73      1188\n",
      "\n",
      "    accuracy                           0.71      5221\n",
      "   macro avg       0.66      0.60      0.62      5221\n",
      "weighted avg       0.70      0.71      0.70      5221\n",
      "\n"
     ]
    }
   ],
   "source": [
    "labels = ['1: News', '2: Pro', '0: Neutral', '-1: Anti']\n",
    "print('Classification Report')\n",
    "print(classification_report(y_test, pred_coutv_mnb, target_names=labels))"
   ]
  },
  {
   "cell_type": "code",
   "execution_count": 37,
   "metadata": {},
   "outputs": [
    {
     "name": "stdout",
     "output_type": "stream",
     "text": [
      "Accuracy Score: 71.0%\n"
     ]
    }
   ],
   "source": [
    "print(f'Accuracy Score: {round(metrics.accuracy_score(y_test, pred_coutv_mnb), 2) * 100}''%')"
   ]
  },
  {
   "cell_type": "markdown",
   "metadata": {},
   "source": [
    "### 7.2 Model Confusion matrix"
   ]
  },
  {
   "cell_type": "code",
   "execution_count": 38,
   "metadata": {},
   "outputs": [
    {
     "data": {
      "text/html": [
       "<div>\n",
       "<style scoped>\n",
       "    .dataframe tbody tr th:only-of-type {\n",
       "        vertical-align: middle;\n",
       "    }\n",
       "\n",
       "    .dataframe tbody tr th {\n",
       "        vertical-align: top;\n",
       "    }\n",
       "\n",
       "    .dataframe thead th {\n",
       "        text-align: right;\n",
       "    }\n",
       "</style>\n",
       "<table border=\"1\" class=\"dataframe\">\n",
       "  <thead>\n",
       "    <tr style=\"text-align: right;\">\n",
       "      <th></th>\n",
       "      <th>1: News</th>\n",
       "      <th>2: Pro</th>\n",
       "      <th>0: Neutral</th>\n",
       "      <th>-1: Anti</th>\n",
       "    </tr>\n",
       "  </thead>\n",
       "  <tbody>\n",
       "    <tr>\n",
       "      <th>1: News</th>\n",
       "      <td>171</td>\n",
       "      <td>58</td>\n",
       "      <td>176</td>\n",
       "      <td>29</td>\n",
       "    </tr>\n",
       "    <tr>\n",
       "      <th>2: Pro</th>\n",
       "      <td>33</td>\n",
       "      <td>309</td>\n",
       "      <td>350</td>\n",
       "      <td>90</td>\n",
       "    </tr>\n",
       "    <tr>\n",
       "      <th>0: Neutral</th>\n",
       "      <td>39</td>\n",
       "      <td>174</td>\n",
       "      <td>2267</td>\n",
       "      <td>337</td>\n",
       "    </tr>\n",
       "    <tr>\n",
       "      <th>-1: Anti</th>\n",
       "      <td>15</td>\n",
       "      <td>11</td>\n",
       "      <td>207</td>\n",
       "      <td>955</td>\n",
       "    </tr>\n",
       "  </tbody>\n",
       "</table>\n",
       "</div>"
      ],
      "text/plain": [
       "            1: News  2: Pro  0: Neutral  -1: Anti\n",
       "1: News         171      58         176        29\n",
       "2: Pro           33     309         350        90\n",
       "0: Neutral       39     174        2267       337\n",
       "-1: Anti         15      11         207       955"
      ]
     },
     "execution_count": 38,
     "metadata": {},
     "output_type": "execute_result"
    }
   ],
   "source": [
    "labels = ['1: News', '2: Pro', '0: Neutral', '-1: Anti']\n",
    "pd.DataFrame(data=confusion_matrix(y_test, pred_coutv_mnb), index=labels, columns=labels)"
   ]
  },
  {
   "cell_type": "code",
   "execution_count": 39,
   "metadata": {},
   "outputs": [
    {
     "data": {
      "image/png": "[encoded data removed]",
      "text/plain": [
       "<Figure size 1080x504 with 2 Axes>"
      ]
     },
     "metadata": {},
     "output_type": "display_data"
    }
   ],
   "source": [
    "# Confusion matrix\n",
    "labels = ['1: News', '2: Pro', '0: Neutral', '-1: Anti']\n",
    "cm = confusion_matrix(y_test, pred_coutv_mnb)\n",
    "disp = ConfusionMatrixDisplay(confusion_matrix=cm, display_labels=labels)\n",
    "fig, ax = plt.subplots(figsize=(15,7))\n",
    "disp.plot(ax=ax)\n",
    "plt.show()"
   ]
  },
  {
   "cell_type": "markdown",
   "metadata": {},
   "source": [
    "<a id=\"eight\"></a>\n",
    "## 8. SAVING & EXPORTING MODEL\n",
    "<a href=#cont>Back to Table of Contents</a>"
   ]
  },
  {
   "cell_type": "code",
   "execution_count": 40,
   "metadata": {},
   "outputs": [],
   "source": [
    "tester = nb_classifier.predict(counteer_test)\n",
    "\n",
    "save_df = pd.DataFrame(tester, columns=['sentiment'])"
   ]
  },
  {
   "cell_type": "code",
   "execution_count": 41,
   "metadata": {},
   "outputs": [],
   "source": [
    "output=pd.DataFrame({'tweetid': df_test['tweetid']})\n",
    "submission=output.join(save_df)"
   ]
  },
  {
   "cell_type": "code",
   "execution_count": 42,
   "metadata": {},
   "outputs": [],
   "source": [
    "#submission.to_csv('submission.csv',index=False)"
   ]
  },
  {
   "cell_type": "code",
   "execution_count": 43,
   "metadata": {},
   "outputs": [],
   "source": [
    "# View Exported CSV file\n",
    "#submission.head(10)"
   ]
  },
  {
   "cell_type": "markdown",
   "metadata": {},
   "source": [
    "#### Applying tfidf Vectors\n",
    "To avoid Error due to DIMENSION MISMATCH, let's test our tfidf Vector Here. "
   ]
  },
  {
   "cell_type": "code",
   "execution_count": 44,
   "metadata": {},
   "outputs": [],
   "source": [
    "# Training Model with tfidf Vector\n",
    "nb_classifier.fit(tfidf_train, y_train)\n",
    "\n",
    "# Predicting for tfidf Vectorizer\n",
    "pred_tfidf_mnb = nb_classifier.predict(tfidf_test)"
   ]
  },
  {
   "cell_type": "code",
   "execution_count": 45,
   "metadata": {},
   "outputs": [
    {
     "name": "stdout",
     "output_type": "stream",
     "text": [
      "Classification Report\n",
      "              precision    recall  f1-score   support\n",
      "\n",
      "     1: News       1.00      0.02      0.03       434\n",
      "      2: Pro       1.00      0.07      0.13       782\n",
      "  0: Neutral       0.61      0.98      0.75      2817\n",
      "    -1: Anti       0.86      0.43      0.57      1188\n",
      "\n",
      "    accuracy                           0.64      5221\n",
      "   macro avg       0.87      0.37      0.37      5221\n",
      "weighted avg       0.76      0.64      0.56      5221\n",
      "\n"
     ]
    }
   ],
   "source": [
    "labels = ['1: News', '2: Pro', '0: Neutral', '-1: Anti']\n",
    "print('Classification Report')\n",
    "print(classification_report(y_test, pred_tfidf_mnb, target_names=labels))"
   ]
  },
  {
   "cell_type": "code",
   "execution_count": 46,
   "metadata": {},
   "outputs": [
    {
     "name": "stdout",
     "output_type": "stream",
     "text": [
      "Accuracy Score: 64.0%\n"
     ]
    }
   ],
   "source": [
    "print(f'Accuracy Score: {round(metrics.accuracy_score(y_test, pred_tfidf_mnb), 2) * 100}''%')"
   ]
  },
  {
   "cell_type": "markdown",
   "metadata": {},
   "source": [
    "<a id=\"nine\"></a>\n",
    "## 9. BEST MODEL EXPLANATION\n",
    "<a href=#cont>Back to Table of Contents</a>\n",
    "\n"
   ]
  },
  {
   "cell_type": "markdown",
   "metadata": {},
   "source": [
    "Clearly the Model created using CoutVectorizer is much better than that of tfidf Vectors"
   ]
  },
  {
   "cell_type": "markdown",
   "metadata": {},
   "source": [
    "<a id=\"ten\"></a>\n",
    "## 10. Conclusion\n",
    "<a href=#cont>Back to Table of Contents</a>\n",
    "\n",
    "..........................."
   ]
  },
  {
   "cell_type": "code",
   "execution_count": null,
   "metadata": {},
   "outputs": [],
   "source": []
  },
  {
   "cell_type": "markdown",
   "metadata": {},
   "source": [
    "<a id=\"eleven\"></a>\n",
    "## 11. Recommendation\n",
    "<a href=#cont>Back to Table of Contents</a>"
   ]
  },
  {
   "cell_type": "code",
   "execution_count": null,
   "metadata": {},
   "outputs": [],
   "source": []
  },
  {
   "cell_type": "markdown",
   "metadata": {},
   "source": [
    "<a id=\"ref\"></a>\n",
    "## Reference Links\n",
    "<a href=#cont>Back to Table of Contents</a>"
   ]
  },
  {
   "cell_type": "markdown",
   "metadata": {},
   "source": [
    "* [GitHub Collab Ref.](https://github.com/)\n",
    "* [Commet Collab Ref](https://www.comet.ml/) \n",
    "* [Kaggle Collab Ref](https://www.kaggle.com/c/edsa-climate-change-belief-analysis-2022/overview)"
   ]
  },
  {
   "cell_type": "code",
   "execution_count": null,
   "metadata": {},
   "outputs": [],
   "source": []
  }
 ],
 "metadata": {
  "colab": {
   "collapsed_sections": [
    "VCXae5QXU__Z",
    "wzM8TbWBU__h",
    "FvA-QZmRU__r",
    "hAUkklVXU__6",
    "rFln-NFtVAAI",
    "UZomXVzoVAAR",
    "qp-n688CVAAc",
    "tGmGzrbsVAAf",
    "oFzCFS89VABM",
    "TlO1q-zlVABg"
   ],
   "name": "3_How-do-machines-understand language.ipynb",
   "provenance": [],
   "version": "0.3.2"
  },
  "kernelspec": {
   "display_name": "Python 3 (ipykernel)",
   "language": "python",
   "name": "python3"
  },
  "language_info": {
   "codemirror_mode": {
    "name": "ipython",
    "version": 3
   },
   "file_extension": ".py",
   "mimetype": "text/x-python",
   "name": "python",
   "nbconvert_exporter": "python",
   "pygments_lexer": "ipython3",
   "version": "3.9.7"
  }
 },
 "nbformat": 4,
 "nbformat_minor": 4
}

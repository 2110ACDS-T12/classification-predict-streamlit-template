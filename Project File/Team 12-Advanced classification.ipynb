{
 "cells": [
  {
   "cell_type": "markdown",
   "id": "a32e8538",
   "metadata": {},
   "source": [
    "# <a id='0'>Team 4:Climate Change Belief Analysis 2022</a>"
   ]
  },
  {
   "cell_type": "markdown",
   "id": "d5a5dea9",
   "metadata": {},
   "source": [
    "# Table of Contents\n",
    "\n",
    "1. [Introduction](#1.-Introduction)\n",
    "\n",
    "    1.1 [Overview](##1.1-Overview)\n",
    "    \n",
    "    1.2. [Problem Statement](##1.2-Problem-Statement)\n",
    "2. [Comet Experiment](#2.-Comet-Experiment)\n",
    "3. [Loading Dependencies](#3.-Loading-Dependencies)\n",
    "4. [Exploratory Data Analysis](#4.-Exploratory-Data-Analysis)\n",
    "5. [Data Preprocessing](#5.-Data-Preprocessing)\n",
    "6. [Modelling](#6.-Modelling)\n",
    "7. [Conclusion](#7.-Conclusion)\n",
    "8. [Recommendations](#8.-Recommendations)\n",
    "\n"
   ]
  },
  {
   "cell_type": "markdown",
   "id": "45ed5d6f",
   "metadata": {},
   "source": [
    "# 1. Introduction"
   ]
  },
  {
   "cell_type": "markdown",
   "id": "922aeabd",
   "metadata": {},
   "source": [
    "   ## 1.1 Overview"
   ]
  },
  {
   "cell_type": "markdown",
   "id": "ce5772d4",
   "metadata": {},
   "source": [
    "Many companies are built around lessening one’s environmental impact or carbon footprint. They offer products and services that are environmentally friendly and sustainable, in line with their values and ideals. They would like to determine how people perceive climate change and whether or not they believe it is a real threat. This would add to their market research efforts in gauging how their product/service may be received.\n",
    "\n",
    "With this context, we are creating a Machine Learning model that is able to classify whether or not a person believes in climate change, based on their novel tweet data.\n",
    "\n",
    "Providing an accurate and robust solution to this task gives companies access to a broad base of consumer sentiment, spanning multiple demographic and geographic categories - thus increasing their insights and informing future marketing strategies.\n",
    "\n",
    "The collection of this data was funded by a Canada Foundation for Innovation JELF Grant to Chris Bauch, University of Waterloo. The dataset aggregates tweets pertaining to climate change collected between Apr 27, 2015 and Feb 21, 2018. In total, 43943 tweets were collected. Each tweet is labelled as one of the following classes:\n",
    "\n",
    "Class Description\n",
    "* 2 News: the tweet links to factual news about climate change\n",
    "* 1 Pro: the tweet supports the belief of man-made climate change\n",
    "* 0 Neutral: the tweet neither supports nor refutes the belief of man-made climate change\n",
    "* -1 Anti: the tweet does not believe in man-made climate change\n",
    "\n",
    "Variable definitions\n",
    "- sentiment: Sentiment of tweet\n",
    "- message: Tweet body\n",
    "- tweetid: Twitter unique id"
   ]
  },
  {
   "cell_type": "markdown",
   "id": "9ec65ca2",
   "metadata": {},
   "source": [
    "   ## 1.2 Problem Statement"
   ]
  },
  {
   "cell_type": "markdown",
   "id": "34e35a43",
   "metadata": {},
   "source": []
  },
  {
   "cell_type": "markdown",
   "id": "d8ba26ea",
   "metadata": {},
   "source": [
    "# 2. Comet Experiment"
   ]
  },
  {
   "cell_type": "code",
   "execution_count": 1,
   "id": "52a8ff33",
   "metadata": {},
   "outputs": [
    {
     "name": "stdout",
     "output_type": "stream",
     "text": [
      "Requirement already satisfied: comet_ml in c:\\users\\jenipher\\anaconda3\\new folder\\lib\\site-packages (3.28.2)\n",
      "Requirement already satisfied: jsonschema!=3.1.0,>=2.6.0 in c:\\users\\jenipher\\anaconda3\\new folder\\lib\\site-packages (from comet_ml) (3.2.0)\n",
      "Requirement already satisfied: semantic-version>=2.8.0 in c:\\users\\jenipher\\anaconda3\\new folder\\lib\\site-packages (from comet_ml) (2.9.0)\n",
      "Requirement already satisfied: requests>=2.18.4 in c:\\users\\jenipher\\anaconda3\\new folder\\lib\\site-packages (from comet_ml) (2.26.0)\n",
      "Requirement already satisfied: six in c:\\users\\jenipher\\anaconda3\\new folder\\lib\\site-packages (from comet_ml) (1.16.0)\n",
      "Requirement already satisfied: websocket-client>=0.55.0 in c:\\users\\jenipher\\anaconda3\\new folder\\lib\\site-packages (from comet_ml) (1.3.1)\n",
      "Requirement already satisfied: requests-toolbelt>=0.8.0 in c:\\users\\jenipher\\anaconda3\\new folder\\lib\\site-packages (from comet_ml) (0.9.1)\n",
      "Requirement already satisfied: wurlitzer>=1.0.2 in c:\\users\\jenipher\\anaconda3\\new folder\\lib\\site-packages (from comet_ml) (3.0.2)\n",
      "Requirement already satisfied: wrapt>=1.11.2 in c:\\users\\jenipher\\anaconda3\\new folder\\lib\\site-packages (from comet_ml) (1.12.1)\n",
      "Requirement already satisfied: nvidia-ml-py3>=7.352.0 in c:\\users\\jenipher\\anaconda3\\new folder\\lib\\site-packages (from comet_ml) (7.352.0)\n",
      "Requirement already satisfied: everett[ini]>=1.0.1 in c:\\users\\jenipher\\anaconda3\\new folder\\lib\\site-packages (from comet_ml) (3.0.0)\n",
      "Requirement already satisfied: dulwich!=0.20.33,>=0.20.6 in c:\\users\\jenipher\\anaconda3\\new folder\\lib\\site-packages (from comet_ml) (0.20.34)\n",
      "Requirement already satisfied: urllib3>=1.24.1 in c:\\users\\jenipher\\anaconda3\\new folder\\lib\\site-packages (from dulwich!=0.20.33,>=0.20.6->comet_ml) (1.26.7)\n",
      "Requirement already satisfied: certifi in c:\\users\\jenipher\\anaconda3\\new folder\\lib\\site-packages (from dulwich!=0.20.33,>=0.20.6->comet_ml) (2021.10.8)\n",
      "Requirement already satisfied: configobj in c:\\users\\jenipher\\anaconda3\\new folder\\lib\\site-packages (from everett[ini]>=1.0.1->comet_ml) (5.0.6)\n",
      "Requirement already satisfied: attrs>=17.4.0 in c:\\users\\jenipher\\anaconda3\\new folder\\lib\\site-packages (from jsonschema!=3.1.0,>=2.6.0->comet_ml) (21.2.0)\n",
      "Requirement already satisfied: pyrsistent>=0.14.0 in c:\\users\\jenipher\\anaconda3\\new folder\\lib\\site-packages (from jsonschema!=3.1.0,>=2.6.0->comet_ml) (0.18.0)\n",
      "Requirement already satisfied: setuptools in c:\\users\\jenipher\\anaconda3\\new folder\\lib\\site-packages (from jsonschema!=3.1.0,>=2.6.0->comet_ml) (58.0.4)\n",
      "Requirement already satisfied: charset-normalizer~=2.0.0 in c:\\users\\jenipher\\anaconda3\\new folder\\lib\\site-packages (from requests>=2.18.4->comet_ml) (2.0.4)\n",
      "Requirement already satisfied: idna<4,>=2.5 in c:\\users\\jenipher\\anaconda3\\new folder\\lib\\site-packages (from requests>=2.18.4->comet_ml) (3.2)\n"
     ]
    }
   ],
   "source": [
    "!pip3 install comet_ml"
   ]
  },
  {
   "cell_type": "code",
   "execution_count": 2,
   "id": "17521839",
   "metadata": {},
   "outputs": [
    {
     "name": "stderr",
     "output_type": "stream",
     "text": [
      "COMET WARNING: As you are running in a Jupyter environment, you will need to call `experiment.end()` when finished to ensure all metrics and code are logged before exiting.\n",
      "COMET INFO: Experiment is live on comet.ml https://www.comet.ml/jeniffermukami/team-12-advanced-classification-sentiment-analysis/ffc788fc487144ebba90a64b1fb447d5\n",
      "\n"
     ]
    }
   ],
   "source": [
    "# import comet_ml at the top of your file\n",
    "from comet_ml import Experiment\n",
    "\n",
    "# Create an experiment with your api key\n",
    "experiment = Experiment(\n",
    "    api_key=\"CL3r4k2Kr1MFTRdavZUxjrBSy\",\n",
    "    project_name=\"team-12-advanced-classification-sentiment-analysis\",\n",
    "    workspace=\"jeniffermukami\",\n",
    ")"
   ]
  },
  {
   "cell_type": "markdown",
   "id": "13b28e64",
   "metadata": {},
   "source": [
    "# 3. Loading Dependencies"
   ]
  },
  {
   "cell_type": "code",
   "execution_count": 78,
   "id": "eca404c9",
   "metadata": {},
   "outputs": [],
   "source": [
    "#import libraries\n",
    "import numpy as np\n",
    "import pandas as pd\n",
    "import matplotlib.pyplot as plt\n",
    "import seaborn as sns\n",
    "import nltk\n",
    "import re\n",
    "from nltk.tokenize import TweetTokenizer\n",
    "from nltk.tokenize import regexp_tokenize\n",
    "from sklearn.feature_extraction.text import CountVectorizer\n",
    "from sklearn.feature_extraction.text import TfidfVectorizer\n",
    "from sklearn.model_selection import train_test_split\n",
    "from nltk import RegexpTokenizer\n",
    "from sklearn.feature_extraction.text import CountVectorizer\n",
    "from collections import defaultdict\n",
    "import math\n",
    "from sklearn import metrics\n",
    "from sklearn.metrics import classification_report\n",
    "\n",
    "%matplotlib inline\n",
    "# set plot style\n",
    "sns.set()\n",
    "import warnings\n",
    "warnings.filterwarnings('ignore')"
   ]
  },
  {
   "cell_type": "code",
   "execution_count": 4,
   "id": "c138a7d9",
   "metadata": {},
   "outputs": [],
   "source": [
    "#loading the data\n",
    "df_test =pd.read_csv('test_with_no_labels.csv')\n",
    "df_tr = pd.read_csv('train.csv')"
   ]
  },
  {
   "cell_type": "code",
   "execution_count": null,
   "id": "09088b43",
   "metadata": {},
   "outputs": [],
   "source": []
  },
  {
   "cell_type": "markdown",
   "id": "25dd5164",
   "metadata": {},
   "source": [
    "# 4. Exploratory Data Analysis"
   ]
  },
  {
   "cell_type": "code",
   "execution_count": 5,
   "id": "52e189d3",
   "metadata": {},
   "outputs": [
    {
     "data": {
      "text/html": [
       "<div>\n",
       "<style scoped>\n",
       "    .dataframe tbody tr th:only-of-type {\n",
       "        vertical-align: middle;\n",
       "    }\n",
       "\n",
       "    .dataframe tbody tr th {\n",
       "        vertical-align: top;\n",
       "    }\n",
       "\n",
       "    .dataframe thead th {\n",
       "        text-align: right;\n",
       "    }\n",
       "</style>\n",
       "<table border=\"1\" class=\"dataframe\">\n",
       "  <thead>\n",
       "    <tr style=\"text-align: right;\">\n",
       "      <th></th>\n",
       "      <th>sentiment</th>\n",
       "      <th>message</th>\n",
       "      <th>tweetid</th>\n",
       "    </tr>\n",
       "  </thead>\n",
       "  <tbody>\n",
       "    <tr>\n",
       "      <th>0</th>\n",
       "      <td>1</td>\n",
       "      <td>PolySciMajor EPA chief doesn't think carbon di...</td>\n",
       "      <td>625221</td>\n",
       "    </tr>\n",
       "    <tr>\n",
       "      <th>1</th>\n",
       "      <td>1</td>\n",
       "      <td>It's not like we lack evidence of anthropogeni...</td>\n",
       "      <td>126103</td>\n",
       "    </tr>\n",
       "    <tr>\n",
       "      <th>2</th>\n",
       "      <td>2</td>\n",
       "      <td>RT @RawStory: Researchers say we have three ye...</td>\n",
       "      <td>698562</td>\n",
       "    </tr>\n",
       "    <tr>\n",
       "      <th>3</th>\n",
       "      <td>1</td>\n",
       "      <td>#TodayinMaker# WIRED : 2016 was a pivotal year...</td>\n",
       "      <td>573736</td>\n",
       "    </tr>\n",
       "    <tr>\n",
       "      <th>4</th>\n",
       "      <td>1</td>\n",
       "      <td>RT @SoyNovioDeTodas: It's 2016, and a racist, ...</td>\n",
       "      <td>466954</td>\n",
       "    </tr>\n",
       "  </tbody>\n",
       "</table>\n",
       "</div>"
      ],
      "text/plain": [
       "   sentiment                                            message  tweetid\n",
       "0          1  PolySciMajor EPA chief doesn't think carbon di...   625221\n",
       "1          1  It's not like we lack evidence of anthropogeni...   126103\n",
       "2          2  RT @RawStory: Researchers say we have three ye...   698562\n",
       "3          1  #TodayinMaker# WIRED : 2016 was a pivotal year...   573736\n",
       "4          1  RT @SoyNovioDeTodas: It's 2016, and a racist, ...   466954"
      ]
     },
     "execution_count": 5,
     "metadata": {},
     "output_type": "execute_result"
    }
   ],
   "source": [
    "df_tr.head()"
   ]
  },
  {
   "cell_type": "markdown",
   "id": "ac827859",
   "metadata": {},
   "source": [
    "Looking at the top 5 rows of our data we can see all our features as well as the type of data we are working with.\n",
    "\n",
    "Our features are:\n",
    "  -sentiment\n",
    "  -message\n",
    "  \n",
    "   -tweet id"
   ]
  },
  {
   "cell_type": "code",
   "execution_count": 6,
   "id": "c02211cc",
   "metadata": {},
   "outputs": [
    {
     "data": {
      "text/plain": [
       "(15819, 3)"
      ]
     },
     "execution_count": 6,
     "metadata": {},
     "output_type": "execute_result"
    }
   ],
   "source": [
    "df_tr.shape"
   ]
  },
  {
   "cell_type": "markdown",
   "id": "d536991a",
   "metadata": {},
   "source": [
    "The shape command shows that we have 15819 rows of data and 3 features."
   ]
  },
  {
   "cell_type": "code",
   "execution_count": 7,
   "id": "979202a6",
   "metadata": {},
   "outputs": [
    {
     "name": "stdout",
     "output_type": "stream",
     "text": [
      "<class 'pandas.core.frame.DataFrame'>\n",
      "RangeIndex: 15819 entries, 0 to 15818\n",
      "Data columns (total 3 columns):\n",
      " #   Column     Non-Null Count  Dtype \n",
      "---  ------     --------------  ----- \n",
      " 0   sentiment  15819 non-null  int64 \n",
      " 1   message    15819 non-null  object\n",
      " 2   tweetid    15819 non-null  int64 \n",
      "dtypes: int64(2), object(1)\n",
      "memory usage: 370.9+ KB\n"
     ]
    }
   ],
   "source": [
    "df_tr.info()"
   ]
  },
  {
   "cell_type": "markdown",
   "id": "3ea80b6f",
   "metadata": {},
   "source": [
    "The info command confrirms our categorical and numericalfeatures,and as expected the message feature is categorical while the tweetid and sentiment are numerical. "
   ]
  },
  {
   "cell_type": "markdown",
   "id": "ab08844f",
   "metadata": {},
   "source": [
    "We will now check for  the null values appearing in each feature"
   ]
  },
  {
   "cell_type": "code",
   "execution_count": 8,
   "id": "6350d8f2",
   "metadata": {},
   "outputs": [
    {
     "data": {
      "text/plain": [
       "sentiment    0\n",
       "message      0\n",
       "tweetid      0\n",
       "dtype: int64"
      ]
     },
     "execution_count": 8,
     "metadata": {},
     "output_type": "execute_result"
    }
   ],
   "source": [
    "df_tr.isnull().sum()"
   ]
  },
  {
   "cell_type": "markdown",
   "id": "cb7865d1",
   "metadata": {},
   "source": [
    "We have no null values in the data"
   ]
  },
  {
   "cell_type": "markdown",
   "id": "61dc02ba",
   "metadata": {},
   "source": [
    "we will now print a list of all sentiment types we have in our data."
   ]
  },
  {
   "cell_type": "code",
   "execution_count": 10,
   "id": "d2ccc42d",
   "metadata": {},
   "outputs": [
    {
     "name": "stdout",
     "output_type": "stream",
     "text": [
      "[1, 2, 0, -1]\n"
     ]
    }
   ],
   "source": [
    "type_labels = list(df_tr.sentiment.unique())\n",
    "print(type_labels)"
   ]
  },
  {
   "cell_type": "markdown",
   "id": "e5a9a268",
   "metadata": {},
   "source": [
    "Let's look at how many data samples we have for each of the different sentiment types"
   ]
  },
  {
   "cell_type": "code",
   "execution_count": 11,
   "id": "00cfa411",
   "metadata": {},
   "outputs": [
    {
     "data": {
      "image/png": "[encoded data removed]",
      "text/plain": [
       "<Figure size 432x288 with 1 Axes>"
      ]
     },
     "metadata": {},
     "output_type": "display_data"
    }
   ],
   "source": [
    "df_tr['sentiment'].value_counts().plot(kind = 'bar')\n",
    "plt.show()"
   ]
  },
  {
   "cell_type": "markdown",
   "id": "38c972f1",
   "metadata": {},
   "source": [
    "From the bar graph above it can be seen that most people believe in climate change,while only a few fail to believe in man-made climate change.Our data is imbalanced which is a problem because algorithms wants balanced data,unequal distribution means the classifier is exposed to far more observation from class label 1 and far less observations from classlabel -1 ,This will mea hat the classifier will be better in making predictions in tweet messages from class label 1than those in class label-1."
   ]
  },
  {
   "cell_type": "code",
   "execution_count": null,
   "id": "fdc0b7f9",
   "metadata": {},
   "outputs": [],
   "source": []
  },
  {
   "cell_type": "markdown",
   "id": "6b16a92b",
   "metadata": {},
   "source": [
    "### Key insights from the EDA"
   ]
  },
  {
   "cell_type": "code",
   "execution_count": null,
   "id": "85371872",
   "metadata": {},
   "outputs": [],
   "source": []
  },
  {
   "cell_type": "code",
   "execution_count": null,
   "id": "6bb179ca",
   "metadata": {},
   "outputs": [],
   "source": []
  },
  {
   "cell_type": "markdown",
   "id": "328de5a5",
   "metadata": {},
   "source": [
    "# 5. Data Preprocessing"
   ]
  },
  {
   "cell_type": "markdown",
   "id": "72766d7b",
   "metadata": {},
   "source": [
    "__Preprocessing for the train dataset__"
   ]
  },
  {
   "cell_type": "markdown",
   "id": "3e2d1dab",
   "metadata": {},
   "source": [
    "## Text Cleaning\n",
    "\n",
    "### Removing Noise"
   ]
  },
  {
   "cell_type": "markdown",
   "id": "451d241e",
   "metadata": {},
   "source": [
    "For our data set we will follow the following steps \n",
    " * removing Removing hashtags, mentions, and links\n",
    " * making everything lower case\n",
    " * removing punctuation"
   ]
  },
  {
   "cell_type": "code",
   "execution_count": 13,
   "id": "a1ca8cc8",
   "metadata": {},
   "outputs": [
    {
     "data": {
      "text/html": [
       "<div>\n",
       "<style scoped>\n",
       "    .dataframe tbody tr th:only-of-type {\n",
       "        vertical-align: middle;\n",
       "    }\n",
       "\n",
       "    .dataframe tbody tr th {\n",
       "        vertical-align: top;\n",
       "    }\n",
       "\n",
       "    .dataframe thead th {\n",
       "        text-align: right;\n",
       "    }\n",
       "</style>\n",
       "<table border=\"1\" class=\"dataframe\">\n",
       "  <thead>\n",
       "    <tr style=\"text-align: right;\">\n",
       "      <th></th>\n",
       "      <th>sentiment</th>\n",
       "      <th>message</th>\n",
       "      <th>tweetid</th>\n",
       "    </tr>\n",
       "  </thead>\n",
       "  <tbody>\n",
       "    <tr>\n",
       "      <th>0</th>\n",
       "      <td>1</td>\n",
       "      <td>PolySciMajor EPA chief doesn't think carbon di...</td>\n",
       "      <td>625221</td>\n",
       "    </tr>\n",
       "    <tr>\n",
       "      <th>1</th>\n",
       "      <td>1</td>\n",
       "      <td>It's not like we lack evidence of anthropogeni...</td>\n",
       "      <td>126103</td>\n",
       "    </tr>\n",
       "    <tr>\n",
       "      <th>2</th>\n",
       "      <td>2</td>\n",
       "      <td>RT @RawStory: Researchers say we have three ye...</td>\n",
       "      <td>698562</td>\n",
       "    </tr>\n",
       "    <tr>\n",
       "      <th>3</th>\n",
       "      <td>1</td>\n",
       "      <td>#TodayinMaker# WIRED : 2016 was a pivotal year...</td>\n",
       "      <td>573736</td>\n",
       "    </tr>\n",
       "    <tr>\n",
       "      <th>4</th>\n",
       "      <td>1</td>\n",
       "      <td>RT @SoyNovioDeTodas: It's 2016, and a racist, ...</td>\n",
       "      <td>466954</td>\n",
       "    </tr>\n",
       "    <tr>\n",
       "      <th>...</th>\n",
       "      <td>...</td>\n",
       "      <td>...</td>\n",
       "      <td>...</td>\n",
       "    </tr>\n",
       "    <tr>\n",
       "      <th>15814</th>\n",
       "      <td>1</td>\n",
       "      <td>RT @ezlusztig: They took down the material on ...</td>\n",
       "      <td>22001</td>\n",
       "    </tr>\n",
       "    <tr>\n",
       "      <th>15815</th>\n",
       "      <td>2</td>\n",
       "      <td>RT @washingtonpost: How climate change could b...</td>\n",
       "      <td>17856</td>\n",
       "    </tr>\n",
       "    <tr>\n",
       "      <th>15816</th>\n",
       "      <td>0</td>\n",
       "      <td>notiven: RT: nytimesworld :What does Trump act...</td>\n",
       "      <td>384248</td>\n",
       "    </tr>\n",
       "    <tr>\n",
       "      <th>15817</th>\n",
       "      <td>-1</td>\n",
       "      <td>RT @sara8smiles: Hey liberals the climate chan...</td>\n",
       "      <td>819732</td>\n",
       "    </tr>\n",
       "    <tr>\n",
       "      <th>15818</th>\n",
       "      <td>0</td>\n",
       "      <td>RT @Chet_Cannon: .@kurteichenwald's 'climate c...</td>\n",
       "      <td>806319</td>\n",
       "    </tr>\n",
       "  </tbody>\n",
       "</table>\n",
       "<p>15819 rows × 3 columns</p>\n",
       "</div>"
      ],
      "text/plain": [
       "       sentiment                                            message  tweetid\n",
       "0              1  PolySciMajor EPA chief doesn't think carbon di...   625221\n",
       "1              1  It's not like we lack evidence of anthropogeni...   126103\n",
       "2              2  RT @RawStory: Researchers say we have three ye...   698562\n",
       "3              1  #TodayinMaker# WIRED : 2016 was a pivotal year...   573736\n",
       "4              1  RT @SoyNovioDeTodas: It's 2016, and a racist, ...   466954\n",
       "...          ...                                                ...      ...\n",
       "15814          1  RT @ezlusztig: They took down the material on ...    22001\n",
       "15815          2  RT @washingtonpost: How climate change could b...    17856\n",
       "15816          0  notiven: RT: nytimesworld :What does Trump act...   384248\n",
       "15817         -1  RT @sara8smiles: Hey liberals the climate chan...   819732\n",
       "15818          0  RT @Chet_Cannon: .@kurteichenwald's 'climate c...   806319\n",
       "\n",
       "[15819 rows x 3 columns]"
      ]
     },
     "execution_count": 13,
     "metadata": {},
     "output_type": "execute_result"
    }
   ],
   "source": [
    "df_train =df_tr\n",
    "df_train"
   ]
  },
  {
   "cell_type": "markdown",
   "id": "7502c96b",
   "metadata": {},
   "source": [
    "Removing url"
   ]
  },
  {
   "cell_type": "code",
   "execution_count": 14,
   "id": "580c8303",
   "metadata": {},
   "outputs": [],
   "source": [
    "pattern_url = r'http[s]?://(?:[A-Za-z]|[0-9]|[$-_@.&+]|[!*\\(\\),]|(?:%[0-9A-Fa-f][0-9A-Fa-f]))+'\n",
    "subs_url = r'url-web'\n",
    "df_train['message'] = df_train['message'].replace(to_replace = pattern_url, value = subs_url, regex = True)"
   ]
  },
  {
   "cell_type": "markdown",
   "id": "22b06f20",
   "metadata": {},
   "source": [
    "remove mentions"
   ]
  },
  {
   "cell_type": "code",
   "execution_count": null,
   "id": "94cfe95e",
   "metadata": {},
   "outputs": [],
   "source": []
  },
  {
   "cell_type": "code",
   "execution_count": 15,
   "id": "91d3d6e6",
   "metadata": {},
   "outputs": [
    {
     "data": {
      "text/plain": [
       "0        PolySciMajor EPA chief doesn't think carbon di...\n",
       "1        It's not like we lack evidence of anthropogeni...\n",
       "2        RT @RawStory: Researchers say we have three ye...\n",
       "3        #TodayinMaker# WIRED : 2016 was a pivotal year...\n",
       "4        RT @SoyNovioDeTodas: It's 2016, and a racist, ...\n",
       "                               ...                        \n",
       "15814    RT @ezlusztig: They took down the material on ...\n",
       "15815    RT @washingtonpost: How climate change could b...\n",
       "15816    notiven: RT: nytimesworld :What does Trump act...\n",
       "15817    RT @sara8smiles: Hey liberals the climate chan...\n",
       "15818    RT @Chet_Cannon: .@kurteichenwald's 'climate c...\n",
       "Name: message, Length: 15819, dtype: object"
      ]
     },
     "execution_count": 15,
     "metadata": {},
     "output_type": "execute_result"
    }
   ],
   "source": [
    "df_train['message'] "
   ]
  },
  {
   "cell_type": "markdown",
   "id": "43f20a41",
   "metadata": {},
   "source": [
    "Apply the tweet tokenization"
   ]
  },
  {
   "cell_type": "code",
   "execution_count": 17,
   "id": "476b2281",
   "metadata": {},
   "outputs": [],
   "source": [
    "#tt = TweetTokenizer()\n",
    "#df_train['message'].apply(tt.tokenize)"
   ]
  },
  {
   "cell_type": "code",
   "execution_count": null,
   "id": "49881aac",
   "metadata": {},
   "outputs": [],
   "source": []
  },
  {
   "cell_type": "code",
   "execution_count": null,
   "id": "ab94e11f",
   "metadata": {},
   "outputs": [],
   "source": []
  },
  {
   "cell_type": "markdown",
   "id": "ee2d4ee0",
   "metadata": {},
   "source": [
    "making everything lowercase "
   ]
  },
  {
   "cell_type": "code",
   "execution_count": 18,
   "id": "87e2adbf",
   "metadata": {},
   "outputs": [],
   "source": [
    "df_train['message'] = df_train['message'].str.lower()"
   ]
  },
  {
   "cell_type": "markdown",
   "id": "9d159a37",
   "metadata": {},
   "source": [
    "Removing punctuation."
   ]
  },
  {
   "cell_type": "code",
   "execution_count": 19,
   "id": "6a35e479",
   "metadata": {},
   "outputs": [
    {
     "name": "stdout",
     "output_type": "stream",
     "text": [
      "!\"#$%&'()*+,-./:;<=>?@[\\]^_`{|}~\n"
     ]
    }
   ],
   "source": [
    "import string\n",
    "print(string.punctuation)"
   ]
  },
  {
   "cell_type": "code",
   "execution_count": 20,
   "id": "754a4aec",
   "metadata": {},
   "outputs": [],
   "source": [
    "def remove_punctuation(post):\n",
    "    return ''.join([l for l in post if l not in string.punctuation])"
   ]
  },
  {
   "cell_type": "code",
   "execution_count": 21,
   "id": "8b4faaac",
   "metadata": {},
   "outputs": [],
   "source": [
    "df_train['message'] = df_train['message'].apply(remove_punctuation)\n"
   ]
  },
  {
   "cell_type": "code",
   "execution_count": 22,
   "id": "6766d82b",
   "metadata": {},
   "outputs": [
    {
     "data": {
      "text/html": [
       "<div>\n",
       "<style scoped>\n",
       "    .dataframe tbody tr th:only-of-type {\n",
       "        vertical-align: middle;\n",
       "    }\n",
       "\n",
       "    .dataframe tbody tr th {\n",
       "        vertical-align: top;\n",
       "    }\n",
       "\n",
       "    .dataframe thead th {\n",
       "        text-align: right;\n",
       "    }\n",
       "</style>\n",
       "<table border=\"1\" class=\"dataframe\">\n",
       "  <thead>\n",
       "    <tr style=\"text-align: right;\">\n",
       "      <th></th>\n",
       "      <th>sentiment</th>\n",
       "      <th>message</th>\n",
       "      <th>tweetid</th>\n",
       "    </tr>\n",
       "  </thead>\n",
       "  <tbody>\n",
       "    <tr>\n",
       "      <th>0</th>\n",
       "      <td>1</td>\n",
       "      <td>polyscimajor epa chief doesnt think carbon dio...</td>\n",
       "      <td>625221</td>\n",
       "    </tr>\n",
       "    <tr>\n",
       "      <th>1</th>\n",
       "      <td>1</td>\n",
       "      <td>its not like we lack evidence of anthropogenic...</td>\n",
       "      <td>126103</td>\n",
       "    </tr>\n",
       "    <tr>\n",
       "      <th>2</th>\n",
       "      <td>2</td>\n",
       "      <td>rt rawstory researchers say we have three year...</td>\n",
       "      <td>698562</td>\n",
       "    </tr>\n",
       "    <tr>\n",
       "      <th>3</th>\n",
       "      <td>1</td>\n",
       "      <td>todayinmaker wired  2016 was a pivotal year in...</td>\n",
       "      <td>573736</td>\n",
       "    </tr>\n",
       "    <tr>\n",
       "      <th>4</th>\n",
       "      <td>1</td>\n",
       "      <td>rt soynoviodetodas its 2016 and a racist sexis...</td>\n",
       "      <td>466954</td>\n",
       "    </tr>\n",
       "    <tr>\n",
       "      <th>...</th>\n",
       "      <td>...</td>\n",
       "      <td>...</td>\n",
       "      <td>...</td>\n",
       "    </tr>\n",
       "    <tr>\n",
       "      <th>15814</th>\n",
       "      <td>1</td>\n",
       "      <td>rt ezlusztig they took down the material on gl...</td>\n",
       "      <td>22001</td>\n",
       "    </tr>\n",
       "    <tr>\n",
       "      <th>15815</th>\n",
       "      <td>2</td>\n",
       "      <td>rt washingtonpost how climate change could be ...</td>\n",
       "      <td>17856</td>\n",
       "    </tr>\n",
       "    <tr>\n",
       "      <th>15816</th>\n",
       "      <td>0</td>\n",
       "      <td>notiven rt nytimesworld what does trump actual...</td>\n",
       "      <td>384248</td>\n",
       "    </tr>\n",
       "    <tr>\n",
       "      <th>15817</th>\n",
       "      <td>-1</td>\n",
       "      <td>rt sara8smiles hey liberals the climate change...</td>\n",
       "      <td>819732</td>\n",
       "    </tr>\n",
       "    <tr>\n",
       "      <th>15818</th>\n",
       "      <td>0</td>\n",
       "      <td>rt chetcannon kurteichenwalds climate change e...</td>\n",
       "      <td>806319</td>\n",
       "    </tr>\n",
       "  </tbody>\n",
       "</table>\n",
       "<p>15819 rows × 3 columns</p>\n",
       "</div>"
      ],
      "text/plain": [
       "       sentiment                                            message  tweetid\n",
       "0              1  polyscimajor epa chief doesnt think carbon dio...   625221\n",
       "1              1  its not like we lack evidence of anthropogenic...   126103\n",
       "2              2  rt rawstory researchers say we have three year...   698562\n",
       "3              1  todayinmaker wired  2016 was a pivotal year in...   573736\n",
       "4              1  rt soynoviodetodas its 2016 and a racist sexis...   466954\n",
       "...          ...                                                ...      ...\n",
       "15814          1  rt ezlusztig they took down the material on gl...    22001\n",
       "15815          2  rt washingtonpost how climate change could be ...    17856\n",
       "15816          0  notiven rt nytimesworld what does trump actual...   384248\n",
       "15817         -1  rt sara8smiles hey liberals the climate change...   819732\n",
       "15818          0  rt chetcannon kurteichenwalds climate change e...   806319\n",
       "\n",
       "[15819 rows x 3 columns]"
      ]
     },
     "execution_count": 22,
     "metadata": {},
     "output_type": "execute_result"
    }
   ],
   "source": [
    "df_train"
   ]
  },
  {
   "cell_type": "markdown",
   "id": "c8bd735d",
   "metadata": {},
   "source": [
    "__Preprocessing for  the test dataset__"
   ]
  },
  {
   "cell_type": "code",
   "execution_count": 23,
   "id": "0e1ec1e1",
   "metadata": {},
   "outputs": [
    {
     "data": {
      "text/html": [
       "<div>\n",
       "<style scoped>\n",
       "    .dataframe tbody tr th:only-of-type {\n",
       "        vertical-align: middle;\n",
       "    }\n",
       "\n",
       "    .dataframe tbody tr th {\n",
       "        vertical-align: top;\n",
       "    }\n",
       "\n",
       "    .dataframe thead th {\n",
       "        text-align: right;\n",
       "    }\n",
       "</style>\n",
       "<table border=\"1\" class=\"dataframe\">\n",
       "  <thead>\n",
       "    <tr style=\"text-align: right;\">\n",
       "      <th></th>\n",
       "      <th>message</th>\n",
       "      <th>tweetid</th>\n",
       "    </tr>\n",
       "  </thead>\n",
       "  <tbody>\n",
       "    <tr>\n",
       "      <th>0</th>\n",
       "      <td>Europe will now be looking to China to make su...</td>\n",
       "      <td>169760</td>\n",
       "    </tr>\n",
       "    <tr>\n",
       "      <th>1</th>\n",
       "      <td>Combine this with the polling of staffers re c...</td>\n",
       "      <td>35326</td>\n",
       "    </tr>\n",
       "    <tr>\n",
       "      <th>2</th>\n",
       "      <td>The scary, unimpeachable evidence that climate...</td>\n",
       "      <td>224985</td>\n",
       "    </tr>\n",
       "    <tr>\n",
       "      <th>3</th>\n",
       "      <td>@Karoli @morgfair @OsborneInk @dailykos \\r\\nPu...</td>\n",
       "      <td>476263</td>\n",
       "    </tr>\n",
       "    <tr>\n",
       "      <th>4</th>\n",
       "      <td>RT @FakeWillMoore: 'Female orgasms cause globa...</td>\n",
       "      <td>872928</td>\n",
       "    </tr>\n",
       "    <tr>\n",
       "      <th>...</th>\n",
       "      <td>...</td>\n",
       "      <td>...</td>\n",
       "    </tr>\n",
       "    <tr>\n",
       "      <th>10541</th>\n",
       "      <td>RT @BrittanyBohrer: Brb, writing a poem about ...</td>\n",
       "      <td>895714</td>\n",
       "    </tr>\n",
       "    <tr>\n",
       "      <th>10542</th>\n",
       "      <td>2016: the year climate change came home: Durin...</td>\n",
       "      <td>875167</td>\n",
       "    </tr>\n",
       "    <tr>\n",
       "      <th>10543</th>\n",
       "      <td>RT @loop_vanuatu: Pacific countries positive a...</td>\n",
       "      <td>78329</td>\n",
       "    </tr>\n",
       "    <tr>\n",
       "      <th>10544</th>\n",
       "      <td>RT @xanria_00018: You’re so hot, you must be t...</td>\n",
       "      <td>867455</td>\n",
       "    </tr>\n",
       "    <tr>\n",
       "      <th>10545</th>\n",
       "      <td>RT @chloebalaoing: climate change is a global ...</td>\n",
       "      <td>470892</td>\n",
       "    </tr>\n",
       "  </tbody>\n",
       "</table>\n",
       "<p>10546 rows × 2 columns</p>\n",
       "</div>"
      ],
      "text/plain": [
       "                                                 message  tweetid\n",
       "0      Europe will now be looking to China to make su...   169760\n",
       "1      Combine this with the polling of staffers re c...    35326\n",
       "2      The scary, unimpeachable evidence that climate...   224985\n",
       "3      @Karoli @morgfair @OsborneInk @dailykos \\r\\nPu...   476263\n",
       "4      RT @FakeWillMoore: 'Female orgasms cause globa...   872928\n",
       "...                                                  ...      ...\n",
       "10541  RT @BrittanyBohrer: Brb, writing a poem about ...   895714\n",
       "10542  2016: the year climate change came home: Durin...   875167\n",
       "10543  RT @loop_vanuatu: Pacific countries positive a...    78329\n",
       "10544  RT @xanria_00018: You’re so hot, you must be t...   867455\n",
       "10545  RT @chloebalaoing: climate change is a global ...   470892\n",
       "\n",
       "[10546 rows x 2 columns]"
      ]
     },
     "execution_count": 23,
     "metadata": {},
     "output_type": "execute_result"
    }
   ],
   "source": [
    "df_test =pd.read_csv('test_with_no_labels.csv')\n",
    "df_test"
   ]
  },
  {
   "cell_type": "code",
   "execution_count": 24,
   "id": "a08de3e9",
   "metadata": {},
   "outputs": [],
   "source": [
    "pattern_url = r'http[s]?://(?:[A-Za-z]|[0-9]|[$-_@.&+]|[!*\\(\\),]|(?:%[0-9A-Fa-f][0-9A-Fa-f]))+'\n",
    "subs_url = r'url-web'\n",
    "df_test['message'] = df_test['message'].replace(to_replace = pattern_url, value = subs_url, regex = True)"
   ]
  },
  {
   "cell_type": "code",
   "execution_count": 26,
   "id": "31ed476d",
   "metadata": {},
   "outputs": [],
   "source": [
    "#tt = TweetTokenizer()\n",
    "#df_test['message'].apply(tt.tokenize)"
   ]
  },
  {
   "cell_type": "code",
   "execution_count": 27,
   "id": "27eb0f6f",
   "metadata": {},
   "outputs": [],
   "source": [
    "df_test['message'] = df_test['message'].str.lower()"
   ]
  },
  {
   "cell_type": "code",
   "execution_count": 28,
   "id": "5aab26ac",
   "metadata": {},
   "outputs": [
    {
     "name": "stdout",
     "output_type": "stream",
     "text": [
      "!\"#$%&'()*+,-./:;<=>?@[\\]^_`{|}~\n"
     ]
    }
   ],
   "source": [
    "import string\n",
    "print(string.punctuation)"
   ]
  },
  {
   "cell_type": "code",
   "execution_count": 29,
   "id": "974e1e44",
   "metadata": {},
   "outputs": [],
   "source": [
    "def remove_punctuation(post):\n",
    "    return ''.join([l for l in post if l not in string.punctuation])"
   ]
  },
  {
   "cell_type": "code",
   "execution_count": 30,
   "id": "c8a68b39",
   "metadata": {},
   "outputs": [],
   "source": [
    "df_test['message'] = df_test['message'].apply(remove_punctuation)\n"
   ]
  },
  {
   "cell_type": "code",
   "execution_count": null,
   "id": "00ff8629",
   "metadata": {},
   "outputs": [],
   "source": []
  },
  {
   "cell_type": "markdown",
   "id": "cad85c92",
   "metadata": {},
   "source": [
    "__initialize the count vectorizer__"
   ]
  },
  {
   "cell_type": "code",
   "execution_count": 31,
   "id": "0fe1197e",
   "metadata": {},
   "outputs": [],
   "source": [
    "#initilize count vectorizer\n",
    "y = df_train['sentiment']\n",
    "X_train,X_test,y_train,y_test =train_test_split(df_train['message'],y,test_size=0.33,random_state = 53)\n",
    "betterVect = CountVectorizer(stop_words='english', \n",
    "                             min_df=2, \n",
    "                             max_df=0.5, \n",
    "                             ngram_range=(1, 1))\n"
   ]
  },
  {
   "cell_type": "code",
   "execution_count": 32,
   "id": "4d8f5672",
   "metadata": {},
   "outputs": [],
   "source": [
    "#transform the training data using only the 'message' column values\n",
    "count_train =betterVect.fit_transform(X_train.values)"
   ]
  },
  {
   "cell_type": "code",
   "execution_count": 33,
   "id": "5a4aea29",
   "metadata": {},
   "outputs": [],
   "source": [
    "#transform the test data using only the 'message' column values\n",
    "count_test=betterVect.transform(X_test.values)\n",
    "counteer_test = betterVect.transform(df_test['message'])\n"
   ]
  },
  {
   "cell_type": "code",
   "execution_count": 34,
   "id": "fe86636d",
   "metadata": {},
   "outputs": [
    {
     "name": "stdout",
     "output_type": "stream",
     "text": [
      "['10', '100', '1000', '100000', '1000s', '101', '105', '109c', '10yrs', '11', '110', '115', '12', '125', '13', '14', '145', '15', '150', '15c', '16', '17', '170', '175', '18', '19', '1957', '1963', '1968', '1970s', '1990', '1990s', '1991', '1followernodad', '1o5c', '1st', '1starfleetcadet', '20', '200', '2000', '200000', '2008', '2009', '200millionyearold', '2010', '20102017', '2011', '2012', '2013', '2014', '2015', '2016', '2016s', '2017', '2018', '202', '2020', '2030', '2045', '2050', '21', '2100', '21cf', '21logician', '21st', '22', '23', '2322', '24', '25', '25th', '26', '27', '28', '280', '29', '2c', '2day', '2nd', '30', '300000', '32', '320', '3200', '320000', '33', '34', '35', '350', '37', '3novices', '3rd', '40', '400', '44', '45', '46', '48', '4corners', '50']\n"
     ]
    }
   ],
   "source": [
    "#print the first 10 features of the count_vectorizer\n",
    "print(betterVect.get_feature_names()[:100])"
   ]
  },
  {
   "cell_type": "code",
   "execution_count": null,
   "id": "263dd979",
   "metadata": {},
   "outputs": [],
   "source": []
  },
  {
   "cell_type": "markdown",
   "id": "7ae6c141",
   "metadata": {},
   "source": [
    "__TF-IDF Vectorizer__"
   ]
  },
  {
   "cell_type": "markdown",
   "id": "e368f85f",
   "metadata": {},
   "source": [
    "TF-IDF stands for Term Frequency-Inverse Document Frequency.It is a commonly used NLP model that helps you determine the most important words in each document in the corpus.The idea behind TFIDF is that each corpus may have shared words beyond just the stopwords.These common words are like stop words and should be removed or atleast downweighted in importance."
   ]
  },
  {
   "cell_type": "code",
   "execution_count": 35,
   "id": "2b337a2e",
   "metadata": {},
   "outputs": [],
   "source": [
    "tfidf=TfidfVectorizer(stop_words='english',max_df =0.7)"
   ]
  },
  {
   "cell_type": "code",
   "execution_count": 36,
   "id": "13a45ca6",
   "metadata": {},
   "outputs": [],
   "source": [
    "#Transform training data\n",
    "tfidf_train =tfidf.fit_transform(X_train)"
   ]
  },
  {
   "cell_type": "code",
   "execution_count": 37,
   "id": "7c99e49d",
   "metadata": {},
   "outputs": [],
   "source": [
    "tfidf_test =tfidf.transform(X_test)"
   ]
  },
  {
   "cell_type": "code",
   "execution_count": 38,
   "id": "7e2be2d0",
   "metadata": {},
   "outputs": [
    {
     "name": "stdout",
     "output_type": "stream",
     "text": [
      "['000005', '009barca', '010536', '012', '02', '02cents0', '0519am', '07', '094', '0bamas', '0c', '0x526978', '10', '100', '1000', '100000', '10000yr', '1000s', '1001', '100daysofshame', '100h', '100isnow', '100s', '100th', '100x', '100yearold', '101', '1010', '105', '106', '10950', '109c', '10c', '10most', '10yrs', '10ã', '11', '110', '1100', '1110c', '1111', '1123', '1130', '114', '115', '11500', '11pm', '11th', '12', '1200', '120k', '1224', '125', '12am', '12balboa', '12th', '13', '130', '1306chomley', '131', '13690', '14', '140', '1400', '140b', '1430', '1431', '145', '1488ã', '15', '150', '15000', '150000', '15c', '15mm', '15th', '15ã', '16', '160', '164', '1645ã', '16yearold', '17', '170', '170billion', '17352', '175', '1778', '17mohdsajid', '17posc225', '17year', '18', '18001930', '180bn', '182', '1840s', '1856', '1875', '18yearlong', '19']\n"
     ]
    }
   ],
   "source": [
    "print(tfidf.get_feature_names()[:100])"
   ]
  },
  {
   "cell_type": "code",
   "execution_count": 39,
   "id": "b4d72639",
   "metadata": {},
   "outputs": [
    {
     "name": "stdout",
     "output_type": "stream",
     "text": [
      "[[0. 0. 0. ... 0. 0. 0.]\n",
      " [0. 0. 0. ... 0. 0. 0.]\n",
      " [0. 0. 0. ... 0. 0. 0.]\n",
      " ...\n",
      " [0. 0. 0. ... 0. 0. 0.]\n",
      " [0. 0. 0. ... 0. 0. 0.]\n",
      " [0. 0. 0. ... 0. 0. 0.]]\n"
     ]
    }
   ],
   "source": [
    "#print the first 20 vectors of tfidf training data\n",
    "print(tfidf_train.A[:10])"
   ]
  },
  {
   "cell_type": "code",
   "execution_count": 40,
   "id": "298dc15e",
   "metadata": {},
   "outputs": [
    {
     "name": "stdout",
     "output_type": "stream",
     "text": [
      "   000005  009barca  010536  012   02  02cents0  0519am   07  094  0bamas  \\\n",
      "0     0.0       0.0     0.0  0.0  0.0       0.0     0.0  0.0  0.0     0.0   \n",
      "1     0.0       0.0     0.0  0.0  0.0       0.0     0.0  0.0  0.0     0.0   \n",
      "2     0.0       0.0     0.0  0.0  0.0       0.0     0.0  0.0  0.0     0.0   \n",
      "3     0.0       0.0     0.0  0.0  0.0       0.0     0.0  0.0  0.0     0.0   \n",
      "4     0.0       0.0     0.0  0.0  0.0       0.0     0.0  0.0  0.0     0.0   \n",
      "\n",
      "   ...   เล  และ   ได  と通知した  どうなる米国  スタリん時代のソ連や毛沢東の文化大革命並のサイエンスに政治的介入だ  \\\n",
      "0  ...  0.0  0.0  0.0    0.0     0.0                                0.0   \n",
      "1  ...  0.0  0.0  0.0    0.0     0.0                                0.0   \n",
      "2  ...  0.0  0.0  0.0    0.0     0.0                                0.0   \n",
      "3  ...  0.0  0.0  0.0    0.0     0.0                                0.0   \n",
      "4  ...  0.0  0.0  0.0    0.0     0.0                                0.0   \n",
      "\n",
      "   地球温暖化会議  気候変動との表現を削除しないと予算を貰えない  申請書のアブストラクトに  米国政府はある研究者に連絡して  \n",
      "0      0.0                     0.0           0.0              0.0  \n",
      "1      0.0                     0.0           0.0              0.0  \n",
      "2      0.0                     0.0           0.0              0.0  \n",
      "3      0.0                     0.0           0.0              0.0  \n",
      "4      0.0                     0.0           0.0              0.0  \n",
      "\n",
      "[5 rows x 19074 columns]\n"
     ]
    }
   ],
   "source": [
    "#create tfidf vectorizer df\n",
    "tfidf_df =pd.DataFrame(tfidf_train.A,columns=tfidf.get_feature_names())\n",
    "print(tfidf_df.head())"
   ]
  },
  {
   "cell_type": "code",
   "execution_count": null,
   "id": "b3385d55",
   "metadata": {},
   "outputs": [],
   "source": []
  },
  {
   "cell_type": "code",
   "execution_count": null,
   "id": "cb0ed0c9",
   "metadata": {},
   "outputs": [],
   "source": []
  },
  {
   "cell_type": "markdown",
   "id": "7865865a",
   "metadata": {},
   "source": [
    "# 6. Modelling"
   ]
  },
  {
   "cell_type": "markdown",
   "id": "036a2997",
   "metadata": {},
   "source": [
    "This section shows the process used when selecting the machine learning algorithm to be used to classify the different climate change sentiments.There are various machine learning techniques that can be used to solve different problems,Hence it very pivotal to select a model that best suits the project objective.\n",
    "\n",
    "__The following classification algorithms are used to train the model,namely__\n",
    "\n",
    "   1.Naive Bayes Model\n",
    "   \n",
    "   \n",
    "   \n",
    "   \n",
    "   \n",
    "   \n",
    "   \n",
    "\n"
   ]
  },
  {
   "cell_type": "markdown",
   "id": "e4eeb8ac",
   "metadata": {},
   "source": [
    "### 6.1. Naive Bayes Model\n"
   ]
  },
  {
   "cell_type": "markdown",
   "id": "4d8fd33f",
   "metadata": {},
   "source": [
    "Naive bayes is most commonly used for testing NLP classification because of its basis in probability.Naive bayes algorithm attempts to answe the question 'Given a particular piece of data how likely is the outcome?'\n",
    "Each word acts as a feature from our count vectorizer helping classify our message using probability."
   ]
  },
  {
   "cell_type": "code",
   "execution_count": 79,
   "id": "bceedaa7",
   "metadata": {},
   "outputs": [],
   "source": [
    "from sklearn.naive_bayes import MultinomialNB"
   ]
  },
  {
   "cell_type": "markdown",
   "id": "5eea1101",
   "metadata": {},
   "source": [
    "MultinomialNB works well with count vectorizer as it expects integer inputs"
   ]
  },
  {
   "cell_type": "markdown",
   "id": "28f2a587",
   "metadata": {},
   "source": [
    "__modelling with the count vectors__"
   ]
  },
  {
   "cell_type": "code",
   "execution_count": 80,
   "id": "71299155",
   "metadata": {
    "scrolled": true
   },
   "outputs": [
    {
     "data": {
      "text/plain": [
       "MultinomialNB()"
      ]
     },
     "execution_count": 80,
     "metadata": {},
     "output_type": "execute_result"
    }
   ],
   "source": [
    "#initialize class\n",
    "nb_classifier = MultinomialNB()\n",
    "nb_classifier.fit(count_train,y_train)"
   ]
  },
  {
   "cell_type": "code",
   "execution_count": 81,
   "id": "2b80a359",
   "metadata": {},
   "outputs": [],
   "source": [
    "nb_pred=nb_classifier.predict(count_test)"
   ]
  },
  {
   "cell_type": "markdown",
   "id": "ddaaa776",
   "metadata": {},
   "source": [
    "__Assessing Model Performance__"
   ]
  },
  {
   "cell_type": "markdown",
   "id": "038c0221",
   "metadata": {},
   "source": [
    "After making predictions we need a way to find out how effective our predictions were,There are several performance metrics\n",
    "which are available to us in sklearn.\n",
    "  * accuracy score\n",
    "  * confusion matrix\n",
    "  * "
   ]
  },
  {
   "cell_type": "markdown",
   "id": "ec2f9cc2",
   "metadata": {},
   "source": [
    "__accuracy score__"
   ]
  },
  {
   "cell_type": "code",
   "execution_count": 82,
   "id": "4c34ba01",
   "metadata": {},
   "outputs": [
    {
     "data": {
      "text/plain": [
       "0.7090595671327332"
      ]
     },
     "execution_count": 82,
     "metadata": {},
     "output_type": "execute_result"
    }
   ],
   "source": [
    "accuracy = metrics.accuracy_score(y_test,nb_pred)\n",
    "accuracy\n",
    "                                  "
   ]
  },
  {
   "cell_type": "markdown",
   "id": "f61cbede",
   "metadata": {},
   "source": [
    "__confusion matrix__"
   ]
  },
  {
   "cell_type": "markdown",
   "id": "26258a9f",
   "metadata": {},
   "source": [
    "To get a better view of how our classification model is performing,a confusio matrix iscalculated to see the type of errors made."
   ]
  },
  {
   "cell_type": "code",
   "execution_count": 84,
   "id": "0630dafa",
   "metadata": {},
   "outputs": [
    {
     "data": {
      "text/plain": [
       "array([[ 171,   58,  176,   29],\n",
       "       [  33,  309,  350,   90],\n",
       "       [  39,  174, 2267,  337],\n",
       "       [  15,   11,  207,  955]], dtype=int64)"
      ]
     },
     "execution_count": 84,
     "metadata": {},
     "output_type": "execute_result"
    }
   ],
   "source": [
    "metrics.confusion_matrix(y_test, nb_pred)"
   ]
  },
  {
   "cell_type": "markdown",
   "id": "65a38940",
   "metadata": {},
   "source": [
    "This doesn't look very nice - let's convert it into a dataframe and add the appropriate labels to make it clear which value is which.The matrix orders the rows and columns in a sorted fashion according to the labels,we will then give the matrix the appropriate labels.\n"
   ]
  },
  {
   "cell_type": "code",
   "execution_count": 86,
   "id": "fbb78113",
   "metadata": {},
   "outputs": [
    {
     "data": {
      "text/html": [
       "<div>\n",
       "<style scoped>\n",
       "    .dataframe tbody tr th:only-of-type {\n",
       "        vertical-align: middle;\n",
       "    }\n",
       "\n",
       "    .dataframe tbody tr th {\n",
       "        vertical-align: top;\n",
       "    }\n",
       "\n",
       "    .dataframe thead th {\n",
       "        text-align: right;\n",
       "    }\n",
       "</style>\n",
       "<table border=\"1\" class=\"dataframe\">\n",
       "  <thead>\n",
       "    <tr style=\"text-align: right;\">\n",
       "      <th></th>\n",
       "      <th>2: News</th>\n",
       "      <th>1: Pro</th>\n",
       "      <th>0: Neutral</th>\n",
       "      <th>-1: Anti</th>\n",
       "    </tr>\n",
       "  </thead>\n",
       "  <tbody>\n",
       "    <tr>\n",
       "      <th>2: News</th>\n",
       "      <td>171</td>\n",
       "      <td>58</td>\n",
       "      <td>176</td>\n",
       "      <td>29</td>\n",
       "    </tr>\n",
       "    <tr>\n",
       "      <th>1: Pro</th>\n",
       "      <td>33</td>\n",
       "      <td>309</td>\n",
       "      <td>350</td>\n",
       "      <td>90</td>\n",
       "    </tr>\n",
       "    <tr>\n",
       "      <th>0: Neutral</th>\n",
       "      <td>39</td>\n",
       "      <td>174</td>\n",
       "      <td>2267</td>\n",
       "      <td>337</td>\n",
       "    </tr>\n",
       "    <tr>\n",
       "      <th>-1: Anti</th>\n",
       "      <td>15</td>\n",
       "      <td>11</td>\n",
       "      <td>207</td>\n",
       "      <td>955</td>\n",
       "    </tr>\n",
       "  </tbody>\n",
       "</table>\n",
       "</div>"
      ],
      "text/plain": [
       "            2: News  1: Pro  0: Neutral  -1: Anti\n",
       "2: News         171      58         176        29\n",
       "1: Pro           33     309         350        90\n",
       "0: Neutral       39     174        2267       337\n",
       "-1: Anti         15      11         207       955"
      ]
     },
     "execution_count": 86,
     "metadata": {},
     "output_type": "execute_result"
    }
   ],
   "source": [
    "labels = ['2: News', '1: Pro','0: Neutral', '-1: Anti']\n",
    "\n",
    "pd.DataFrame(data=metrics.confusion_matrix(y_test, nb_pred), index=labels, columns=labels)"
   ]
  },
  {
   "cell_type": "markdown",
   "id": "ff09faca",
   "metadata": {},
   "source": [
    "Based on the confusion matrix shown here:\n",
    "    \n",
    "    \n",
    "    \n",
    "  ......  "
   ]
  },
  {
   "cell_type": "markdown",
   "id": "8a673f3b",
   "metadata": {},
   "source": [
    "F1 Score might be a better measure to use if we need to seek a balance between Precision and Recall and there is an uneven class distribution likein our data."
   ]
  },
  {
   "cell_type": "code",
   "execution_count": 102,
   "id": "6394f81e",
   "metadata": {},
   "outputs": [
    {
     "data": {
      "text/plain": [
       "0.7090595671327331"
      ]
     },
     "execution_count": 102,
     "metadata": {},
     "output_type": "execute_result"
    }
   ],
   "source": [
    "f1 =metrics.f1_score(y_test, nb_pred, average='micro')\n",
    "f1\n"
   ]
  },
  {
   "cell_type": "markdown",
   "id": "6aa9e403",
   "metadata": {},
   "source": [
    "__Classification Report__"
   ]
  },
  {
   "cell_type": "markdown",
   "id": "42bcff6e",
   "metadata": {},
   "source": [
    "The Classification Report gives us more information on where our model is going wrong - looking specifically at the performance caused by Type I & II errors."
   ]
  },
  {
   "cell_type": "code",
   "execution_count": 93,
   "id": "2206b697",
   "metadata": {},
   "outputs": [
    {
     "name": "stdout",
     "output_type": "stream",
     "text": [
      "Classification Report\n",
      "              precision    recall  f1-score   support\n",
      "\n",
      "     2: News       0.66      0.39      0.49       434\n",
      "      1: Pro       0.56      0.40      0.46       782\n",
      "  0: Neutral       0.76      0.80      0.78      2817\n",
      "    -1: Anti       0.68      0.80      0.73      1188\n",
      "\n",
      "    accuracy                           0.71      5221\n",
      "   macro avg       0.66      0.60      0.62      5221\n",
      "weighted avg       0.70      0.71      0.70      5221\n",
      "\n"
     ]
    }
   ],
   "source": [
    "print('Classification Report')\n",
    "print(classification_report(y_test, nb_pred, target_names=['2: News', '1: Pro','0: Neutral', '-1: Anti']))"
   ]
  },
  {
   "cell_type": "code",
   "execution_count": 91,
   "id": "a004e2a9",
   "metadata": {},
   "outputs": [],
   "source": [
    "#F1 = metrics.f1_score(y_test,nb_pred)"
   ]
  },
  {
   "cell_type": "markdown",
   "id": "c546a846",
   "metadata": {},
   "source": [
    "__Creating a submission file__"
   ]
  },
  {
   "cell_type": "code",
   "execution_count": 45,
   "id": "458b6cd7",
   "metadata": {},
   "outputs": [],
   "source": [
    "tester= nb_classifier.predict(counteer_test)\n"
   ]
  },
  {
   "cell_type": "code",
   "execution_count": 46,
   "id": "ae79022a",
   "metadata": {},
   "outputs": [
    {
     "data": {
      "text/plain": [
       "<bound method NDFrame.head of        sentiment\n",
       "0              1\n",
       "1              1\n",
       "2              1\n",
       "3              1\n",
       "4              0\n",
       "...          ...\n",
       "10541          1\n",
       "10542          1\n",
       "10543          2\n",
       "10544          0\n",
       "10545          1\n",
       "\n",
       "[10546 rows x 1 columns]>"
      ]
     },
     "execution_count": 46,
     "metadata": {},
     "output_type": "execute_result"
    }
   ],
   "source": [
    "af=pd.DataFrame(tester,columns=['sentiment'])\n",
    "af.head"
   ]
  },
  {
   "cell_type": "code",
   "execution_count": 47,
   "id": "305f9804",
   "metadata": {},
   "outputs": [],
   "source": [
    "output=pd.DataFrame({'tweetid':df_test['tweetid']})\n",
    "submission=output.join(af)"
   ]
  },
  {
   "cell_type": "code",
   "execution_count": 56,
   "id": "30109a13",
   "metadata": {},
   "outputs": [],
   "source": [
    "#submission"
   ]
  },
  {
   "cell_type": "code",
   "execution_count": 48,
   "id": "27af2ede",
   "metadata": {},
   "outputs": [
    {
     "data": {
      "text/html": [
       "<div>\n",
       "<style scoped>\n",
       "    .dataframe tbody tr th:only-of-type {\n",
       "        vertical-align: middle;\n",
       "    }\n",
       "\n",
       "    .dataframe tbody tr th {\n",
       "        vertical-align: top;\n",
       "    }\n",
       "\n",
       "    .dataframe thead th {\n",
       "        text-align: right;\n",
       "    }\n",
       "</style>\n",
       "<table border=\"1\" class=\"dataframe\">\n",
       "  <thead>\n",
       "    <tr style=\"text-align: right;\">\n",
       "      <th></th>\n",
       "      <th>tweetid</th>\n",
       "      <th>sentiment</th>\n",
       "    </tr>\n",
       "  </thead>\n",
       "  <tbody>\n",
       "    <tr>\n",
       "      <th>0</th>\n",
       "      <td>169760</td>\n",
       "      <td>1</td>\n",
       "    </tr>\n",
       "    <tr>\n",
       "      <th>1</th>\n",
       "      <td>35326</td>\n",
       "      <td>1</td>\n",
       "    </tr>\n",
       "    <tr>\n",
       "      <th>2</th>\n",
       "      <td>224985</td>\n",
       "      <td>1</td>\n",
       "    </tr>\n",
       "    <tr>\n",
       "      <th>3</th>\n",
       "      <td>476263</td>\n",
       "      <td>1</td>\n",
       "    </tr>\n",
       "    <tr>\n",
       "      <th>4</th>\n",
       "      <td>872928</td>\n",
       "      <td>0</td>\n",
       "    </tr>\n",
       "    <tr>\n",
       "      <th>...</th>\n",
       "      <td>...</td>\n",
       "      <td>...</td>\n",
       "    </tr>\n",
       "    <tr>\n",
       "      <th>10541</th>\n",
       "      <td>895714</td>\n",
       "      <td>1</td>\n",
       "    </tr>\n",
       "    <tr>\n",
       "      <th>10542</th>\n",
       "      <td>875167</td>\n",
       "      <td>1</td>\n",
       "    </tr>\n",
       "    <tr>\n",
       "      <th>10543</th>\n",
       "      <td>78329</td>\n",
       "      <td>2</td>\n",
       "    </tr>\n",
       "    <tr>\n",
       "      <th>10544</th>\n",
       "      <td>867455</td>\n",
       "      <td>0</td>\n",
       "    </tr>\n",
       "    <tr>\n",
       "      <th>10545</th>\n",
       "      <td>470892</td>\n",
       "      <td>1</td>\n",
       "    </tr>\n",
       "  </tbody>\n",
       "</table>\n",
       "<p>10546 rows × 2 columns</p>\n",
       "</div>"
      ],
      "text/plain": [
       "       tweetid  sentiment\n",
       "0       169760          1\n",
       "1        35326          1\n",
       "2       224985          1\n",
       "3       476263          1\n",
       "4       872928          0\n",
       "...        ...        ...\n",
       "10541   895714          1\n",
       "10542   875167          1\n",
       "10543    78329          2\n",
       "10544   867455          0\n",
       "10545   470892          1\n",
       "\n",
       "[10546 rows x 2 columns]"
      ]
     },
     "execution_count": 48,
     "metadata": {},
     "output_type": "execute_result"
    }
   ],
   "source": [
    "submission.to_csv('submission.csv',index=False)\n",
    "submission"
   ]
  },
  {
   "cell_type": "markdown",
   "id": "6cd4bdb7",
   "metadata": {},
   "source": [
    "__modelling with the tfidf vectors__"
   ]
  },
  {
   "cell_type": "code",
   "execution_count": 49,
   "id": "370e3746",
   "metadata": {},
   "outputs": [
    {
     "data": {
      "text/plain": [
       "MultinomialNB()"
      ]
     },
     "execution_count": 49,
     "metadata": {},
     "output_type": "execute_result"
    }
   ],
   "source": [
    "nb_classifier.fit(tfidf_train,y_train)"
   ]
  },
  {
   "cell_type": "code",
   "execution_count": 50,
   "id": "88784278",
   "metadata": {},
   "outputs": [],
   "source": [
    "#create the predicted tags\n",
    "pred = nb_classifier.predict(tfidf_test)"
   ]
  },
  {
   "cell_type": "markdown",
   "id": "487dd874",
   "metadata": {},
   "source": [
    "__classification metrics__"
   ]
  },
  {
   "cell_type": "code",
   "execution_count": 53,
   "id": "62e2ba52",
   "metadata": {},
   "outputs": [
    {
     "name": "stdout",
     "output_type": "stream",
     "text": [
      "0.6389580540126413\n"
     ]
    }
   ],
   "source": [
    "#calculate the accuracy scores \n",
    "score=metrics.accuracy_score(y_test,pred)\n",
    "print(score)"
   ]
  },
  {
   "cell_type": "code",
   "execution_count": null,
   "id": "e414ae36",
   "metadata": {},
   "outputs": [],
   "source": []
  },
  {
   "cell_type": "code",
   "execution_count": null,
   "id": "6b7fbbf8",
   "metadata": {},
   "outputs": [],
   "source": []
  },
  {
   "cell_type": "code",
   "execution_count": null,
   "id": "4748282b",
   "metadata": {},
   "outputs": [],
   "source": []
  },
  {
   "cell_type": "code",
   "execution_count": null,
   "id": "d9c1e4c7",
   "metadata": {},
   "outputs": [],
   "source": []
  },
  {
   "cell_type": "code",
   "execution_count": null,
   "id": "98d047d1",
   "metadata": {},
   "outputs": [],
   "source": []
  },
  {
   "cell_type": "markdown",
   "id": "879cf274",
   "metadata": {},
   "source": [
    "### Logging results to comet"
   ]
  },
  {
   "cell_type": "code",
   "execution_count": 98,
   "id": "46ad7189",
   "metadata": {},
   "outputs": [
    {
     "data": {
      "text/plain": [
       "0.7090595671327332"
      ]
     },
     "execution_count": 98,
     "metadata": {},
     "output_type": "execute_result"
    }
   ],
   "source": [
    "#saving metrics for logging\n",
    "accuracy = metrics.accuracy_score(y_test,pred)\n",
    "accuracy"
   ]
  },
  {
   "cell_type": "code",
   "execution_count": 103,
   "id": "c33f7df0",
   "metadata": {},
   "outputs": [],
   "source": [
    "#savig metric for logging\n",
    "params ={\"random_state\":53,\n",
    "        \"model_type \":\"Naive_bayes\"}\n",
    "\n",
    "nb_metrics ={\"Accuracy\":accuracy,\n",
    "            \"f1_score\":f1}\n"
   ]
  },
  {
   "cell_type": "code",
   "execution_count": 105,
   "id": "5ab53378",
   "metadata": {},
   "outputs": [],
   "source": [
    "#log parameters and results\n",
    "experiment.log_parameters(params)\n",
    "experiment.log_metrics(nb_metrics)\n"
   ]
  },
  {
   "cell_type": "code",
   "execution_count": 106,
   "id": "7dc73c23",
   "metadata": {},
   "outputs": [
    {
     "name": "stderr",
     "output_type": "stream",
     "text": [
      "COMET INFO: ---------------------------\n",
      "COMET INFO: Comet.ml Experiment Summary\n",
      "COMET INFO: ---------------------------\n",
      "COMET INFO:   Data:\n",
      "COMET INFO:     display_summary_level : 1\n",
      "COMET INFO:     url                   : https://www.comet.ml/jeniffermukami/team-12-advanced-classification-sentiment-analysis/ffc788fc487144ebba90a64b1fb447d5\n",
      "COMET INFO:   Metrics:\n",
      "COMET INFO:     Accuracy : 0.7090595671327332\n",
      "COMET INFO:     f1_score : 0.7090595671327331\n",
      "COMET INFO:   Parameters:\n",
      "COMET INFO:     alpha         : 1.0\n",
      "COMET INFO:     class_prior   : 1\n",
      "COMET INFO:     fit_prior     : True\n",
      "COMET INFO:     model_type    : Naive_bayes\n",
      "COMET INFO:     neg_label     : 0\n",
      "COMET INFO:     norm          : l2\n",
      "COMET INFO:     pos_label     : 1\n",
      "COMET INFO:     random_state  : 53\n",
      "COMET INFO:     smooth_idf    : True\n",
      "COMET INFO:     sparse_output : False\n",
      "COMET INFO:     sublinear_tf  : False\n",
      "COMET INFO:     use_idf       : True\n",
      "COMET INFO:   Uploads:\n",
      "COMET INFO:     conda-environment-definition : 1\n",
      "COMET INFO:     conda-info                   : 1\n",
      "COMET INFO:     conda-specification          : 1\n",
      "COMET INFO:     environment details          : 1\n",
      "COMET INFO:     filename                     : 1\n",
      "COMET INFO:     git metadata                 : 1\n",
      "COMET INFO:     git-patch (uncompressed)     : 1 (8.54 MB)\n",
      "COMET INFO:     installed packages           : 1\n",
      "COMET INFO:     notebook                     : 1\n",
      "COMET INFO:     source_code                  : 1\n",
      "COMET INFO: ---------------------------\n",
      "COMET INFO: Uploading metrics, params, and assets to Comet before program termination (may take several seconds)\n",
      "COMET INFO: The Python SDK has 3600 seconds to finish before aborting...\n",
      "COMET INFO: Waiting for completion of the file uploads (may take several seconds)\n",
      "COMET INFO: The Python SDK has 10800 seconds to finish before aborting...\n",
      "COMET INFO: All files uploaded, waiting for confirmation they have been all received\n"
     ]
    }
   ],
   "source": [
    "experiment.end()"
   ]
  },
  {
   "cell_type": "code",
   "execution_count": 107,
   "id": "a0706b78",
   "metadata": {},
   "outputs": [
    {
     "data": {
      "text/html": [
       "\n",
       "        <iframe\n",
       "            width=\"100%\"\n",
       "            height=\"800px\"\n",
       "            src=\"https://www.comet.ml/jeniffermukami/team-12-advanced-classification-sentiment-analysis/ffc788fc487144ebba90a64b1fb447d5\"\n",
       "            frameborder=\"0\"\n",
       "            allowfullscreen\n",
       "            \n",
       "        ></iframe>\n",
       "        "
      ],
      "text/plain": [
       "<IPython.lib.display.IFrame at 0x125ce0ac2b0>"
      ]
     },
     "metadata": {},
     "output_type": "display_data"
    }
   ],
   "source": [
    "experiment.display()"
   ]
  },
  {
   "cell_type": "code",
   "execution_count": null,
   "id": "f41a76c3",
   "metadata": {},
   "outputs": [],
   "source": []
  },
  {
   "cell_type": "code",
   "execution_count": null,
   "id": "876913f4",
   "metadata": {},
   "outputs": [],
   "source": []
  },
  {
   "cell_type": "code",
   "execution_count": null,
   "id": "dfbf2647",
   "metadata": {},
   "outputs": [],
   "source": []
  },
  {
   "cell_type": "markdown",
   "id": "5b9eaf02",
   "metadata": {},
   "source": [
    "# 7. Conclusion"
   ]
  },
  {
   "cell_type": "code",
   "execution_count": null,
   "id": "dab11b2f",
   "metadata": {},
   "outputs": [],
   "source": []
  },
  {
   "cell_type": "code",
   "execution_count": null,
   "id": "652993b8",
   "metadata": {},
   "outputs": [],
   "source": []
  },
  {
   "cell_type": "code",
   "execution_count": null,
   "id": "f8a4c446",
   "metadata": {},
   "outputs": [],
   "source": []
  },
  {
   "cell_type": "code",
   "execution_count": null,
   "id": "acfb46b7",
   "metadata": {},
   "outputs": [],
   "source": []
  },
  {
   "cell_type": "code",
   "execution_count": null,
   "id": "d08cc73e",
   "metadata": {},
   "outputs": [],
   "source": []
  },
  {
   "cell_type": "markdown",
   "id": "6a354025",
   "metadata": {},
   "source": [
    "# 8. Recommendations"
   ]
  },
  {
   "cell_type": "code",
   "execution_count": null,
   "id": "849cb61d",
   "metadata": {},
   "outputs": [],
   "source": []
  },
  {
   "cell_type": "code",
   "execution_count": null,
   "id": "afb00f37",
   "metadata": {},
   "outputs": [],
   "source": []
  },
  {
   "cell_type": "code",
   "execution_count": null,
   "id": "4fc62473",
   "metadata": {},
   "outputs": [],
   "source": []
  },
  {
   "cell_type": "code",
   "execution_count": null,
   "id": "9c9f8dd4",
   "metadata": {},
   "outputs": [],
   "source": []
  },
  {
   "cell_type": "code",
   "execution_count": null,
   "id": "52115176",
   "metadata": {},
   "outputs": [],
   "source": []
  },
  {
   "cell_type": "code",
   "execution_count": null,
   "id": "84692a82",
   "metadata": {},
   "outputs": [],
   "source": []
  },
  {
   "cell_type": "code",
   "execution_count": null,
   "id": "ae8ac902",
   "metadata": {},
   "outputs": [],
   "source": []
  },
  {
   "cell_type": "code",
   "execution_count": null,
   "id": "3dc9c9b6",
   "metadata": {},
   "outputs": [],
   "source": []
  },
  {
   "cell_type": "code",
   "execution_count": null,
   "id": "16ab5695",
   "metadata": {},
   "outputs": [],
   "source": []
  },
  {
   "cell_type": "code",
   "execution_count": null,
   "id": "c32e7d99",
   "metadata": {},
   "outputs": [],
   "source": []
  },
  {
   "cell_type": "code",
   "execution_count": null,
   "id": "3d2b4cd1",
   "metadata": {},
   "outputs": [],
   "source": []
  },
  {
   "cell_type": "code",
   "execution_count": null,
   "id": "8f0fe938",
   "metadata": {},
   "outputs": [],
   "source": []
  },
  {
   "cell_type": "code",
   "execution_count": null,
   "id": "32d49c1d",
   "metadata": {},
   "outputs": [],
   "source": []
  },
  {
   "cell_type": "code",
   "execution_count": null,
   "id": "68197096",
   "metadata": {},
   "outputs": [],
   "source": []
  },
  {
   "cell_type": "code",
   "execution_count": null,
   "id": "b2b8220b",
   "metadata": {},
   "outputs": [],
   "source": []
  }
 ],
 "metadata": {
  "kernelspec": {
   "display_name": "Python 3 (ipykernel)",
   "language": "python",
   "name": "python3"
  },
  "language_info": {
   "codemirror_mode": {
    "name": "ipython",
    "version": 3
   },
   "file_extension": ".py",
   "mimetype": "text/x-python",
   "name": "python",
   "nbconvert_exporter": "python",
   "pygments_lexer": "ipython3",
   "version": "3.9.7"
  }
 },
 "nbformat": 4,
 "nbformat_minor": 5
}

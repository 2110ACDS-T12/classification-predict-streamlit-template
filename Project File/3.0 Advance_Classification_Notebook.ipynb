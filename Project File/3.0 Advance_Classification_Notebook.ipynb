{
 "cells": [
  {
   "cell_type": "markdown",
   "metadata": {
    "colab_type": "text",
    "id": "xpIPMNPoU_-p"
   },
   "source": [
    "# Advance Classification Solution\n",
    "### EDSA - Climate Change Belief Analysis 2022 \n",
    "#### RecycleStats Solutions - Team 12 EDSA\n",
    "\n",
    "© Explore Data Science Academy\n",
    "\n"
   ]
  },
  {
   "cell_type": "markdown",
   "metadata": {},
   "source": [
    "<a id=\"cont\"></a>\n",
    "## Table of Content\n",
    "\n",
    "<a href=#one>1. Introduction</a>\n",
    "\n",
    "    1.1 Overview\n",
    "    1.2 Problem Statement\n",
    "    1.3 Instruction\n",
    "        1.3.1 Model Version with COMET\n",
    "        1.3.2 NLTK Corpora Installation\n",
    "       \n",
    "<a href=#two>1. Import Packages</a>\n",
    "\n",
    "<a href=#three>2. Collect Data</a>\n",
    "\n",
    "<a href=#four>4. Exploratory Data Analysis (EDA)<a>\n",
    "    \n",
    "    4.1 Missing Data Check\n",
    "    4.2 Target Distribution Visualization\n",
    "\n",
    "<a href=#five>5. Data Processing</a>\n",
    "    \n",
    "    5.1 Text Cleaning\n",
    "        5.1.1 Remove Noise \n",
    "        5.1.2 Remove Punctuation\n",
    "    5.2 Tokenization\n",
    "    5.3 Count Vectorizer\n",
    "    5.4 TF-IDF Vectorizer\n",
    "\n",
    "<a href=#six>6. Modeling</a>\n",
    "    \n",
    "    6.1 Naive Bayes Model\n",
    "\n",
    "<a href=#seven>7. Model Performance</a>\n",
    "    \n",
    "    7.1 Model Test Score\n",
    "    7.2 Model Confusion Matrix\n",
    "\n",
    "<a href=#eight>8. Saving & Exporting Model</a>\n",
    "\n",
    "<a href=#nine>9. Best Model Explanations</a>\n",
    "\n",
    "<a href=#ten>10. Conclusion</a>\n",
    "\n",
    "<a href=#eleven>11. Recommendation</a>\n",
    "\n",
    "<a href=#ref>Reference Document Links</a>"
   ]
  },
  {
   "cell_type": "markdown",
   "metadata": {},
   "source": [
    "<a id=\"one\"></a>\n",
    "## 1. INTRODUCTION\n",
    "<a href=#cont>Back to Table of Contents</a>"
   ]
  },
  {
   "cell_type": "markdown",
   "metadata": {},
   "source": [
    "### 1.1 Overview\n",
    "\n",
    "Many companies are built around lessening one’s environmental impact or carbon footprint. They offer products and services that are environmentally friendly and sustainable, in line with their values and ideals. They would like to determine how people perceive climate change and whether or not they believe it is a real threat. This would add to their market research efforts in gauging how their product/service may be received.\n",
    "\n",
    "Hence, We will be creating a Machine Learning model that is able to classify whether or not a person believes in climate change, based on their novel tweet data.\n",
    "\n",
    "Providing an accurate and robust solution to this task gives companies access to a broad base of consumer sentiment, spanning multiple demographic and geographic categories - thus increasing their insights and informing future marketing strategies.\n"
   ]
  },
  {
   "cell_type": "markdown",
   "metadata": {},
   "source": [
    "### 1.2 Problem Statement\n",
    "\n",
    "We are looking to Empower the marketing sector of Eco-Friendly Companies, helping them maximise productivity, driving profitability by knowledge of the demand & Supply on her goods & Services. "
   ]
  },
  {
   "cell_type": "markdown",
   "metadata": {},
   "source": [
    "### 1.3 Instruction\n",
    "\n",
    "#### 1.3.1 Model Version with COMET\n",
    "To Begin with, We will be using Comet, a great tool for model versioning and experimentation as it records the parameters and conditions from each of your experiements- allowing you to reproduce your results, or go back to a previous version of your experiment.\n",
    "\n",
    "If you don't have a commet Accout, Go ahead to create an individual account, visit https://www.comet.ml/  You will see a project folder. That is where the records of your experiments can be viewed.\n",
    "\n",
    "You should install as illustrated below if you don't already have it. Always import Experiment at the top of your notebook/script. (Always install if on Google Colab)."
   ]
  },
  {
   "cell_type": "code",
   "execution_count": 1,
   "metadata": {},
   "outputs": [
    {
     "name": "stdout",
     "output_type": "stream",
     "text": [
      "Requirement already satisfied: comet_ml in c:\\users\\user\\anaconda3\\lib\\site-packages (3.28.2)\n",
      "Requirement already satisfied: requests>=2.18.4 in c:\\users\\user\\anaconda3\\lib\\site-packages (from comet_ml) (2.26.0)\n",
      "Requirement already satisfied: dulwich!=0.20.33,>=0.20.6 in c:\\users\\user\\anaconda3\\lib\\site-packages (from comet_ml) (0.20.35)\n",
      "Requirement already satisfied: six in c:\\users\\user\\anaconda3\\lib\\site-packages (from comet_ml) (1.16.0)\n",
      "Requirement already satisfied: everett[ini]>=1.0.1 in c:\\users\\user\\anaconda3\\lib\\site-packages (from comet_ml) (3.0.0)\n",
      "Requirement already satisfied: requests-toolbelt>=0.8.0 in c:\\users\\user\\anaconda3\\lib\\site-packages (from comet_ml) (0.9.1)\n",
      "Requirement already satisfied: wurlitzer>=1.0.2 in c:\\users\\user\\anaconda3\\lib\\site-packages (from comet_ml) (3.0.2)\n",
      "Requirement already satisfied: jsonschema!=3.1.0,>=2.6.0 in c:\\users\\user\\anaconda3\\lib\\site-packages (from comet_ml) (3.2.0)\n",
      "Requirement already satisfied: semantic-version>=2.8.0 in c:\\users\\user\\anaconda3\\lib\\site-packages (from comet_ml) (2.9.0)\n",
      "Requirement already satisfied: wrapt>=1.11.2 in c:\\users\\user\\anaconda3\\lib\\site-packages (from comet_ml) (1.12.1)\n",
      "Requirement already satisfied: websocket-client>=0.55.0 in c:\\users\\user\\anaconda3\\lib\\site-packages (from comet_ml) (1.3.1)\n",
      "Requirement already satisfied: nvidia-ml-py3>=7.352.0 in c:\\users\\user\\anaconda3\\lib\\site-packages (from comet_ml) (7.352.0)\n",
      "Requirement already satisfied: urllib3>=1.24.1 in c:\\users\\user\\anaconda3\\lib\\site-packages (from dulwich!=0.20.33,>=0.20.6->comet_ml) (1.26.7)\n",
      "Requirement already satisfied: certifi in c:\\users\\user\\anaconda3\\lib\\site-packages (from dulwich!=0.20.33,>=0.20.6->comet_ml) (2021.10.8)\n",
      "Requirement already satisfied: configobj in c:\\users\\user\\anaconda3\\lib\\site-packages (from everett[ini]>=1.0.1->comet_ml) (5.0.6)\n",
      "Requirement already satisfied: setuptools in c:\\users\\user\\anaconda3\\lib\\site-packages (from jsonschema!=3.1.0,>=2.6.0->comet_ml) (58.0.4)\n",
      "Requirement already satisfied: pyrsistent>=0.14.0 in c:\\users\\user\\anaconda3\\lib\\site-packages (from jsonschema!=3.1.0,>=2.6.0->comet_ml) (0.18.0)\n",
      "Requirement already satisfied: attrs>=17.4.0 in c:\\users\\user\\anaconda3\\lib\\site-packages (from jsonschema!=3.1.0,>=2.6.0->comet_ml) (21.2.0)\n",
      "Requirement already satisfied: charset-normalizer~=2.0.0 in c:\\users\\user\\anaconda3\\lib\\site-packages (from requests>=2.18.4->comet_ml) (2.0.4)\n",
      "Requirement already satisfied: idna<4,>=2.5 in c:\\users\\user\\anaconda3\\lib\\site-packages (from requests>=2.18.4->comet_ml) (3.2)\n"
     ]
    }
   ],
   "source": [
    "# Install Comet\n",
    "!pip install comet_ml"
   ]
  },
  {
   "cell_type": "code",
   "execution_count": 2,
   "metadata": {},
   "outputs": [
    {
     "name": "stderr",
     "output_type": "stream",
     "text": [
      "COMET WARNING: As you are running in a Jupyter environment, you will need to call `experiment.end()` when finished to ensure all metrics and code are logged before exiting.\n",
      "COMET ERROR: Workspace ezysticks doesn't exist.\n"
     ]
    }
   ],
   "source": [
    "# Import Comet package\n",
    "from comet_ml import Experiment\n",
    "\n",
    "# Setting the API key (saved as environment variable)\n",
    "\"\"\"\n",
    "Go ahead and get your api_key, project_name & workspace from your\n",
    "Comet Project Folder.\n",
    "\"\"\"\n",
    "# Create an experiment with your api key\n",
    "experiment = Experiment(\n",
    "    api_key=\"CL3r4k2Kr1MFTRdavZUxjrBSy\",\n",
    "    project_name=\"team-12-advanced-classification-sentiment-analysis\",\n",
    "    workspace=\"ezysticks\",\n",
    ")"
   ]
  },
  {
   "cell_type": "markdown",
   "metadata": {
    "colab_type": "text",
    "id": "C68jzOFpU_-2"
   },
   "source": [
    "####  1.3.2 Ensure you've got NLTK Corpora installed\n",
    "Some of the `nltk` text processing involve a lookup operation. For example, to find all [stopwords](https://www.geeksforgeeks.org/removing-stop-words-nltk-python/) in a given string of text, we require a list of all possible stopwords in the English language to use for the lookup. Such a list is refered to as a [corpus](https://en.wikipedia.org/wiki/Text_corpus). Therefore, first download the corpora we're going use if you don't have it installed, otherwise we may get a lookup error! Watch out specifically for the `tokenize` and `stopwords` sections. Not to worry, as we can easily avoid these errors by downloading the [corpora](http://www.nltk.org/nltk_data/) using the `nltk` downloader tool:"
   ]
  },
  {
   "cell_type": "markdown",
   "metadata": {
    "colab_type": "text",
    "id": "lct3bK9aU_-7"
   },
   "source": [
    "You should see this pop-up box. \n",
    "\n",
    "**NOTE:** the box might pop-up in the backround, in which case you should use `alt + tab` to switch to the downloader window.\n",
    "\n",
    "<img src=\"https://github.com/Explore-AI/Pictures/blob/master/nltk_downloader.png?raw=true\" width=50%/> \n",
    "\n",
    "Use it to navigate to the item we need to download: \n",
    "- stopwords corpus (Corpora tab)\n",
    "- punkt tokenizer models (Models tab)\n",
    "\n",
    "Navigate to these, click the download button, and exit the downloader when finished."
   ]
  },
  {
   "cell_type": "markdown",
   "metadata": {},
   "source": [
    "###### An additional Installation Required to run this Notebook Analysis Effectively\n",
    "\n",
    "`Word Cloud:`\n",
    "System Requirement: Microsoft Visual C++ 14.0 or greater is required. Get it with \"Microsoft C++ Build Tools\": https://visualstudio.microsoft.com/visual-cpp-build-tools/\n"
   ]
  },
  {
   "cell_type": "code",
   "execution_count": 3,
   "metadata": {},
   "outputs": [
    {
     "name": "stdout",
     "output_type": "stream",
     "text": [
      "Requirement already satisfied: wordcloud in c:\\users\\user\\anaconda3\\lib\\site-packages (1.8.1)\n",
      "Requirement already satisfied: pillow in c:\\users\\user\\anaconda3\\lib\\site-packages (from wordcloud) (8.4.0)\n",
      "Requirement already satisfied: matplotlib in c:\\users\\user\\anaconda3\\lib\\site-packages (from wordcloud) (3.4.3)\n",
      "Requirement already satisfied: numpy>=1.6.1 in c:\\users\\user\\anaconda3\\lib\\site-packages (from wordcloud) (1.20.3)\n",
      "Requirement already satisfied: kiwisolver>=1.0.1 in c:\\users\\user\\anaconda3\\lib\\site-packages (from matplotlib->wordcloud) (1.3.1)\n",
      "Requirement already satisfied: pyparsing>=2.2.1 in c:\\users\\user\\anaconda3\\lib\\site-packages (from matplotlib->wordcloud) (3.0.4)\n",
      "Requirement already satisfied: python-dateutil>=2.7 in c:\\users\\user\\anaconda3\\lib\\site-packages (from matplotlib->wordcloud) (2.8.2)\n",
      "Requirement already satisfied: cycler>=0.10 in c:\\users\\user\\anaconda3\\lib\\site-packages (from matplotlib->wordcloud) (0.10.0)\n",
      "Requirement already satisfied: six in c:\\users\\user\\anaconda3\\lib\\site-packages (from cycler>=0.10->matplotlib->wordcloud) (1.16.0)\n"
     ]
    }
   ],
   "source": [
    "''' If you don't have it Installed, Remove Hashtag to Run'''\n",
    "!pip install wordcloud"
   ]
  },
  {
   "cell_type": "markdown",
   "metadata": {},
   "source": [
    "\n",
    "`Imblearn:` Required while handling Class Imbalance "
   ]
  },
  {
   "cell_type": "code",
   "execution_count": 4,
   "metadata": {},
   "outputs": [
    {
     "name": "stdout",
     "output_type": "stream",
     "text": [
      "Requirement already satisfied: imblearn in c:\\users\\user\\anaconda3\\lib\\site-packages (0.0)\n",
      "Requirement already satisfied: imbalanced-learn in c:\\users\\user\\anaconda3\\lib\\site-packages (from imblearn) (0.9.0)\n",
      "Requirement already satisfied: scikit-learn>=1.0.1 in c:\\users\\user\\anaconda3\\lib\\site-packages (from imbalanced-learn->imblearn) (1.0.2)\n",
      "Requirement already satisfied: joblib>=0.11 in c:\\users\\user\\anaconda3\\lib\\site-packages (from imbalanced-learn->imblearn) (1.1.0)\n",
      "Requirement already satisfied: scipy>=1.1.0 in c:\\users\\user\\anaconda3\\lib\\site-packages (from imbalanced-learn->imblearn) (1.7.1)\n",
      "Requirement already satisfied: numpy>=1.14.6 in c:\\users\\user\\anaconda3\\lib\\site-packages (from imbalanced-learn->imblearn) (1.20.3)\n",
      "Requirement already satisfied: threadpoolctl>=2.0.0 in c:\\users\\user\\anaconda3\\lib\\site-packages (from imbalanced-learn->imblearn) (2.2.0)\n"
     ]
    }
   ],
   "source": [
    "!pip install imblearn"
   ]
  },
  {
   "cell_type": "markdown",
   "metadata": {},
   "source": [
    "So, Let's Proceed"
   ]
  },
  {
   "cell_type": "markdown",
   "metadata": {
    "colab_type": "text",
    "id": "lKmhMwlDU_-u"
   },
   "source": [
    "<a id=\"two\"></a>\n",
    "## 2. IMPORT PACKAGES\n",
    "<a href=#cont>Back to Table of Contents</a>\n",
    "\n",
    "In this section, we will be importing libraries which are a collections of modules in their classes and based on their functionality. For this Analysis and Modelling, we wil be requiring;\n",
    "\n",
    "   ` For Data Manupulation, libraries such as Pandas, Numpy etc.`\n",
    "   \n",
    "`For Data Visualization, libraries such as mathplotlib, seaborn`\n",
    "    \n",
    "`libraries for data prepartion, feature selection, model building, Performance Calculation and more.`\n",
    "\n",
    "**SEE** in-line comments BELOW for purpose per importation."
   ]
  },
  {
   "cell_type": "code",
   "execution_count": 5,
   "metadata": {
    "colab": {
     "base_uri": "https://localhost:8080/",
     "height": 680
    },
    "colab_type": "code",
    "executionInfo": {
     "elapsed": 29356,
     "status": "error",
     "timestamp": 1560340175121,
     "user": {
      "displayName": "Bryan Davies",
      "photoUrl": "",
      "userId": "03059035420523728518"
     },
     "user_tz": -120
    },
    "id": "w8Iw1yCRU_-2",
    "outputId": "188501d1-fcf6-45be-8a45-56f885491dcd"
   },
   "outputs": [],
   "source": [
    "'''\n",
    "if you don't have installed, the NLTK corpora, Remove Hashtag below and Run \n",
    "IF NOT, just run the import file.\n",
    "'''\n",
    "import nltk\n",
    "\n",
    "#nltk.download()"
   ]
  },
  {
   "cell_type": "code",
   "execution_count": 6,
   "metadata": {
    "colab": {},
    "colab_type": "code",
    "id": "OQm0O5XHU_-z",
    "jupyter": {
     "outputs_hidden": true
    }
   },
   "outputs": [],
   "source": [
    "\"\"\" For seamless run, Import All required libraries here \"\"\"\n",
    "\n",
    "# Libraries for data loading, data manipulation and data visulisation\n",
    "import pandas as pd                                                   # for loading CSV data\n",
    "import numpy as np                                                    # Used for mathematical operations\n",
    "import matplotlib.pyplot as plt                                       # for Graphical Representation\n",
    "%matplotlib inline                                                    \n",
    "import seaborn as sns                                                 # for specialized plots\n",
    "import re                                                             \n",
    "import math                                                           \n",
    "sns.set()                                                             # set plot style\n",
    "\n",
    "# Libraries for data preparation\n",
    "from nltk.corpus import stopwords                                     \n",
    "import string                                                         \n",
    "from nltk.tokenize import TweetTokenizer, regexp_tokenize                                                          \n",
    "from nltk import RegexpTokenizer                                      \n",
    "from sklearn.feature_extraction.text import CountVectorizer, TfidfVectorizer                    \n",
    "from nltk import SnowballStemmer, PorterStemmer, LancasterStemmer     \n",
    "from nltk.stem import WordNetLemmatizer                               \n",
    "from nltk.util import ngrams                                          \n",
    "from statsmodels.graphics.correlation import plot_corr                # To plot correlation heatmap\n",
    "\n",
    "# Libraries for Feature Extraction\n",
    "from sklearn.feature_extraction.text import CountVectorizer, TfidfVectorizer   \n",
    "\n",
    "# Libraries for Model Building\n",
    "from sklearn.model_selection import train_test_split                  # To split the data into training and testing data\n",
    "from sklearn.naive_bayes import MultinomialNB\n",
    "\n",
    "# Libraries for calculating performance metrics\n",
    "from sklearn import metrics                                           # for\n",
    "from sklearn.metrics import accuracy_score, confusion_matrix, classification_report, ConfusionMatrixDisplay\n",
    "\n",
    "# Libraries to Save/Restore Models\n",
    "import pickle\n",
    "\n",
    "# Setting global constants to ensure notebook results are reproducible\n",
    "\n",
    "\n",
    "import warnings\n",
    "warnings.filterwarnings('ignore')"
   ]
  },
  {
   "cell_type": "markdown",
   "metadata": {},
   "source": [
    "<a id=\"three\"></a>\n",
    "## 3. Collect Data\n",
    "<a href=#cont>Back to Table of Contents</a>\n",
    "\n",
    "Data is required to help you find a solution to your data science problem. The data will provide insights that will lead you to a solution.\n",
    "\n",
    "The collection of the data used for this analysis was funded by a Canada Foundation for Innovation JELF Grant to Chris Bauch, University of Waterloo, and made available by the EXPLORE Data Science Academy (EDSA) in challenging us during the Classification Sprint with the task of creating a Machine Learning model that is able to classify whether or not a person believes in climate change, based on their novel tweet data. \n",
    "\n",
    "The dataset aggregates tweets pertaining to climate change collected between Apr 27, 2015 and Feb 21, 2018. In total, 43943 tweets were collected."
   ]
  },
  {
   "cell_type": "code",
   "execution_count": 7,
   "metadata": {},
   "outputs": [],
   "source": [
    "# Load Data\n",
    "df_train = pd.read_csv('train.csv')\n",
    "df_test =pd.read_csv('test_with_no_labels.csv')"
   ]
  },
  {
   "cell_type": "code",
   "execution_count": 8,
   "metadata": {},
   "outputs": [
    {
     "data": {
      "text/html": [
       "<div>\n",
       "<style scoped>\n",
       "    .dataframe tbody tr th:only-of-type {\n",
       "        vertical-align: middle;\n",
       "    }\n",
       "\n",
       "    .dataframe tbody tr th {\n",
       "        vertical-align: top;\n",
       "    }\n",
       "\n",
       "    .dataframe thead th {\n",
       "        text-align: right;\n",
       "    }\n",
       "</style>\n",
       "<table border=\"1\" class=\"dataframe\">\n",
       "  <thead>\n",
       "    <tr style=\"text-align: right;\">\n",
       "      <th></th>\n",
       "      <th>sentiment</th>\n",
       "      <th>message</th>\n",
       "      <th>tweetid</th>\n",
       "    </tr>\n",
       "  </thead>\n",
       "  <tbody>\n",
       "    <tr>\n",
       "      <th>0</th>\n",
       "      <td>1</td>\n",
       "      <td>PolySciMajor EPA chief doesn't think carbon di...</td>\n",
       "      <td>625221</td>\n",
       "    </tr>\n",
       "    <tr>\n",
       "      <th>1</th>\n",
       "      <td>1</td>\n",
       "      <td>It's not like we lack evidence of anthropogeni...</td>\n",
       "      <td>126103</td>\n",
       "    </tr>\n",
       "    <tr>\n",
       "      <th>2</th>\n",
       "      <td>2</td>\n",
       "      <td>RT @RawStory: Researchers say we have three ye...</td>\n",
       "      <td>698562</td>\n",
       "    </tr>\n",
       "    <tr>\n",
       "      <th>3</th>\n",
       "      <td>1</td>\n",
       "      <td>#TodayinMaker# WIRED : 2016 was a pivotal year...</td>\n",
       "      <td>573736</td>\n",
       "    </tr>\n",
       "    <tr>\n",
       "      <th>4</th>\n",
       "      <td>1</td>\n",
       "      <td>RT @SoyNovioDeTodas: It's 2016, and a racist, ...</td>\n",
       "      <td>466954</td>\n",
       "    </tr>\n",
       "  </tbody>\n",
       "</table>\n",
       "</div>"
      ],
      "text/plain": [
       "   sentiment                                            message  tweetid\n",
       "0          1  PolySciMajor EPA chief doesn't think carbon di...   625221\n",
       "1          1  It's not like we lack evidence of anthropogeni...   126103\n",
       "2          2  RT @RawStory: Researchers say we have three ye...   698562\n",
       "3          1  #TodayinMaker# WIRED : 2016 was a pivotal year...   573736\n",
       "4          1  RT @SoyNovioDeTodas: It's 2016, and a racist, ...   466954"
      ]
     },
     "execution_count": 8,
     "metadata": {},
     "output_type": "execute_result"
    }
   ],
   "source": [
    "# View Dataset\n",
    "df_train.head()"
   ]
  },
  {
   "cell_type": "code",
   "execution_count": 9,
   "metadata": {},
   "outputs": [
    {
     "name": "stdout",
     "output_type": "stream",
     "text": [
      "No. of Tweets on our TRAIN dataset: (15819, 3)\n",
      "No. of Tweets on our TEST dataaet: (10546, 2)\n"
     ]
    }
   ],
   "source": [
    "# Lets see the shape of our Dataset.\n",
    "print(f'No. of Tweets on our TRAIN dataset: {df_train.shape}')\n",
    "print(f'No. of Tweets on our TEST dataaet: {df_test.shape}')"
   ]
  },
  {
   "cell_type": "code",
   "execution_count": 10,
   "metadata": {},
   "outputs": [
    {
     "name": "stdout",
     "output_type": "stream",
     "text": [
      "[1, 2, 0, -1]\n"
     ]
    }
   ],
   "source": [
    "# printing a list of all sentiment types we have in our data.\n",
    "type_labels = list(df_train.sentiment.unique())\n",
    "print(type_labels)"
   ]
  },
  {
   "cell_type": "markdown",
   "metadata": {},
   "source": [
    "We have available for training and Test our model, `15819 Tweets` & `10546 Tweets` respectively as seen above. Each tweet labelled, represents one of the following classes:\n",
    "\n",
    "Class Description\n",
    "*  2 **News:**     The tweet links to factual news about climate change\n",
    "*  1 **Pro:**      The tweet supports the belief of man-made climate change\n",
    "*  0 **Neutral:**  The tweet neither supports nor refutes the belief of man-made climate change\n",
    "* -1 **Anti:**     The tweet does not believe in man-made climate change\n",
    "\n",
    "Variable definitions\n",
    "- **sentiment:** Sentiment of tweet\n",
    "- **message:**   Tweet body\n",
    "- **tweetid:**   Twitter unique id"
   ]
  },
  {
   "cell_type": "markdown",
   "metadata": {},
   "source": [
    "<a id=\"four\"></a>\n",
    "## 4. Exploratory Data Analysis (EDA)\n",
    "<a href=#cont>Back to Table of Contents</a>\n",
    "\n",
    "This includes looking to understand patterns in our data, pinpoint any outliers and indicate relationships between variables. This phase includes descriptive statistics and data visualisations.\n",
    "\n",
    "Hence, let's proceed to carrying out some EDA"
   ]
  },
  {
   "cell_type": "markdown",
   "metadata": {},
   "source": [
    "#### 4.1 Missing Data Check\n",
    "At the training phase it's important your dataset is ideal as possible, meaning things like; NO MISSING DATA in each observation."
   ]
  },
  {
   "cell_type": "code",
   "execution_count": 11,
   "metadata": {},
   "outputs": [
    {
     "name": "stdout",
     "output_type": "stream",
     "text": [
      "<class 'pandas.core.frame.DataFrame'>\n",
      "RangeIndex: 15819 entries, 0 to 15818\n",
      "Data columns (total 3 columns):\n",
      " #   Column     Non-Null Count  Dtype \n",
      "---  ------     --------------  ----- \n",
      " 0   sentiment  15819 non-null  int64 \n",
      " 1   message    15819 non-null  object\n",
      " 2   tweetid    15819 non-null  int64 \n",
      "dtypes: int64(2), object(1)\n",
      "memory usage: 370.9+ KB\n"
     ]
    }
   ],
   "source": [
    "df_train.info()"
   ]
  },
  {
   "cell_type": "markdown",
   "metadata": {},
   "source": [
    "The info command reveals presence of `Categorical` and `Numerical` features in our dataset, and as expected the message feature is categorical while the tweetid and sentiment are numerical. All features seem to have `Zero Non-Null` values. let's check to confirm count of null values present in each feature."
   ]
  },
  {
   "cell_type": "code",
   "execution_count": 12,
   "metadata": {},
   "outputs": [
    {
     "data": {
      "text/plain": [
       "sentiment    0\n",
       "message      0\n",
       "tweetid      0\n",
       "dtype: int64"
      ]
     },
     "execution_count": 12,
     "metadata": {},
     "output_type": "execute_result"
    }
   ],
   "source": [
    "df_train.isnull().sum()"
   ]
  },
  {
   "cell_type": "markdown",
   "metadata": {},
   "source": [
    "This Confirms; `No Missing Values in our Dataset`"
   ]
  },
  {
   "cell_type": "markdown",
   "metadata": {},
   "source": [
    "#### 4.2 Target Distribution Visualization"
   ]
  },
  {
   "cell_type": "markdown",
   "metadata": {},
   "source": [
    "Let's Visualize the distribution of our Target Response within our Training DataSet i.e. how many data samples we have for each of the different sentiment types"
   ]
  },
  {
   "cell_type": "code",
   "execution_count": 13,
   "metadata": {},
   "outputs": [
    {
     "data": {
      "image/png": "[encoded data removed]",
      "text/plain": [
       "<Figure size 576x360 with 1 Axes>"
      ]
     },
     "metadata": {},
     "output_type": "display_data"
    }
   ],
   "source": [
    "# Target variable distribution\n",
    "sns.set_style('darkgrid')\n",
    "plt.figure(figsize=(8, 5))\n",
    "sns.countplot(df_train['sentiment'])\n",
    "plt.title('Target variable distribution')\n",
    "plt.show()"
   ]
  },
  {
   "cell_type": "markdown",
   "metadata": {},
   "source": [
    "From the Sentiment Distribution, we can clear see a High level of `Class Imbalance` which is when the number of observations across different class labels are unevenly distributed. In training our classification model, it is preferable for all classes to have a relatively even split of observations. Hence we will trying out varying techniques to `Downsampling` the majority class to even off with the minority or `Upsampling` which is the reverse of Downsampling. We look to Trying the following\n",
    "- Smote\n",
    "- Oversampling\n",
    "- Undersampling ..."
   ]
  },
  {
   "cell_type": "markdown",
   "metadata": {},
   "source": [
    "<a id=\"five\"></a>\n",
    "## 5. DATA PROCESSING\n",
    "<a href=#cont>Back to Table of Contents</a>\n",
    "\n",
    "Let's get the data and clean it up a bit"
   ]
  },
  {
   "cell_type": "markdown",
   "metadata": {
    "colab_type": "text",
    "id": "oKeKPQWkU_-9"
   },
   "source": [
    "### 5.1 Text Cleaning"
   ]
  },
  {
   "cell_type": "markdown",
   "metadata": {},
   "source": [
    "#### 5.1.1 Remove Noise\n",
    "In text analytics, removing noise (i.e. unneccesary information) is a key part of getting the data into a usable format\n",
    "\n",
    "For our data set we will follow the following steps \n",
    " * removing Removing hashtags, mentions, and links\n",
    " * making everything lower case\n",
    " * removing punctuation"
   ]
  },
  {
   "cell_type": "code",
   "execution_count": 14,
   "metadata": {},
   "outputs": [
    {
     "data": {
      "text/plain": [
       "0     PolySciMajor EPA chief doesn't think carbon dioxide is main cause of global warming and.. wait, what!? https://t.co/yeLvcEFXkC via @mashable            \n",
       "1     It's not like we lack evidence of anthropogenic global warming                                                                                          \n",
       "2     RT @RawStory: Researchers say we have three years to act on climate change before it’s too late https://t.co/WdT0KdUr2f https://t.co/Z0ANPT…            \n",
       "3     #TodayinMaker# WIRED : 2016 was a pivotal year in the war on climate change https://t.co/44wOTxTLcD                                                     \n",
       "4     RT @SoyNovioDeTodas: It's 2016, and a racist, sexist, climate change denying bigot is leading in the polls. #ElectionNight                              \n",
       "5     Worth a read whether you do or don't believe in climate change https://t.co/ggLZVNYjun https://t.co/7AFE2mAH8j                                          \n",
       "6     RT @thenation: Mike Pence doesn’t believe in global warming or that smoking causes lung cancer. https://t.co/gvWYaauU8R                                 \n",
       "7     RT @makeandmendlife: Six big things we can ALL do today to fight climate change, or how to be a climate activistÃ¢â‚¬Â¦ https://t.co/TYMLu6DbNM hÃ¢â‚¬Â¦\n",
       "8     @AceofSpadesHQ My 8yo nephew is inconsolable. He wants to die of old age like me, but will perish in the fiery hellscape of climate change.             \n",
       "9     RT @paigetweedy: no offense… but like… how do you just not believe… in global warming………                                                                \n",
       "10    RT @StephenSchlegel: she's thinking about how she's going to die because your husband doesn't believe in climate change https://t.co/SjoFoNÃ¢â‚¬Â¦      \n",
       "11    I do hope people who are vocal about climate change also powering their homes with renewable energy, like @GoodEnergy                                   \n",
       "12    RT @tveitdal: We only have a 5 percent chance of avoiding ‘dangerous’ global warming, a study finds https://t.co/xUBTqNxhkK https://t.co/of…            \n",
       "13    RT @Alifaith55: Oh. My. God.\\n\\nTrump's Government removes climate change page from EPA website hours ahead of #climatemarch\\n\\nhttps://t.co/9z…        \n",
       "14    Fossil fuel giant ExxonMobil ‘misled’ the public about climate change, Harvard academics conclude https://t.co/ofc2WSu4EX                               \n",
       "Name: message, dtype: object"
      ]
     },
     "execution_count": 14,
     "metadata": {},
     "output_type": "execute_result"
    }
   ],
   "source": [
    "# View Data\n",
    "pd.set_option('display.max_colwidth', -1)      # set to display full text in df\n",
    "df_train['message'].head(15)"
   ]
  },
  {
   "cell_type": "markdown",
   "metadata": {},
   "source": [
    "Let's start by removing the url litter all over our data. The url is mainly the shortened version which contains no information of the context of it's address. Further insights can be done by search for keyword or phrases present in those address, but for our scope, we will limit our cleaning to replacing it with `'url-web'` , Reason being `So we can observe how tweets with links correlates with sentiments`"
   ]
  },
  {
   "cell_type": "code",
   "execution_count": 15,
   "metadata": {},
   "outputs": [],
   "source": [
    "# So let's remove url\n",
    "pattern_url = r'http[s]?://(?:[A-Za-z]|[0-9]|[$-_@.&+]|[!*\\(\\),]|(?:%[0-9A-Fa-f][0-9A-Fa-f]))+'\n",
    "subs_url = r'url-web'\n",
    "df_train['message'] = df_train['message'].replace(to_replace = pattern_url, value = subs_url, regex = True)"
   ]
  },
  {
   "cell_type": "code",
   "execution_count": 16,
   "metadata": {},
   "outputs": [
    {
     "data": {
      "text/plain": [
       "0     PolySciMajor EPA chief doesn't think carbon dioxide is main cause of global warming and.. wait, what!? url-web via @mashable               \n",
       "1     It's not like we lack evidence of anthropogenic global warming                                                                             \n",
       "2     RT @RawStory: Researchers say we have three years to act on climate change before it’s too late url-web url-web…                           \n",
       "3     #TodayinMaker# WIRED : 2016 was a pivotal year in the war on climate change url-web                                                        \n",
       "4     RT @SoyNovioDeTodas: It's 2016, and a racist, sexist, climate change denying bigot is leading in the polls. #ElectionNight                 \n",
       "5     Worth a read whether you do or don't believe in climate change url-web url-web                                                             \n",
       "6     RT @thenation: Mike Pence doesn’t believe in global warming or that smoking causes lung cancer. url-web                                    \n",
       "7     RT @makeandmendlife: Six big things we can ALL do today to fight climate change, or how to be a climate activistÃ¢â‚¬Â¦ url-web hÃ¢â‚¬Â¦   \n",
       "8     @AceofSpadesHQ My 8yo nephew is inconsolable. He wants to die of old age like me, but will perish in the fiery hellscape of climate change.\n",
       "9     RT @paigetweedy: no offense… but like… how do you just not believe… in global warming………                                                   \n",
       "10    RT @StephenSchlegel: she's thinking about how she's going to die because your husband doesn't believe in climate change url-webÃ¢â‚¬Â¦     \n",
       "11    I do hope people who are vocal about climate change also powering their homes with renewable energy, like @GoodEnergy                      \n",
       "12    RT @tveitdal: We only have a 5 percent chance of avoiding ‘dangerous’ global warming, a study finds url-web url-web…                       \n",
       "13    RT @Alifaith55: Oh. My. God.\\n\\nTrump's Government removes climate change page from EPA website hours ahead of #climatemarch\\n\\nurl-web…   \n",
       "14    Fossil fuel giant ExxonMobil ‘misled’ the public about climate change, Harvard academics conclude url-web                                  \n",
       "Name: message, dtype: object"
      ]
     },
     "execution_count": 16,
     "metadata": {},
     "output_type": "execute_result"
    }
   ],
   "source": [
    "# Let's view the MESSAGE created\n",
    "pd.set_option('display.max_colwidth', -1)      # set to display full text in df\n",
    "df_train['message'].head(15)"
   ]
  },
  {
   "cell_type": "markdown",
   "metadata": {},
   "source": [
    "As you can see in `index line 13:`  we have escape sequence present in front of the word TRUMP i.e. `\\n\\nTrump's`\n",
    "\n",
    "So let's proceed to remove any occurance of [Escape Seqences](https://linuxconfig.org/list-of-python-escape-sequence-characters-with-examples) in our Text."
   ]
  },
  {
   "cell_type": "code",
   "execution_count": 17,
   "metadata": {},
   "outputs": [],
   "source": [
    "# Removing escape sequence\n",
    "escape_seq = [\"\\r\", \"\\n\",'\\a', '\\b', '\\f', \"\\`\", '\\”', '\\t']\n",
    "space_char = \" \"\n",
    "df_train['message'] = df_train['message'].replace(to_replace = escape_seq, value = space_char, regex = True)"
   ]
  },
  {
   "cell_type": "code",
   "execution_count": 18,
   "metadata": {},
   "outputs": [
    {
     "data": {
      "text/plain": [
       "0     PolySciMajor EPA chief doesn't think carbon dioxide is main cause of global warming and.. wait, what!? url-web via @mashable               \n",
       "1     It's not like we lack evidence of anthropogenic global warming                                                                             \n",
       "2     RT @RawStory: Researchers say we have three years to act on climate change before it’s too late url-web url-web…                           \n",
       "3     #TodayinMaker# WIRED : 2016 was a pivotal year in the war on climate change url-web                                                        \n",
       "4     RT @SoyNovioDeTodas: It's 2016, and a racist, sexist, climate change denying bigot is leading in the polls. #ElectionNight                 \n",
       "5     Worth a read whether you do or don't believe in climate change url-web url-web                                                             \n",
       "6     RT @thenation: Mike Pence doesn’t believe in global warming or that smoking causes lung cancer. url-web                                    \n",
       "7     RT @makeandmendlife: Six big things we can ALL do today to fight climate change, or how to be a climate activistÃ¢â‚¬Â¦ url-web hÃ¢â‚¬Â¦   \n",
       "8     @AceofSpadesHQ My 8yo nephew is inconsolable. He wants to die of old age like me, but will perish in the fiery hellscape of climate change.\n",
       "9     RT @paigetweedy: no offense… but like… how do you just not believe… in global warming………                                                   \n",
       "10    RT @StephenSchlegel: she's thinking about how she's going to die because your husband doesn't believe in climate change url-webÃ¢â‚¬Â¦     \n",
       "11    I do hope people who are vocal about climate change also powering their homes with renewable energy, like @GoodEnergy                      \n",
       "12    RT @tveitdal: We only have a 5 percent chance of avoiding ‘dangerous’ global warming, a study finds url-web url-web…                       \n",
       "13    RT @Alifaith55: Oh. My. God.  Trump's Government removes climate change page from EPA website hours ahead of #climatemarch  url-web…       \n",
       "14    Fossil fuel giant ExxonMobil ‘misled’ the public about climate change, Harvard academics conclude url-web                                  \n",
       "Name: message, dtype: object"
      ]
     },
     "execution_count": 18,
     "metadata": {},
     "output_type": "execute_result"
    }
   ],
   "source": [
    "# Let's view the MESSAGE created\n",
    "pd.set_option('display.max_colwidth', -1)      # set to display full text in df\n",
    "df_train['message'].head(15)"
   ]
  },
  {
   "cell_type": "markdown",
   "metadata": {},
   "source": [
    "#### 5.1.2 Remove Punctuation \n",
    "\n",
    "Haven removed some unnecessary information (i.e info not entirely useful to training our desired outcome), we need make all the text lower case to remove some noise from capitalisation."
   ]
  },
  {
   "cell_type": "code",
   "execution_count": 19,
   "metadata": {},
   "outputs": [],
   "source": [
    "# first DeCaptilize our message (Convert to lowercase)\n",
    "df_train['message'] = df_train['message'].str.lower()"
   ]
  },
  {
   "cell_type": "code",
   "execution_count": 20,
   "metadata": {},
   "outputs": [],
   "source": [
    "# Define a function to handle punctuation removal\n",
    "def remove_punctuation(post):\n",
    "    return ''.join([l for l in post if l not in string.punctuation])"
   ]
  },
  {
   "cell_type": "code",
   "execution_count": 21,
   "metadata": {},
   "outputs": [],
   "source": [
    "# Remove Punctutaion Noise\n",
    "df_train['message'] = df_train['message'].apply(remove_punctuation)"
   ]
  },
  {
   "cell_type": "code",
   "execution_count": 22,
   "metadata": {},
   "outputs": [
    {
     "data": {
      "text/plain": [
       "0     polyscimajor epa chief doesnt think carbon dioxide is main cause of global warming and wait what urlweb via mashable                   \n",
       "1     its not like we lack evidence of anthropogenic global warming                                                                          \n",
       "2     rt rawstory researchers say we have three years to act on climate change before it’s too late urlweb urlweb…                           \n",
       "3     todayinmaker wired  2016 was a pivotal year in the war on climate change urlweb                                                        \n",
       "4     rt soynoviodetodas its 2016 and a racist sexist climate change denying bigot is leading in the polls electionnight                     \n",
       "5     worth a read whether you do or dont believe in climate change urlweb urlweb                                                            \n",
       "6     rt thenation mike pence doesn’t believe in global warming or that smoking causes lung cancer urlweb                                    \n",
       "7     rt makeandmendlife six big things we can all do today to fight climate change or how to be a climate activistã¢â‚¬â¦ urlweb hã¢â‚¬â¦   \n",
       "8     aceofspadeshq my 8yo nephew is inconsolable he wants to die of old age like me but will perish in the fiery hellscape of climate change\n",
       "9     rt paigetweedy no offense… but like… how do you just not believe… in global warming………                                                 \n",
       "10    rt stephenschlegel shes thinking about how shes going to die because your husband doesnt believe in climate change urlwebã¢â‚¬â¦       \n",
       "11    i do hope people who are vocal about climate change also powering their homes with renewable energy like goodenergy                    \n",
       "12    rt tveitdal we only have a 5 percent chance of avoiding ‘dangerous’ global warming a study finds urlweb urlweb…                        \n",
       "13    rt alifaith55 oh my god  trumps government removes climate change page from epa website hours ahead of climatemarch  urlweb…           \n",
       "14    fossil fuel giant exxonmobil ‘misled’ the public about climate change harvard academics conclude urlweb                                \n",
       "Name: message, dtype: object"
      ]
     },
     "execution_count": 22,
     "metadata": {},
     "output_type": "execute_result"
    }
   ],
   "source": [
    "# Verify Actions\n",
    "pd.set_option('display.max_colwidth', -1)      # set to display full text in df\n",
    "df_train['message'].head(15)"
   ]
  },
  {
   "cell_type": "markdown",
   "metadata": {},
   "source": [
    "NOTE; Three kind of challanges still persist; We can further tackle\n",
    "\n",
    "ASL fingerspelling, such as `ã¢â‚¬â¦` , lines `7`, `10` and so on\n",
    "\n",
    "Text wrapped in  example `‘dangerous’` and `‘misled’`, lines 12 & 14 resp.\n",
    "\n",
    "Thirdly, continoius dots e.g `warming………` and `urlweb…` lines `9` and `12` resp. and so on\n",
    "\n",
    "But for now let's Proceed to Tokenization"
   ]
  },
  {
   "cell_type": "markdown",
   "metadata": {},
   "source": [
    "### 5.2 Tokenization"
   ]
  },
  {
   "cell_type": "code",
   "execution_count": 23,
   "metadata": {},
   "outputs": [
    {
     "data": {
      "text/plain": [
       "0        [polyscimajor, epa, chief, doesnt, think, carbon, dioxide, is, main, cause, of, global, warming, and, wait, what, urlweb, via, mashable]                          \n",
       "1        [its, not, like, we, lack, evidence, of, anthropogenic, global, warming]                                                                                          \n",
       "2        [rt, rawstory, researchers, say, we, have, three, years, to, act, on, climate, change, before, it, ’, s, too, late, urlweb, urlweb, …]                            \n",
       "3        [todayinmaker, wired, 2016, was, a, pivotal, year, in, the, war, on, climate, change, urlweb]                                                                     \n",
       "4        [rt, soynoviodetodas, its, 2016, and, a, racist, sexist, climate, change, denying, bigot, is, leading, in, the, polls, electionnight]                             \n",
       "                                                                         ...                                                                                               \n",
       "15814    [rt, ezlusztig, they, took, down, the, material, on, global, warming, lgbt, rights, and, health, care, but, now, theyre, hocking, melanias, qvc, https, …]        \n",
       "15815    [rt, washingtonpost, how, climate, change, could, be, breaking, up, a, 200millionyearold, relationship, urlweb]                                                   \n",
       "15816    [notiven, rt, nytimesworld, what, does, trump, actually, believe, about, climate, change, rick, perry, joins, other, aides, in, …, urlweb]                        \n",
       "15817    [rt, sara, 8smiles, hey, liberals, the, climate, change, crap, is, a, hoax, that, ties, to, agenda, 2030, the, climate, is, being, changed, byã, ¢, â, ‚, ¬, â, ¦]\n",
       "15818    [rt, chetcannon, kurteichenwalds, climate, change, equation, in, 4, screenshots, urlweb]                                                                          \n",
       "Name: message, Length: 15819, dtype: object"
      ]
     },
     "execution_count": 23,
     "metadata": {},
     "output_type": "execute_result"
    }
   ],
   "source": [
    "# Apply the tweet tokenization\n",
    "tt = TweetTokenizer()\n",
    "df_train['message'].apply(tt.tokenize)"
   ]
  },
  {
   "cell_type": "markdown",
   "metadata": {},
   "source": [
    "Haven Tokenize our Words, let's visualize the Tokens with the most sentiment using `WordCloud`. word Cloud for the various sentiments: wordcloud_neg(-1), wordcloud_neu(0), wordcloud_weak(1) and wordcloud_strong(2). From the Cloud, we noticed that the stems: \"Chang\" and \"climat\" has the highest frequency in all the sentiments hence they will be purged in the data engineering section because they contribute nothing to the model. </br>We also observed that the more URLs in the tweets, the higher the sentiments about climate change."
   ]
  },
  {
   "cell_type": "markdown",
   "metadata": {
    "colab": {},
    "colab_type": "code",
    "id": "h3G_aB4hU__G",
    "outputId": "92110f2c-5cab-4f7b-a5b3-4a9b0be103e3"
   },
   "source": [
    "##### Repeat Text Cleaning for Test DataSet\n",
    "NOTE: All functions applied have already been defined while cleaning our Train Data."
   ]
  },
  {
   "cell_type": "code",
   "execution_count": 24,
   "metadata": {
    "colab_type": "text",
    "id": "GnKe3gyoU__Z"
   },
   "outputs": [],
   "source": [
    "# Removing Noise\n",
    "df_test['message'] = df_test['message'].replace(to_replace = pattern_url, value = subs_url, regex = True)\n",
    "df_test['message'] = df_test['message'].replace(to_replace = escape_seq, value = space_char, regex = True)"
   ]
  },
  {
   "cell_type": "code",
   "execution_count": 25,
   "metadata": {},
   "outputs": [],
   "source": [
    "# Convert Capitals, Remove Punctuations\n",
    "df_test['message'] = df_test['message'].str.lower()\n",
    "df_test['message'] = df_test['message'].apply(remove_punctuation)"
   ]
  },
  {
   "cell_type": "code",
   "execution_count": 26,
   "metadata": {
    "colab": {},
    "colab_type": "code",
    "id": "CUATZmo5U__h",
    "jupyter": {
     "outputs_hidden": true
    }
   },
   "outputs": [
    {
     "data": {
      "text/plain": [
       "0        [europe, will, now, be, looking, to, china, to, make, sure, that, it, is, not, alone, in, fighting, climate, change, …, urlweb]                              \n",
       "1        [combine, this, with, the, polling, of, staffers, re, climate, change, and, womens, rights, and, you, have, a, fascist, state, urlweb]                       \n",
       "2        [the, scary, unimpeachable, evidence, that, climate, change, is, already, here, urlweb, itstimetochange, climatechange, zeroco, 2]                           \n",
       "3        [karoli, morgfair, osborneink, dailykos, putin, got, to, you, too, jill, trump, doesnt, believe, in, climate, change, at, all, thinks, its, s, hoax]         \n",
       "4        [rt, fakewillmoore, female, orgasms, cause, global, warming, sarcastic, republican]                                                                          \n",
       "                                                ...                                                                                                                   \n",
       "10541    [rt, brittanybohrer, brb, writing, a, poem, about, climate, change, climatechange, science, poetry, fakenews, alternativefacts, urlweb, …]                   \n",
       "10542    [2016, the, year, climate, change, came, home, during, the, hottest, year, on, record, karl, mathiesen, travelled, to, tasmania, …, urlweb]                  \n",
       "10543    [rt, loopvanuatu, pacific, countries, positive, about, fiji, leading, the, global, climate, change, conference, in, november, urlweb]                        \n",
       "10544    [rt, xanria, 00018, you, ’, re, so, hot, you, must, be, the, cause, for, global, warming, aldublaboroflove, jophie, 30, asn, 585]                            \n",
       "10545    [rt, chloebalaoing, climate, change, is, a, global, issue, thats, only, getting, worse, eating, plant, based, is, the, least, amount, of, effort, that, h, …]\n",
       "Name: message, Length: 10546, dtype: object"
      ]
     },
     "execution_count": 26,
     "metadata": {},
     "output_type": "execute_result"
    }
   ],
   "source": [
    "# Tokenisation\n",
    "df_test['message'].apply(tt.tokenize)"
   ]
  },
  {
   "cell_type": "markdown",
   "metadata": {
    "colab": {},
    "colab_type": "code",
    "id": "_XY1p3uZVAAS"
   },
   "source": [
    "`There are other forms of text cleaning that are important to be applied, such as;`\n",
    "\n",
    "    STEMMING is the process of transforming to the root word. It uses an algorithm that removes common word-endings from English words, such as “ly,” “es,” “ed,” and “s”. Some methods includes `Porter`, `Lancaster`, `Snowball`.\n",
    "    \n",
    "    LEMMATIZATION similar to stemming, it processes by grouping words of similar meaning together. In other words, your root STEM(the word you ended up with), is not something you can just look up in a dictionary, often called LEMMA.\n",
    "    \n",
    "    STOPWORD words which do not contain important significance to be used in Search Queries `e.g as, and, if`. Usually these words are filtered out from search queries because they return a vast amount of unnecessary information.\n",
    "    \n",
    "NOW thanks to Python...\n",
    "\n",
    "sklearn has a built in text feature extraction module called `CountVectorizer` that will literally do all of that work in one line of code! This function will convert a collection of documents (rows of text) into a matrix of token counts.\n",
    "\n",
    "So let's go ahead to apply the CountVectorizer.\n"
   ]
  },
  {
   "cell_type": "markdown",
   "metadata": {},
   "source": [
    "### 5.3 Count Vectorizer"
   ]
  },
  {
   "cell_type": "markdown",
   "metadata": {},
   "source": [
    "Let's first split our dataset because................(FILL IN: EXPERIEMENT what happens if we CountVectorize before splitting, what happens)"
   ]
  },
  {
   "cell_type": "code",
   "execution_count": 27,
   "metadata": {},
   "outputs": [],
   "source": [
    "# First features and label \n",
    "X_train = df_train['message']\n",
    "y_train = df_train['sentiment']\n",
    "\n",
    "# split data to Train/Test set\n",
    "X_train, X_test, y_train, y_test = train_test_split(X_train, y_train, test_size=0.25, random_state = 42)"
   ]
  },
  {
   "cell_type": "markdown",
   "metadata": {},
   "source": [
    "Before we move on, let's take a look at the distribution of observations between our classes."
   ]
  },
  {
   "cell_type": "code",
   "execution_count": 28,
   "metadata": {},
   "outputs": [
    {
     "data": {
      "image/png": "[encoded data removed]",
      "text/plain": [
       "<Figure size 432x288 with 1 Axes>"
      ]
     },
     "metadata": {},
     "output_type": "display_data"
    },
    {
     "data": {
      "text/plain": [
       " 1    6352\n",
       " 2    2746\n",
       " 0    1806\n",
       "-1    960 \n",
       "Name: sentiment, dtype: int64"
      ]
     },
     "execution_count": 28,
     "metadata": {},
     "output_type": "execute_result"
    }
   ],
   "source": [
    "unique, counts = np.unique(y_train, return_counts=True)\n",
    "plt.bar(unique, counts)\n",
    "unique, counts = np.unique(y_test, return_counts=True)\n",
    "plt.bar(unique, counts)\n",
    "\n",
    "plt.title('Class Frequency')\n",
    "plt.xlabel('Class')\n",
    "plt.ylabel('Frequency')\n",
    "plt.xticks(ticks=[2,1,0,-1], labels=[2,1,0,-1])\n",
    "\n",
    "plt.show()\n",
    "y_train.value_counts()"
   ]
  },
  {
   "cell_type": "markdown",
   "metadata": {},
   "source": [
    "**Class Imbalance still needs to be tackled here: there are 8530 (6352) observations in class 1 and only 1296 (960) in class -1.**\n",
    "\n",
    "The Effect this will have on the predictivity of our model can't be more emphazised."
   ]
  },
  {
   "cell_type": "markdown",
   "metadata": {},
   "source": [
    "let's proceed to initializing and fitting a tuned CountVectorizer, so that we can tackle the Class Imbalance challange and then proceed to Train and Testing data."
   ]
  },
  {
   "cell_type": "code",
   "execution_count": 132,
   "metadata": {},
   "outputs": [],
   "source": [
    "# initilize count vectorizer\n",
    "betterVect = CountVectorizer(stop_words='english', \n",
    "                             min_df=1, \n",
    "                             max_df=0.5, \n",
    "                             ngram_range=(1, 5))"
   ]
  },
  {
   "cell_type": "code",
   "execution_count": 133,
   "metadata": {},
   "outputs": [],
   "source": [
    "#transform the split training data using only the 'message' column values\n",
    "count_train =betterVect.fit_transform(X_train.values)\n",
    "\n",
    "#transform the split test data using only the 'message' column values\n",
    "count_test=betterVect.transform(X_test.values)\n",
    "\n",
    "# Repeat for Main Test Data\n",
    "counteer_test = betterVect.transform(df_test['message'])"
   ]
  },
  {
   "cell_type": "code",
   "execution_count": 134,
   "metadata": {},
   "outputs": [
    {
     "name": "stdout",
     "output_type": "stream",
     "text": [
      "['000005', '004', '004 change', '004 change climate', '004 change climate dreams', '00kevin7', '00kevin7 mannyottawa', '00kevin7 mannyottawa ecosensenow', '00kevin7 mannyottawa ecosensenow youtube', '00kevin7 mannyottawa ecosensenow youtube obviously', '010536', '010536 http', '012', '012 urlweb', '012 urlweb urlweb', '02cents0', '02cents0 positivelyjoan', '02cents0 positivelyjoan rt', '02cents0 positivelyjoan rt doughravme', '02cents0 positivelyjoan rt doughravme florida', '0324', '0324 earthhour', '0324 earthhour 2016', '0324 earthhour 2016 goes', '0324 earthhour 2016 goes dark', '0519am', '0519am climate', '0519am climate change', '0519am climate change looks', '0519am climate change looks like', '07', '094', '094 amazon', '094 amazon kindle', '094 amazon kindle urlweb', '0bama', '0bama 9112001', '0bama 9112001 amp', '0bama 9112001 amp climate', '0bama 9112001 amp climate change', '0bamas', '0bamas ties', '0bamas ties global', '0bamas ties global warming', '0bamas ties global warming amp', '0x526978', '0x526978 davidharley6', '0x526978 davidharley6 gengis', '0x526978 davidharley6 gengis person', '0x526978 davidharley6 gengis person recorded', '10', '10 americans', '10 americans think', '10 americans think climate', '10 americans think climate change', '10 bet', '10 bet just', '10 bet just urlweb', '10 biggest', '10 biggest climate', '10 biggest climate change', '10 biggest climate change stories', '10 biggest global', '10 biggest global warming', '10 biggest global warming stories', '10 countries', '10 countries affected', '10 countries affected climate', '10 countries affected climate change', '10 hospital', '10 hospital yesterday', '10 hospital yesterday bazaar', '10 hospital yesterday bazaar turbulence', '10 min', '10 min kid', '10 min kid yemen', '10 min kid yemen dies', '10 ngolo', '10 ngolo kantes', '10 ngolo kantes heat', '10 ngolo kantes heat map', '10 places', '10 places visit', '10 places visit disappear', '10 places visit disappear climate', '10 species', '10 species risk', '10 species risk climate', '10 species risk climate change', '10 starting', '10 starting climate', '10 starting climate change', '10 starting climate change unit', '10 things', '10 things probably', '10 things probably believe', '10 things probably believe complete', '10 urlweb', '10 urlweb urlweb', '10 ways']\n"
     ]
    }
   ],
   "source": [
    "# print the first 10 features of the count_vectorizer\n",
    "print(betterVect.get_feature_names()[:100])"
   ]
  },
  {
   "cell_type": "markdown",
   "metadata": {},
   "source": [
    "### 5.4 TF-IDF Vectorizer\n",
    "\n",
    "TF-IDF which stands for `Term Frequency-Inverse Document Frequency`.It is a commonly used NLP (Natural Language Processing) model that helps you determine the most important words in each document in the corpus.The idea behind TFIDF is that each corpus may have shared words beyond just the stopwords.These common words are like stop words and should be removed or atleast downweighted in importance."
   ]
  },
  {
   "cell_type": "code",
   "execution_count": 135,
   "metadata": {},
   "outputs": [],
   "source": [
    "# initilize TF-IDF Vectorizer\n",
    "tfidf = TfidfVectorizer(stop_words='english', max_df =0.7)"
   ]
  },
  {
   "cell_type": "code",
   "execution_count": 136,
   "metadata": {},
   "outputs": [],
   "source": [
    "# Transform train & test data\n",
    "tfidf_train =tfidf.fit_transform(X_train)\n",
    "tfidf_test =tfidf.transform(X_test)\n",
    "\n",
    "# Repeat for test data\n",
    "tfidf_test =tfidf.transform(X_test)"
   ]
  },
  {
   "cell_type": "code",
   "execution_count": 137,
   "metadata": {},
   "outputs": [
    {
     "name": "stdout",
     "output_type": "stream",
     "text": [
      "['000005', '004', '00kevin7', '010536', '012', '02cents0', '0324', '0519am', '07', '094', '0bama', '0bamas', '0x526978', '10', '100', '1000', '100000', '100000250000', '1000s', '1001', '100daysofshame', '100h', '100isnow', '100pmin', '100s', '100th', '100x', '101', '1010', '1015', '1030', '105', '106', '109c', '10bucks', '10most', '10th', '10yrs', '10ã', '11', '110', '1100', '1110c', '1111', '1123', '1130', '114', '1140', '115', '11500', '11pm', '11th', '11yearold', '12', '1200', '120k', '1224', '125', '127150', '12am', '12balboa', '12th', '13', '130', '1306chomley', '131', '139', '14', '140', '140b', '145', '1459', '1464', '146th', '1488ã', '15', '150', '15000', '15c', '15degree', '15th', '15yearold', '15ã', '16', '160000', '164', '16yearold', '17', '170', '17352', '175', '1778', '177crln13days', '17mohdsajid', '17posc225', '18', '1800', '18001930', '1800s', '180bn']\n"
     ]
    }
   ],
   "source": [
    "# print the first 10 features of the TF-IDF Vectorizer\n",
    "print(tfidf.get_feature_names()[:100])"
   ]
  },
  {
   "cell_type": "code",
   "execution_count": 138,
   "metadata": {},
   "outputs": [
    {
     "name": "stdout",
     "output_type": "stream",
     "text": [
      "[[0. 0. 0. ... 0. 0. 0.]\n",
      " [0. 0. 0. ... 0. 0. 0.]\n",
      " [0. 0. 0. ... 0. 0. 0.]\n",
      " ...\n",
      " [0. 0. 0. ... 0. 0. 0.]\n",
      " [0. 0. 0. ... 0. 0. 0.]\n",
      " [0. 0. 0. ... 0. 0. 0.]]\n"
     ]
    }
   ],
   "source": [
    "#print the first 20 vectors of tfidf training data\n",
    "print(tfidf_train.A[:10])"
   ]
  },
  {
   "cell_type": "code",
   "execution_count": 139,
   "metadata": {},
   "outputs": [
    {
     "name": "stdout",
     "output_type": "stream",
     "text": [
      "   000005  004  00kevin7  010536  012  02cents0  0324  0519am   07  094  ...  \\\n",
      "0  0.0     0.0  0.0       0.0     0.0  0.0       0.0   0.0     0.0  0.0  ...   \n",
      "1  0.0     0.0  0.0       0.0     0.0  0.0       0.0   0.0     0.0  0.0  ...   \n",
      "2  0.0     0.0  0.0       0.0     0.0  0.0       0.0   0.0     0.0  0.0  ...   \n",
      "3  0.0     0.0  0.0       0.0     0.0  0.0       0.0   0.0     0.0  0.0  ...   \n",
      "4  0.0     0.0  0.0       0.0     0.0  0.0       0.0   0.0     0.0  0.0  ...   \n",
      "\n",
      "    โอ  と通知した  どうなる米国  スタリん時代のソ連や毛沢東の文化大革命並のサイエンスに政治的介入だ  地球温暖化会議  報告書は  \\\n",
      "0  0.0  0.0    0.0     0.0                                0.0      0.0    \n",
      "1  0.0  0.0    0.0     0.0                                0.0      0.0    \n",
      "2  0.0  0.0    0.0     0.0                                0.0      0.0    \n",
      "3  0.0  0.0    0.0     0.0                                0.0      0.0    \n",
      "4  0.0  0.0    0.0     0.0                                0.0      0.0    \n",
      "\n",
      "   欧州が最も大きく地球温暖化の影響を受けていると警告しています  気候変動との表現を削除しないと予算を貰えない  申請書のアブストラクトに  \\\n",
      "0  0.0                             0.0                     0.0            \n",
      "1  0.0                             0.0                     0.0            \n",
      "2  0.0                             0.0                     0.0            \n",
      "3  0.0                             0.0                     0.0            \n",
      "4  0.0                             0.0                     0.0            \n",
      "\n",
      "   米国政府はある研究者に連絡して  \n",
      "0  0.0              \n",
      "1  0.0              \n",
      "2  0.0              \n",
      "3  0.0              \n",
      "4  0.0              \n",
      "\n",
      "[5 rows x 20401 columns]\n"
     ]
    }
   ],
   "source": [
    "# create tfidf vectorizer df\n",
    "tfidf_df = pd.DataFrame(tfidf_train.A, columns=tfidf.get_feature_names())\n",
    "print(tfidf_df.head())"
   ]
  },
  {
   "cell_type": "markdown",
   "metadata": {},
   "source": [
    "Forget about thhe chinese, it's well understandable English text ready to be feed to our model."
   ]
  },
  {
   "cell_type": "markdown",
   "metadata": {},
   "source": [
    "<a id=\"six\"></a>\n",
    "## 6. Modeling\n",
    "<a href=#cont>Back to Table of Contents</a>\n",
    "\n"
   ]
  },
  {
   "cell_type": "markdown",
   "metadata": {},
   "source": [
    "### 6.1. Naive Bayes Model\n",
    "\n",
    "Naive bayes is most commonly used for testing NLP classification because of its basis in probability. Naive bayes algorithm attempts to answer the question 'Given a particular piece of data how likely is the outcome?'\n",
    "\n",
    "Each word acts as a feature from our count vectorizer helping classify our message using probability.\n",
    "\n",
    "There are three types of Naive Bayes model under the scikit-learn library:\n",
    "\n",
    "    Gaussian: It is used in classification and it assumes that features follow a normal distribution.\n",
    "\n",
    "    Multinomial: It is used for discrete counts. For example, let’s say,  we have a text classification problem. Here we can consider Bernoulli trials which is one step further and instead of “word occurring in the document”, we have “count how often word occurs in the document”, you can think of it as “number of times outcome number x_i is observed over the n trials”.\n",
    "\n",
    "    Bernoulli: The binomial model is useful if your feature vectors are binary (i.e. zeros and ones). One application would be text classification with ‘bag of words’ model where the 1s & 0s are “word occurs in the document” and “word does not occur in the document” respectively.\n",
    "\n",
    "We choose the Multinomial Naive Bayes (MultinomialNB) Model because of how well it works with count vectorizer as it expects integer inputs.\n"
   ]
  },
  {
   "cell_type": "code",
   "execution_count": 126,
   "metadata": {},
   "outputs": [],
   "source": [
    "# initialize classifier\n",
    "nb_classifier = MultinomialNB()\n",
    "\n",
    "from sklearn.ensemble import RandomForestClassifier\n",
    "# Instantiating the model\n",
    "clf = RandomForestClassifier(max_depth = 25, random_state = 42)"
   ]
  },
  {
   "cell_type": "code",
   "execution_count": 127,
   "metadata": {},
   "outputs": [],
   "source": [
    "# Then deal with Class Imbalance\n",
    "from imblearn.over_sampling import SMOTE\n",
    "sm = SMOTE(random_state = 42)\n",
    "X_train_oversampled, y_train_oversampled = sm.fit_resample(count_train, y_train)"
   ]
  },
  {
   "cell_type": "markdown",
   "metadata": {},
   "source": [
    "Application of Oversampling technique to resolving class imbalance tend to overfit train data resulting in poor performance of our model. So it's application is dropped"
   ]
  },
  {
   "cell_type": "code",
   "execution_count": 128,
   "metadata": {},
   "outputs": [
    {
     "data": {
      "image/png": "[encoded data removed]",
      "text/plain": [
       "<Figure size 432x288 with 1 Axes>"
      ]
     },
     "metadata": {},
     "output_type": "display_data"
    },
    {
     "data": {
      "text/plain": [
       "-1    6352\n",
       " 1    6352\n",
       " 0    6352\n",
       " 2    6352\n",
       "Name: sentiment, dtype: int64"
      ]
     },
     "execution_count": 128,
     "metadata": {},
     "output_type": "execute_result"
    }
   ],
   "source": [
    "uni, cts = np.unique(y_train_oversampled, return_counts=True)\n",
    "plt.bar(uni, cts)\n",
    "uni, cts = np.unique(y_test, return_counts=True)\n",
    "plt.bar(uni, cts)\n",
    "\n",
    "plt.title('Class Frequency')\n",
    "plt.xlabel('Class')\n",
    "plt.ylabel('Frequency')\n",
    "plt.xticks(ticks=[2,1,0,-1], labels=[2,1,0,-1])\n",
    "\n",
    "plt.show()\n",
    "y_train_oversampled.value_counts()"
   ]
  },
  {
   "cell_type": "markdown",
   "metadata": {},
   "source": [
    "NOW; We have Oversampled our dataset using the SMOTE method. Note that this was applied only to the training dataset and the Test set (in red) remains untouched to act for as unseen/ Real world data."
   ]
  },
  {
   "cell_type": "code",
   "execution_count": 129,
   "metadata": {},
   "outputs": [
    {
     "data": {
      "text/plain": [
       "RandomForestClassifier(max_depth=25, random_state=42)"
      ]
     },
     "execution_count": 129,
     "metadata": {},
     "output_type": "execute_result"
    }
   ],
   "source": [
    "## OBSERVE WE USED count_train NOT the Oversampled train data.\n",
    "# Training Model with CountVector\n",
    "nb_classifier.fit(count_train, y_train)\n",
    "\n",
    "clf.fit(count_train, y_train)"
   ]
  },
  {
   "cell_type": "code",
   "execution_count": 130,
   "metadata": {},
   "outputs": [
    {
     "data": {
      "text/plain": [
       "\"\\nREASON FROM HASHING OUT clf_y_pred: AWAITING RESOLUTION\\n\\nValueError: could not convert string to float: 'rt antonioparis texas is experiencing its third \\n‘500year’ flood in 3 years bad luck or climate change what do you think urlweb…'\\n\""
      ]
     },
     "execution_count": 130,
     "metadata": {},
     "output_type": "execute_result"
    }
   ],
   "source": [
    "# Predicting for Counter Vectorizer\n",
    "pred_coutv_mnb = nb_classifier.predict(count_test)\n",
    "\n",
    "# Making predictions\n",
    "# clf_y_pred = clf.predict(X_test)\n",
    "'''\n",
    "REASON FROM HASHING OUT clf_y_pred: AWAITING RESOLUTION\n",
    "\n",
    "ValueError: could not convert string to float: 'rt antonioparis texas is experiencing its third \n",
    "‘500year’ flood in 3 years bad luck or climate change what do you think urlweb…'\n",
    "'''"
   ]
  },
  {
   "cell_type": "markdown",
   "metadata": {},
   "source": [
    "<a id=\"seven\"></a>\n",
    "## 7. MODEL PERFORMANCE\n",
    "<a href=#cont>Back to Table of Contents</a>\n",
    "\n"
   ]
  },
  {
   "cell_type": "markdown",
   "metadata": {},
   "source": [
    "### 7.1 Model Testing Scores\n"
   ]
  },
  {
   "cell_type": "code",
   "execution_count": 131,
   "metadata": {},
   "outputs": [
    {
     "name": "stdout",
     "output_type": "stream",
     "text": [
      "Classification Report\n",
      "              precision    recall  f1-score   support\n",
      "\n",
      "     1: News       0.00      0.00      0.00       336\n",
      "      2: Pro       0.30      0.42      0.35       547\n",
      "  0: Neutral       0.66      0.74      0.70      2178\n",
      "    -1: Anti       0.56      0.49      0.52       894\n",
      "\n",
      "    accuracy                           0.57      3955\n",
      "   macro avg       0.38      0.41      0.39      3955\n",
      "weighted avg       0.53      0.57      0.55      3955\n",
      "\n"
     ]
    }
   ],
   "source": [
    "labels = ['1: News', '2: Pro', '0: Neutral', '-1: Anti']\n",
    "print('Classification Report')\n",
    "Classification_Report = classification_report(y_test, pred_coutv_mnb, target_names=labels)\n",
    "print(Classification_Report)"
   ]
  },
  {
   "cell_type": "code",
   "execution_count": 116,
   "metadata": {},
   "outputs": [],
   "source": [
    "# CLF\n",
    "# labels = ['1: News', '2: Pro', '0: Neutral', '-1: Anti']\n",
    "# print('Classification Report')\n",
    "# print(classification_report(y_test, clf_y_pred, target_names=labels))"
   ]
  },
  {
   "cell_type": "code",
   "execution_count": 117,
   "metadata": {
    "scrolled": true
   },
   "outputs": [
    {
     "name": "stdout",
     "output_type": "stream",
     "text": [
      "Accuracy Score: 73.0%\n"
     ]
    }
   ],
   "source": [
    "print(f'Accuracy Score: {round(metrics.accuracy_score(y_test, pred_coutv_mnb), 2) * 100}''%')"
   ]
  },
  {
   "cell_type": "code",
   "execution_count": 45,
   "metadata": {},
   "outputs": [],
   "source": [
    "# print(f'Accuracy Score: {round(metrics.accuracy_score(y_test, clf_y_pred), 2) * 100}''%')"
   ]
  },
  {
   "cell_type": "markdown",
   "metadata": {},
   "source": [
    "1. first Accuracy Score: 71.0%"
   ]
  },
  {
   "cell_type": "markdown",
   "metadata": {},
   "source": [
    "### 7.2 Model Confusion matrix"
   ]
  },
  {
   "cell_type": "code",
   "execution_count": 46,
   "metadata": {},
   "outputs": [
    {
     "data": {
      "text/html": [
       "<div>\n",
       "<style scoped>\n",
       "    .dataframe tbody tr th:only-of-type {\n",
       "        vertical-align: middle;\n",
       "    }\n",
       "\n",
       "    .dataframe tbody tr th {\n",
       "        vertical-align: top;\n",
       "    }\n",
       "\n",
       "    .dataframe thead th {\n",
       "        text-align: right;\n",
       "    }\n",
       "</style>\n",
       "<table border=\"1\" class=\"dataframe\">\n",
       "  <thead>\n",
       "    <tr style=\"text-align: right;\">\n",
       "      <th></th>\n",
       "      <th>1: News</th>\n",
       "      <th>2: Pro</th>\n",
       "      <th>0: Neutral</th>\n",
       "      <th>-1: Anti</th>\n",
       "    </tr>\n",
       "  </thead>\n",
       "  <tbody>\n",
       "    <tr>\n",
       "      <th>1: News</th>\n",
       "      <td>86</td>\n",
       "      <td>25</td>\n",
       "      <td>199</td>\n",
       "      <td>26</td>\n",
       "    </tr>\n",
       "    <tr>\n",
       "      <th>2: Pro</th>\n",
       "      <td>10</td>\n",
       "      <td>137</td>\n",
       "      <td>345</td>\n",
       "      <td>55</td>\n",
       "    </tr>\n",
       "    <tr>\n",
       "      <th>0: Neutral</th>\n",
       "      <td>5</td>\n",
       "      <td>33</td>\n",
       "      <td>1942</td>\n",
       "      <td>198</td>\n",
       "    </tr>\n",
       "    <tr>\n",
       "      <th>-1: Anti</th>\n",
       "      <td>2</td>\n",
       "      <td>7</td>\n",
       "      <td>195</td>\n",
       "      <td>690</td>\n",
       "    </tr>\n",
       "  </tbody>\n",
       "</table>\n",
       "</div>"
      ],
      "text/plain": [
       "            1: News  2: Pro  0: Neutral  -1: Anti\n",
       "1: News     86       25      199         26      \n",
       "2: Pro      10       137     345         55      \n",
       "0: Neutral  5        33      1942        198     \n",
       "-1: Anti    2        7       195         690     "
      ]
     },
     "execution_count": 46,
     "metadata": {},
     "output_type": "execute_result"
    }
   ],
   "source": [
    "labels = ['1: News', '2: Pro', '0: Neutral', '-1: Anti']\n",
    "pd.DataFrame(data=confusion_matrix(y_test, pred_coutv_mnb), index=labels, columns=labels)"
   ]
  },
  {
   "cell_type": "code",
   "execution_count": 47,
   "metadata": {},
   "outputs": [
    {
     "data": {
      "image/png": "[encoded data removed]",
      "text/plain": [
       "<Figure size 1080x504 with 2 Axes>"
      ]
     },
     "metadata": {},
     "output_type": "display_data"
    }
   ],
   "source": [
    "# Confusion matrix\n",
    "labels = ['1: News', '2: Pro', '0: Neutral', '-1: Anti']\n",
    "cm = confusion_matrix(y_test, pred_coutv_mnb)\n",
    "disp = ConfusionMatrixDisplay(confusion_matrix=cm, display_labels=labels)\n",
    "fig, ax = plt.subplots(figsize=(15,7))\n",
    "disp.plot(ax=ax)\n",
    "plt.show()"
   ]
  },
  {
   "cell_type": "markdown",
   "metadata": {},
   "source": [
    "<a id=\"eight\"></a>\n",
    "## 8. SAVING & EXPORTING MODEL\n",
    "<a href=#cont>Back to Table of Contents</a>"
   ]
  },
  {
   "cell_type": "code",
   "execution_count": 48,
   "metadata": {},
   "outputs": [],
   "source": [
    "tester = nb_classifier.predict(counteer_test)\n",
    "\n",
    "save_df = pd.DataFrame(tester, columns=['sentiment'])"
   ]
  },
  {
   "cell_type": "code",
   "execution_count": 49,
   "metadata": {},
   "outputs": [],
   "source": [
    "output=pd.DataFrame({'tweetid': df_test['tweetid']})\n",
    "submission=output.join(save_df)"
   ]
  },
  {
   "cell_type": "code",
   "execution_count": 50,
   "metadata": {},
   "outputs": [],
   "source": [
    "#submission.to_csv('submission.csv',index=False)"
   ]
  },
  {
   "cell_type": "code",
   "execution_count": 51,
   "metadata": {},
   "outputs": [],
   "source": [
    "# View Exported CSV file\n",
    "#submission.head(10)"
   ]
  },
  {
   "cell_type": "markdown",
   "metadata": {},
   "source": [
    "### Logging to Comet"
   ]
  },
  {
   "cell_type": "code",
   "execution_count": 52,
   "metadata": {},
   "outputs": [],
   "source": [
    "# Create dictionaries for the data we want to log\n",
    "# param_grid = (min_df = 1, max_df=0.5, ngram_range=(1, 1), max_depth=25)\n",
    "\n",
    "params = {\"random_state\": 42,\n",
    "           \"test_size\": 0.25,\n",
    "          \"model_type\": \"Multinomial Naive Bayes\",\n",
    "          \"scaler\": \"standard scaler\",\n",
    "          \"stratify\": True\n",
    "          }"
   ]
  },
  {
   "cell_type": "code",
   "execution_count": 53,
   "metadata": {},
   "outputs": [],
   "source": [
    "# Log our parameters and results\n",
    "experiment.log_parameters(params)\n",
    "# experiment.log_metrics(metrics)\n",
    "experiment.log_metric(\"Classification_Report\", Classification_Report) , \n",
    "experiment.log_notebook('3.0 Advance_Classification_Notebook.ipynb', overwrite=False)"
   ]
  },
  {
   "cell_type": "markdown",
   "metadata": {},
   "source": [
    "If you're using comet within a jupyter notebook, it's important to end your experiment when you've finished as illustrated below."
   ]
  },
  {
   "cell_type": "code",
   "execution_count": 54,
   "metadata": {},
   "outputs": [],
   "source": [
    "# STRICTLY FOR LOCAL JUPYTER NOTEBOOKS\n",
    "experiment.end()"
   ]
  },
  {
   "cell_type": "markdown",
   "metadata": {},
   "source": [
    "#### Applying tfidf Vectors\n",
    "To avoid Error due to DIMENSION MISMATCH, let's test our tfidf Vector Here. "
   ]
  },
  {
   "cell_type": "code",
   "execution_count": 55,
   "metadata": {},
   "outputs": [],
   "source": [
    "# Training Model with tfidf Vector\n",
    "nb_classifier.fit(tfidf_train, y_train)\n",
    "\n",
    "# Predicting for tfidf Vectorizer\n",
    "pred_tfidf_mnb = nb_classifier.predict(tfidf_test)"
   ]
  },
  {
   "cell_type": "code",
   "execution_count": 56,
   "metadata": {},
   "outputs": [
    {
     "name": "stdout",
     "output_type": "stream",
     "text": [
      "Classification Report\n",
      "              precision    recall  f1-score   support\n",
      "\n",
      "     1: News       1.00      0.02      0.04       336\n",
      "      2: Pro       1.00      0.06      0.12       547\n",
      "  0: Neutral       0.62      0.98      0.76      2178\n",
      "    -1: Anti       0.88      0.46      0.61       894\n",
      "\n",
      "    accuracy                           0.66      3955\n",
      "   macro avg       0.87      0.38      0.38      3955\n",
      "weighted avg       0.76      0.66      0.58      3955\n",
      "\n"
     ]
    }
   ],
   "source": [
    "labels = ['1: News', '2: Pro', '0: Neutral', '-1: Anti']\n",
    "print('Classification Report')\n",
    "print(classification_report(y_test, pred_tfidf_mnb, target_names=labels))"
   ]
  },
  {
   "cell_type": "code",
   "execution_count": 57,
   "metadata": {},
   "outputs": [
    {
     "name": "stdout",
     "output_type": "stream",
     "text": [
      "Accuracy Score: 66.0%\n"
     ]
    }
   ],
   "source": [
    "print(f'Accuracy Score: {round(metrics.accuracy_score(y_test, pred_tfidf_mnb), 2) * 100}''%')"
   ]
  },
  {
   "cell_type": "markdown",
   "metadata": {},
   "source": [
    "<a id=\"nine\"></a>\n",
    "## 9. BEST MODEL EXPLANATION\n",
    "<a href=#cont>Back to Table of Contents</a>\n",
    "\n"
   ]
  },
  {
   "cell_type": "markdown",
   "metadata": {},
   "source": [
    "Clearly the Model created using CoutVectorizer is much better than that of tfidf Vectors"
   ]
  },
  {
   "cell_type": "markdown",
   "metadata": {},
   "source": [
    "<a id=\"ten\"></a>\n",
    "## 10. Conclusion\n",
    "<a href=#cont>Back to Table of Contents</a>\n",
    "\n",
    "..........................."
   ]
  },
  {
   "cell_type": "code",
   "execution_count": null,
   "metadata": {},
   "outputs": [],
   "source": []
  },
  {
   "cell_type": "markdown",
   "metadata": {},
   "source": [
    "<a id=\"eleven\"></a>\n",
    "## 11. Recommendation\n",
    "<a href=#cont>Back to Table of Contents</a>"
   ]
  },
  {
   "cell_type": "code",
   "execution_count": null,
   "metadata": {},
   "outputs": [],
   "source": []
  },
  {
   "cell_type": "markdown",
   "metadata": {},
   "source": [
    "<a id=\"ref\"></a>\n",
    "## Reference Links\n",
    "<a href=#cont>Back to Table of Contents</a>"
   ]
  },
  {
   "cell_type": "markdown",
   "metadata": {},
   "source": [
    "* [GitHub Collab Ref.](https://github.com/)\n",
    "* [Commet Collab Ref](https://www.comet.ml/) \n",
    "* [Kaggle Collab Ref](https://www.kaggle.com/c/edsa-climate-change-belief-analysis-2022/overview)"
   ]
  },
  {
   "cell_type": "code",
   "execution_count": null,
   "metadata": {},
   "outputs": [],
   "source": []
  }
 ],
 "metadata": {
  "colab": {
   "collapsed_sections": [
    "VCXae5QXU__Z",
    "wzM8TbWBU__h",
    "FvA-QZmRU__r",
    "hAUkklVXU__6",
    "rFln-NFtVAAI",
    "UZomXVzoVAAR",
    "qp-n688CVAAc",
    "tGmGzrbsVAAf",
    "oFzCFS89VABM",
    "TlO1q-zlVABg"
   ],
   "name": "3_How-do-machines-understand language.ipynb",
   "provenance": [],
   "version": "0.3.2"
  },
  "kernelspec": {
   "display_name": "Python 3 (ipykernel)",
   "language": "python",
   "name": "python3"
  },
  "language_info": {
   "codemirror_mode": {
    "name": "ipython",
    "version": 3
   },
   "file_extension": ".py",
   "mimetype": "text/x-python",
   "name": "python",
   "nbconvert_exporter": "python",
   "pygments_lexer": "ipython3",
   "version": "3.9.7"
  }
 },
 "nbformat": 4,
 "nbformat_minor": 4
}

{
 "cells": [
  {
   "cell_type": "code",
   "execution_count": 1,
   "id": "d84664fc",
   "metadata": {},
   "outputs": [],
   "source": [
    "# Install Comet\n",
    "# !pip install comet_ml"
   ]
  },
  {
   "cell_type": "code",
   "execution_count": 2,
   "id": "34a62da9",
   "metadata": {},
   "outputs": [
    {
     "name": "stderr",
     "output_type": "stream",
     "text": [
      "COMET WARNING: As you are running in a Jupyter environment, you will need to call `experiment.end()` when finished to ensure all metrics and code are logged before exiting.\n",
      "COMET INFO: Experiment is live on comet.ml https://www.comet.ml/jeniffermukami/team-12-advanced-classification-sentiment-analysis/bda830fc48874beeaef0394d7766e436\n",
      "\n"
     ]
    }
   ],
   "source": [
    "# Import Comet package\n",
    "from comet_ml import Experiment\n",
    "\n",
    "# Setting the API key (saved as environment variable)\n",
    "\"\"\"\n",
    "Go ahead and get your api_key, project_name & workspace from your\n",
    "Comet Project Folder.\n",
    "\"\"\"\n",
    "# import comet_ml at the top of your file\n",
    "from comet_ml import Experiment\n",
    "\n",
    "# Create an experiment with your api key\n",
    "experiment = Experiment(\n",
    "    api_key=\"CL3r4k2Kr1MFTRdavZUxjrBSy\",\n",
    "    project_name=\"team-12-advanced-classification-sentiment-analysis\",\n",
    "    workspace=\"jeniffermukami\",\n",
    ")"
   ]
  },
  {
   "cell_type": "code",
   "execution_count": 3,
   "id": "9919fde5",
   "metadata": {},
   "outputs": [],
   "source": [
    "\"\"\" For seamless run, Import All required libraries here \"\"\"\n",
    "\n",
    "# Libraries for data loading, data manipulation and data visulisation\n",
    "import pandas as pd                                                   # for loading CSV data\n",
    "import numpy as np                                                    # Used for mathematical operations\n",
    "import matplotlib.pyplot as plt                                       # for Graphical Representation\n",
    "#%matplotlib inline                                                    \n",
    "import seaborn as sns                                                 # for specialized plots\n",
    "import re                                                             \n",
    "import math \n",
    "import string\n",
    "sns.set()                                                             # set plot style\n",
    "\n",
    "# Libraries for data preparation\n",
    "import nltk\n",
    "from nltk.tokenize import TweetTokenizer\n",
    "from nltk import SnowballStemmer\n",
    "from nltk.stem import WordNetLemmatizer\n",
    "from nltk.corpus import stopwords\n",
    "from statsmodels.graphics.correlation import plot_corr                # To plot correlation heatmap\n",
    "from pandas_profiling import ProfileReport   #Panda Profiling for EDA\n",
    "\n",
    "# Libraries for Feature Extraction\n",
    "from sklearn.feature_extraction.text import CountVectorizer, TfidfVectorizer   \n",
    "\n",
    "# Libraries for Model Building\n",
    "from sklearn.model_selection import train_test_split                  # To split the data into training and testing data\n",
    "from sklearn.naive_bayes import MultinomialNB, ComplementNB\n",
    "from sklearn.pipeline import Pipeline\n",
    "from sklearn.model_selection import GridSearchCV, KFold, cross_val_score                # To split the data into training and testing data\n",
    "from sklearn.linear_model import LogisticRegression, SGDClassifier\n",
    "from sklearn.svm import LinearSVC, SVC\n",
    "from sklearn.ensemble import RandomForestClassifier\n",
    "from sklearn.neighbors import KNeighborsClassifier\n",
    "\n",
    "# Libraries for calculating performance metrics\n",
    "from sklearn import metrics                                           # for\n",
    "from sklearn.metrics import accuracy_score, recall_score, precision_score \n",
    "from sklearn.metrics import  classification_report, confusion_matrix, ConfusionMatrixDisplay\n",
    "from sklearn.metrics import make_scorer\n",
    "import time\n",
    "\n",
    "# Libraries to Save/Restore Models\n",
    "import pickle\n",
    "\n",
    "# Setting global constants to ensure notebook results are reproducible\n",
    "\n",
    "\n",
    "import warnings\n",
    "warnings.filterwarnings('ignore')\n",
    "%matplotlib inline "
   ]
  },
  {
   "cell_type": "code",
   "execution_count": 4,
   "id": "5135e7fc",
   "metadata": {},
   "outputs": [],
   "source": [
    "# Load Data\n",
    "df_train = pd.read_csv('train.csv')\n",
    "df_test =pd.read_csv('test_with_no_labels.csv')"
   ]
  },
  {
   "cell_type": "code",
   "execution_count": 5,
   "id": "b108e9fa",
   "metadata": {},
   "outputs": [
    {
     "data": {
      "text/html": [
       "<div>\n",
       "<style scoped>\n",
       "    .dataframe tbody tr th:only-of-type {\n",
       "        vertical-align: middle;\n",
       "    }\n",
       "\n",
       "    .dataframe tbody tr th {\n",
       "        vertical-align: top;\n",
       "    }\n",
       "\n",
       "    .dataframe thead th {\n",
       "        text-align: right;\n",
       "    }\n",
       "</style>\n",
       "<table border=\"1\" class=\"dataframe\">\n",
       "  <thead>\n",
       "    <tr style=\"text-align: right;\">\n",
       "      <th></th>\n",
       "      <th>sentiment</th>\n",
       "      <th>message</th>\n",
       "      <th>tweetid</th>\n",
       "    </tr>\n",
       "  </thead>\n",
       "  <tbody>\n",
       "    <tr>\n",
       "      <th>0</th>\n",
       "      <td>1</td>\n",
       "      <td>PolySciMajor EPA chief doesn't think carbon di...</td>\n",
       "      <td>625221</td>\n",
       "    </tr>\n",
       "    <tr>\n",
       "      <th>1</th>\n",
       "      <td>1</td>\n",
       "      <td>It's not like we lack evidence of anthropogeni...</td>\n",
       "      <td>126103</td>\n",
       "    </tr>\n",
       "    <tr>\n",
       "      <th>2</th>\n",
       "      <td>2</td>\n",
       "      <td>RT @RawStory: Researchers say we have three ye...</td>\n",
       "      <td>698562</td>\n",
       "    </tr>\n",
       "    <tr>\n",
       "      <th>3</th>\n",
       "      <td>1</td>\n",
       "      <td>#TodayinMaker# WIRED : 2016 was a pivotal year...</td>\n",
       "      <td>573736</td>\n",
       "    </tr>\n",
       "    <tr>\n",
       "      <th>4</th>\n",
       "      <td>1</td>\n",
       "      <td>RT @SoyNovioDeTodas: It's 2016, and a racist, ...</td>\n",
       "      <td>466954</td>\n",
       "    </tr>\n",
       "  </tbody>\n",
       "</table>\n",
       "</div>"
      ],
      "text/plain": [
       "   sentiment                                            message  tweetid\n",
       "0          1  PolySciMajor EPA chief doesn't think carbon di...   625221\n",
       "1          1  It's not like we lack evidence of anthropogeni...   126103\n",
       "2          2  RT @RawStory: Researchers say we have three ye...   698562\n",
       "3          1  #TodayinMaker# WIRED : 2016 was a pivotal year...   573736\n",
       "4          1  RT @SoyNovioDeTodas: It's 2016, and a racist, ...   466954"
      ]
     },
     "execution_count": 5,
     "metadata": {},
     "output_type": "execute_result"
    }
   ],
   "source": [
    "# View Dataset\n",
    "df_train.head()"
   ]
  },
  {
   "cell_type": "code",
   "execution_count": 6,
   "id": "74427c8c",
   "metadata": {},
   "outputs": [
    {
     "data": {
      "image/png": "[encoded data removed]",
      "text/plain": [
       "<Figure size 576x360 with 1 Axes>"
      ]
     },
     "metadata": {},
     "output_type": "display_data"
    }
   ],
   "source": [
    "# Target variable distribution\n",
    "sns.set_style('darkgrid')\n",
    "plt.figure(figsize=(8, 5))\n",
    "sns.countplot(df_train['sentiment'])\n",
    "plt.title('Target variable distribution')\n",
    "plt.show()"
   ]
  },
  {
   "cell_type": "code",
   "execution_count": 7,
   "id": "a4f1a6e4",
   "metadata": {},
   "outputs": [
    {
     "data": {
      "text/plain": [
       "0    PolySciMajor EPA chief doesn't think carbon dioxide is main cause of global warming and.. wait, what!? https://t.co/yeLvcEFXkC via @mashable\n",
       "1    It's not like we lack evidence of anthropogenic global warming                                                                              \n",
       "2    RT @RawStory: Researchers say we have three years to act on climate change before it’s too late https://t.co/WdT0KdUr2f https://t.co/Z0ANPT…\n",
       "3    #TodayinMaker# WIRED : 2016 was a pivotal year in the war on climate change https://t.co/44wOTxTLcD                                         \n",
       "4    RT @SoyNovioDeTodas: It's 2016, and a racist, sexist, climate change denying bigot is leading in the polls. #ElectionNight                  \n",
       "Name: message, dtype: object"
      ]
     },
     "execution_count": 7,
     "metadata": {},
     "output_type": "execute_result"
    }
   ],
   "source": [
    "# First we View Data in MESSAGE COlumns\n",
    "pd.set_option('display.max_colwidth', -1)      # set to display full text in df\n",
    "df_train['message'].head(5)"
   ]
  },
  {
   "cell_type": "code",
   "execution_count": 8,
   "id": "d4a64c69",
   "metadata": {},
   "outputs": [],
   "source": [
    "# First we Define function that handles text cleaning\n",
    "def clean_text(text):\n",
    "    \"\"\"\n",
    "    This function uses regular expressions to \n",
    "        - remove links characters\n",
    "        - remove html characters,\n",
    "        - remove escape sequences,\n",
    "        - remove capitalization,\n",
    "        - any extra white space from each text and then converts them to lowercase.\n",
    "\n",
    "    Input:\n",
    "    text: original text\n",
    "          datatype: string\n",
    "\n",
    "    Output:\n",
    "    texts: modified text\n",
    "           datatype: string\n",
    "    \"\"\"\n",
    "    # replace links with url-web\n",
    "    pattern_url = 'http[s]?://(?:[A-Za-z]|[0-9]|[$-_@.&+]|[!*\\(\\),]|(?:%[0-9A-Fa-f][0-9A-Fa-f]))+'\n",
    "    subs_url = 'url-web'\n",
    "    text = re.sub(pattern_url, subs_url, text)\n",
    "    # replace the html characters with \" \"\n",
    "    text = re.sub('<.*?>', ' ', text)\n",
    "    # replace escape sequence with space\n",
    "    escape_seq = [\"\\r\", \"\\n\",'\\a', '\\b', '\\f', \"\\`\", '\\”', '\\t']\n",
    "    for i in escape_seq:\n",
    "        text = re.sub(i, \" \", text)\n",
    "    # Remove Capitalization\n",
    "    text = text.lower()\n",
    "    # plit and join the words\n",
    "    text=' '.join(text.split())\n",
    "    \n",
    "    return text"
   ]
  },
  {
   "cell_type": "code",
   "execution_count": 9,
   "id": "9a484493",
   "metadata": {},
   "outputs": [],
   "source": [
    "# Applying function to clean text feature\n",
    "df_train['message'] = df_train['message'].apply(clean_text)\n",
    "df_test['message'] = df_test['message'].apply(clean_text)"
   ]
  },
  {
   "cell_type": "code",
   "execution_count": 10,
   "id": "be322dce",
   "metadata": {},
   "outputs": [
    {
     "data": {
      "text/plain": [
       "0    polyscimajor epa chief doesn't think carbon dioxide is main cause of global warming and.. wait, what!? url-web via @mashable            \n",
       "1    it's not like we lack evidence of anthropogenic global warming                                                                          \n",
       "2    rt @rawstory: researchers say we have three years to act on climate change before it’s too late url-web url-web…                        \n",
       "3    #todayinmaker# wired : 2016 was a pivotal year in the war on climate change url-web                                                     \n",
       "4    rt @soynoviodetodas: it's 2016, and a racist, sexist, climate change denying bigot is leading in the polls. #electionnight              \n",
       "5    worth a read whether you do or don't believe in climate change url-web url-web                                                          \n",
       "6    rt @thenation: mike pence doesn’t believe in global warming or that smoking causes lung cancer. url-web                                 \n",
       "7    rt @makeandmendlife: six big things we can all do today to fight climate change, or how to be a climate activistã¢â‚¬â¦ url-web hã¢â‚¬â¦\n",
       "Name: message, dtype: object"
      ]
     },
     "execution_count": 10,
     "metadata": {},
     "output_type": "execute_result"
    }
   ],
   "source": [
    "# Let's view the MESSAGE created\n",
    "pd.set_option('display.max_colwidth', -1)      # set to display full text in df\n",
    "df_train['message'].head(8)"
   ]
  },
  {
   "cell_type": "code",
   "execution_count": 11,
   "id": "caab21a8",
   "metadata": {},
   "outputs": [],
   "source": [
    "# Define a function to handle punctuation removal\n",
    "def remove_punctuation(post):\n",
    "    return ''.join([l for l in post if l not in string.punctuation])"
   ]
  },
  {
   "cell_type": "code",
   "execution_count": 12,
   "id": "c6752c3e",
   "metadata": {},
   "outputs": [],
   "source": [
    "# Remove Punctutaion Noise\n",
    "df_train['message'] = df_train['message'].apply(remove_punctuation)\n",
    "df_test['message'] = df_test['message'].apply(remove_punctuation)"
   ]
  },
  {
   "cell_type": "code",
   "execution_count": 13,
   "id": "9b8b3549",
   "metadata": {},
   "outputs": [
    {
     "data": {
      "text/plain": [
       "0     polyscimajor epa chief doesnt think carbon dioxide is main cause of global warming and wait what urlweb via mashable                   \n",
       "1     its not like we lack evidence of anthropogenic global warming                                                                          \n",
       "2     rt rawstory researchers say we have three years to act on climate change before it’s too late urlweb urlweb…                           \n",
       "3     todayinmaker wired  2016 was a pivotal year in the war on climate change urlweb                                                        \n",
       "4     rt soynoviodetodas its 2016 and a racist sexist climate change denying bigot is leading in the polls electionnight                     \n",
       "5     worth a read whether you do or dont believe in climate change urlweb urlweb                                                            \n",
       "6     rt thenation mike pence doesn’t believe in global warming or that smoking causes lung cancer urlweb                                    \n",
       "7     rt makeandmendlife six big things we can all do today to fight climate change or how to be a climate activistã¢â‚¬â¦ urlweb hã¢â‚¬â¦   \n",
       "8     aceofspadeshq my 8yo nephew is inconsolable he wants to die of old age like me but will perish in the fiery hellscape of climate change\n",
       "9     rt paigetweedy no offense… but like… how do you just not believe… in global warming………                                                 \n",
       "10    rt stephenschlegel shes thinking about how shes going to die because your husband doesnt believe in climate change urlwebã¢â‚¬â¦       \n",
       "11    i do hope people who are vocal about climate change also powering their homes with renewable energy like goodenergy                    \n",
       "12    rt tveitdal we only have a 5 percent chance of avoiding ‘dangerous’ global warming a study finds urlweb urlweb…                        \n",
       "13    rt alifaith55 oh my god trumps government removes climate change page from epa website hours ahead of climatemarch urlweb…             \n",
       "14    fossil fuel giant exxonmobil ‘misled’ the public about climate change harvard academics conclude urlweb                                \n",
       "Name: message, dtype: object"
      ]
     },
     "execution_count": 13,
     "metadata": {},
     "output_type": "execute_result"
    }
   ],
   "source": [
    "# Verify Actions\n",
    "pd.set_option('display.max_colwidth', -1)      # set to display full text in df\n",
    "df_train['message'].head(15)"
   ]
  },
  {
   "cell_type": "code",
   "execution_count": 14,
   "id": "2169a357",
   "metadata": {},
   "outputs": [],
   "source": [
    "# First features and label \n",
    "X = df_train['message']\n",
    "y = df_train['sentiment']"
   ]
  },
  {
   "cell_type": "code",
   "execution_count": 15,
   "id": "f0e25ba8",
   "metadata": {},
   "outputs": [],
   "source": [
    "# split data to Train/Test set\n",
    "X_train, X_val, y_train, y_val = train_test_split(X, y, test_size=0.1, random_state=53)"
   ]
  },
  {
   "cell_type": "code",
   "execution_count": 16,
   "id": "5d311bdd",
   "metadata": {},
   "outputs": [
    {
     "data": {
      "image/png": "[encoded data removed]",
      "text/plain": [
       "<Figure size 432x288 with 1 Axes>"
      ]
     },
     "metadata": {},
     "output_type": "display_data"
    },
    {
     "data": {
      "text/plain": [
       " 1    7677\n",
       " 2    3257\n",
       " 0    2133\n",
       "-1    1170\n",
       "Name: sentiment, dtype: int64"
      ]
     },
     "execution_count": 16,
     "metadata": {},
     "output_type": "execute_result"
    }
   ],
   "source": [
    "unique, counts = np.unique(y_train, return_counts=True)\n",
    "plt.bar(unique, counts)\n",
    "unique, counts = np.unique(y_val, return_counts=True)\n",
    "plt.bar(unique, counts)\n",
    "\n",
    "plt.rcParams[\"figure.figsize\"] = (25, 3)\n",
    "plt.title('Class Frequency')\n",
    "plt.xlabel('Class')\n",
    "plt.ylabel('Frequency')\n",
    "plt.xticks(ticks=[-1, 0, 1, 2], \n",
    "           labels=['Anti_Belief(-1)', 'Neutral_Belief(0)', 'Belief_Man_Made_Cause(1)', 'Factual_News(2)'])\n",
    "\n",
    "plt.show()\n",
    "y_train.value_counts()"
   ]
  },
  {
   "cell_type": "code",
   "execution_count": 17,
   "id": "467c0779",
   "metadata": {},
   "outputs": [],
   "source": [
    "\"\"\"\n",
    "You can go ahead to adding to try other models\n",
    "this list of classifiers\n",
    "\"\"\"\n",
    "\n",
    "classifiers = [LinearSVC(),\n",
    "               \n",
    "               #SVC(),\n",
    "               \n",
    "               MultinomialNB(),\n",
    "               \n",
    "               ComplementNB(),\n",
    "               \n",
    "               LogisticRegression(),\n",
    "               \n",
    "               #RandomForestClassifier(max_depth = 25, random_state = 42),\n",
    "               \n",
    "               #KNeighborsClassifier(n_neighbors=5),\n",
    "               \n",
    "               #SGDClassifier(loss='hinge',\n",
    "#                              penalty='l2',\n",
    "#                              alpha=1e-3,\n",
    "#                              random_state=42,\n",
    "#                              max_iter=5,\n",
    "#                              tol=None)\n",
    "               ]"
   ]
  },
  {
   "cell_type": "code",
   "execution_count": 18,
   "id": "600477cb",
   "metadata": {},
   "outputs": [],
   "source": [
    "def models_building(classifiers, X_train, y_train, X_val, y_val):\n",
    "    \"\"\"\n",
    "    This function takes in a list of classifiers and both the train and validation sets\n",
    "    and return a summary of F1-score and processing time as a dataframe\n",
    "\n",
    "    Input:\n",
    "    classifiers: a list of classifiers to train\n",
    "                 datatype: list\n",
    "    X_train: independent variable for training\n",
    "                 datatype: series\n",
    "    y_train: dependent variable for training\n",
    "                 datatype: series\n",
    "    X_val: independent variable for validation\n",
    "                 datatype: series\n",
    "    y_val: dependent variable for validation\n",
    "                 datatype: series\n",
    "\n",
    "    Output:\n",
    "    model_summary: F1 Score for all the classifiers\n",
    "                 datatype: dataframe\n",
    "    \"\"\"\n",
    "\n",
    "    models_summary = {}\n",
    "\n",
    "    # Pipeline to balance the classses and then to build the model\n",
    "    for clf in classifiers:\n",
    "        clf_para = Pipeline([('countV', CountVectorizer(min_df=1,\n",
    "                                                       max_df=0.9,\n",
    "                                                       ngram_range=(1, 2))),\n",
    "                             ('clf', clf)])\n",
    "\n",
    "        # Logging the Execution Time for each model\n",
    "        start_time = time.time()\n",
    "        clf_para.fit(X_train, y_train)\n",
    "        predictions = clf_para.predict(X_val)\n",
    "        run_time = time.time() - start_time\n",
    "\n",
    "        # Score output for each model\n",
    "        models_summary[clf.__class__.__name__] = {\n",
    "            'F1-Macro': metrics.f1_score(y_val,\n",
    "                                         predictions,\n",
    "                                         average='macro'),\n",
    "            'F1-Accuracy': metrics.f1_score(y_val, predictions,\n",
    "                                            average='micro'),\n",
    "            'F1-Weighted': metrics.f1_score(y_val,\n",
    "                                            predictions,\n",
    "                                            average='weighted'),\n",
    "            'Execution Time': run_time}\n",
    "\n",
    "    return pd.DataFrame.from_dict(models_summary, orient='index')"
   ]
  },
  {
   "cell_type": "code",
   "execution_count": 19,
   "id": "2cd1939a",
   "metadata": {},
   "outputs": [],
   "source": [
    "classifiers_df = models_building(classifiers, X_train, y_train, X_val, y_val)"
   ]
  },
  {
   "cell_type": "code",
   "execution_count": 20,
   "id": "a0c4fe58",
   "metadata": {},
   "outputs": [
    {
     "data": {
      "text/html": [
       "<div>\n",
       "<style scoped>\n",
       "    .dataframe tbody tr th:only-of-type {\n",
       "        vertical-align: middle;\n",
       "    }\n",
       "\n",
       "    .dataframe tbody tr th {\n",
       "        vertical-align: top;\n",
       "    }\n",
       "\n",
       "    .dataframe thead th {\n",
       "        text-align: right;\n",
       "    }\n",
       "</style>\n",
       "<table border=\"1\" class=\"dataframe\">\n",
       "  <thead>\n",
       "    <tr style=\"text-align: right;\">\n",
       "      <th></th>\n",
       "      <th>F1-Macro</th>\n",
       "      <th>F1-Accuracy</th>\n",
       "      <th>F1-Weighted</th>\n",
       "      <th>Execution Time</th>\n",
       "    </tr>\n",
       "  </thead>\n",
       "  <tbody>\n",
       "    <tr>\n",
       "      <th>LogisticRegression</th>\n",
       "      <td>0.668255</td>\n",
       "      <td>0.759166</td>\n",
       "      <td>0.750182</td>\n",
       "      <td>43.715544</td>\n",
       "    </tr>\n",
       "    <tr>\n",
       "      <th>LinearSVC</th>\n",
       "      <td>0.665661</td>\n",
       "      <td>0.749052</td>\n",
       "      <td>0.743451</td>\n",
       "      <td>23.710714</td>\n",
       "    </tr>\n",
       "    <tr>\n",
       "      <th>ComplementNB</th>\n",
       "      <td>0.639182</td>\n",
       "      <td>0.749684</td>\n",
       "      <td>0.729198</td>\n",
       "      <td>3.336007</td>\n",
       "    </tr>\n",
       "    <tr>\n",
       "      <th>MultinomialNB</th>\n",
       "      <td>0.534525</td>\n",
       "      <td>0.719975</td>\n",
       "      <td>0.676863</td>\n",
       "      <td>3.409449</td>\n",
       "    </tr>\n",
       "  </tbody>\n",
       "</table>\n",
       "</div>"
      ],
      "text/plain": [
       "                    F1-Macro  F1-Accuracy  F1-Weighted  Execution Time\n",
       "LogisticRegression  0.668255  0.759166     0.750182     43.715544     \n",
       "LinearSVC           0.665661  0.749052     0.743451     23.710714     \n",
       "ComplementNB        0.639182  0.749684     0.729198     3.336007      \n",
       "MultinomialNB       0.534525  0.719975     0.676863     3.409449      "
      ]
     },
     "execution_count": 20,
     "metadata": {},
     "output_type": "execute_result"
    }
   ],
   "source": [
    "df = classifiers_df.sort_values('F1-Macro', ascending=False)\n",
    "df"
   ]
  },
  {
   "cell_type": "code",
   "execution_count": 21,
   "id": "ea8c2817",
   "metadata": {},
   "outputs": [],
   "source": [
    "betterVect = CountVectorizer(min_df=1,\n",
    "                             max_df=0.9,\n",
    "                             ngram_range=(1, 2))"
   ]
  },
  {
   "cell_type": "code",
   "execution_count": 22,
   "id": "7b46b6bd",
   "metadata": {},
   "outputs": [
    {
     "name": "stdout",
     "output_type": "stream",
     "text": [
      "              precision    recall  f1-score   support\n",
      "\n",
      "          -1       0.73      0.39      0.51       126\n",
      "           0       0.63      0.51      0.57       220\n",
      "           1       0.78      0.87      0.82       853\n",
      "           2       0.77      0.79      0.78       383\n",
      "\n",
      "    accuracy                           0.76      1582\n",
      "   macro avg       0.73      0.64      0.67      1582\n",
      "weighted avg       0.75      0.76      0.75      1582\n",
      "\n"
     ]
    }
   ],
   "source": [
    "# Creating a pipeline for the gridsearch\n",
    "\n",
    "# set parameter grid\n",
    "param_grid = {'penalty': ['l1', 'l2',  'elasticnet', 'none'],\n",
    "             'random_state': [53]}  \n",
    "\n",
    "hyper_best_model = Pipeline([('countV', betterVect),\n",
    "                      ('logReg', GridSearchCV(LogisticRegression(),\n",
    "                                           param_grid=param_grid,\n",
    "                                           cv=5,\n",
    "                                           n_jobs=-1,\n",
    "                                           scoring='f1_weighted'))\n",
    "                      ])\n",
    "\n",
    "# Fiting data model\n",
    "hyper_best_model.fit(X_train, y_train) \n",
    "\n",
    "# predicting the fit on validation set\n",
    "y_pred = hyper_best_model.predict(X_val)  \n",
    "\n",
    "print(classification_report(y_val, y_pred)) "
   ]
  },
  {
   "cell_type": "code",
   "execution_count": 23,
   "id": "a94bfa35",
   "metadata": {},
   "outputs": [],
   "source": [
    "# Create dictionaries for the data we want to log\n",
    "# This had to be defined since that applied to our model is the best from the grid search.\n",
    "params ={\"random_state\": 53,\n",
    "         \"model_type \": \"LinearSVC\",\n",
    "         \"Bag of words\": \"count_Vectorizer\",\n",
    "         \"scaler\": \"Standard Scaler\",\n",
    "         \"min_df\": 1,\n",
    "         \"max_df\": 0.9,\n",
    "         \"n_grams\": \"(1, 2)\"\n",
    "        }\n",
    "\n",
    "nb_metrics ={\"Accuracy\": metrics.accuracy_score(y_val, y_pred),\n",
    "             \"recall\": metrics.recall_score(y_val, y_pred, average='micro'),\n",
    "             \"f1\": metrics.f1_score(y_val, y_pred, average='micro'),\n",
    "#              \"Classification_Report\": classification_report(y_val, y_pred)\n",
    "            }\n",
    "\n",
    "confusionmatrix = confusion_matrix(y_val, y_pred)"
   ]
  },
  {
   "cell_type": "code",
   "execution_count": 24,
   "id": "4a6b48dc",
   "metadata": {},
   "outputs": [
    {
     "data": {
      "text/plain": [
       "{'web': 'https://www.comet.ml/api/asset/download?assetId=51b6e0f6fff34e8d9af90b8ea33225f8&experimentKey=bda830fc48874beeaef0394d7766e436',\n",
       " 'api': 'https://www.comet.ml/api/rest/v2/experiment/asset/get-asset?assetId=51b6e0f6fff34e8d9af90b8ea33225f8&experimentKey=bda830fc48874beeaef0394d7766e436',\n",
       " 'assetId': '51b6e0f6fff34e8d9af90b8ea33225f8'}"
      ]
     },
     "execution_count": 24,
     "metadata": {},
     "output_type": "execute_result"
    }
   ],
   "source": [
    "#log parameters and results\n",
    "experiment.log_parameters(params)\n",
    "experiment.log_metrics(nb_metrics)\n",
    "experiment.log_notebook('5.0 Advance_Classification_Notebook.ipynb', overwrite=False)\n",
    "experiment.log_confusion_matrix(labels=[\"News\", \"pro\", \"Neutral\",\"Anti\"], matrix=confusionmatrix)"
   ]
  },
  {
   "cell_type": "code",
   "execution_count": 25,
   "id": "7174db07",
   "metadata": {},
   "outputs": [
    {
     "name": "stderr",
     "output_type": "stream",
     "text": [
      "COMET INFO: ---------------------------\n",
      "COMET INFO: Comet.ml Experiment Summary\n",
      "COMET INFO: ---------------------------\n",
      "COMET INFO:   Data:\n",
      "COMET INFO:     display_summary_level : 1\n",
      "COMET INFO:     url                   : https://www.comet.ml/jeniffermukami/team-12-advanced-classification-sentiment-analysis/bda830fc48874beeaef0394d7766e436\n",
      "COMET INFO:   Metrics:\n",
      "COMET INFO:     Accuracy : 0.7591656131479141\n",
      "COMET INFO:     f1       : 0.759165613147914\n",
      "COMET INFO:     recall   : 0.7591656131479141\n",
      "COMET INFO:   Parameters:\n",
      "COMET INFO:     Bag of words                         : count_Vectorizer\n",
      "COMET INFO:     C                                    : 1.0\n",
      "COMET INFO:     alpha                                : 1.0\n",
      "COMET INFO:     class_prior                          : 1\n",
      "COMET INFO:     class_weight                         : 1\n",
      "COMET INFO:     clf                                  : LogisticRegression()\n",
      "COMET INFO:     clf_C                                : 1.0\n",
      "COMET INFO:     clf__C                               : 1.0\n",
      "COMET INFO:     clf__alpha                           : 1.0\n",
      "COMET INFO:     clf__class_prior                     : 1\n",
      "COMET INFO:     clf__class_weight                    : 1\n",
      "COMET INFO:     clf__dual                            : False\n",
      "COMET INFO:     clf__fit_intercept                   : True\n",
      "COMET INFO:     clf__fit_prior                       : True\n",
      "COMET INFO:     clf__intercept_scaling               : 1\n",
      "COMET INFO:     clf__l1_ratio                        : 1\n",
      "COMET INFO:     clf__loss                            : squared_hinge\n",
      "COMET INFO:     clf__max_iter                        : 100\n",
      "COMET INFO:     clf__multi_class                     : auto\n",
      "COMET INFO:     clf__n_jobs                          : 1\n",
      "COMET INFO:     clf__norm                            : False\n",
      "COMET INFO:     clf__penalty                         : l2\n",
      "COMET INFO:     clf__random_state                    : 1\n",
      "COMET INFO:     clf__solver                          : lbfgs\n",
      "COMET INFO:     clf__tol                             : 0.0001\n",
      "COMET INFO:     clf__verbose                         : 0\n",
      "COMET INFO:     clf__warm_start                      : False\n",
      "COMET INFO:     clf_alpha                            : 1.0\n",
      "COMET INFO:     clf_class_prior                      : 1\n",
      "COMET INFO:     clf_class_weight                     : 1\n",
      "COMET INFO:     clf_dual                             : False\n",
      "COMET INFO:     clf_fit_intercept                    : True\n",
      "COMET INFO:     clf_fit_prior                        : True\n",
      "COMET INFO:     clf_intercept_scaling                : 1\n",
      "COMET INFO:     clf_l1_ratio                         : 1\n",
      "COMET INFO:     clf_loss                             : squared_hinge\n",
      "COMET INFO:     clf_max_iter                         : 100\n",
      "COMET INFO:     clf_multi_class                      : auto\n",
      "COMET INFO:     clf_n_jobs                           : 1\n",
      "COMET INFO:     clf_norm                             : False\n",
      "COMET INFO:     clf_penalty                          : l2\n",
      "COMET INFO:     clf_random_state                     : 1\n",
      "COMET INFO:     clf_solver                           : lbfgs\n",
      "COMET INFO:     clf_tol                              : 0.0001\n",
      "COMET INFO:     clf_verbose                          : 0\n",
      "COMET INFO:     clf_warm_start                       : False\n",
      "COMET INFO:     countV                               : CountVectorizer(max_df=0.9, ngram_range=(1, 2))\n",
      "COMET INFO:     countV__analyzer                     : word\n",
      "COMET INFO:     countV__binary                       : False\n",
      "COMET INFO:     countV__decode_error                 : strict\n",
      "COMET INFO:     countV__dtype                        : <class 'numpy.int64'>\n",
      "COMET INFO:     countV__encoding                     : utf-8\n",
      "COMET INFO:     countV__input                        : content\n",
      "COMET INFO:     countV__lowercase                    : True\n",
      "COMET INFO:     countV__max_df                       : 0.9\n",
      "COMET INFO:     countV__max_features                 : 1\n",
      "COMET INFO:     countV__min_df                       : 1\n",
      "COMET INFO:     countV__ngram_range                  : (1, 2)\n",
      "COMET INFO:     countV__preprocessor                 : 1\n",
      "COMET INFO:     countV__stop_words                   : 1\n",
      "COMET INFO:     countV__strip_accents                : 1\n",
      "COMET INFO:     countV__token_pattern                : (?u)\\b\\w\\w+\\b\n",
      "COMET INFO:     countV__tokenizer                    : 1\n",
      "COMET INFO:     countV__vocabulary                   : 1\n",
      "COMET INFO:     countV_analyzer                      : word\n",
      "COMET INFO:     countV_binary                        : False\n",
      "COMET INFO:     countV_decode_error                  : strict\n",
      "COMET INFO:     countV_dtype                         : <class 'numpy.int64'>\n",
      "COMET INFO:     countV_encoding                      : utf-8\n",
      "COMET INFO:     countV_input                         : content\n",
      "COMET INFO:     countV_lowercase                     : True\n",
      "COMET INFO:     countV_max_df                        : 0.9\n",
      "COMET INFO:     countV_max_features                  : 1\n",
      "COMET INFO:     countV_min_df                        : 1\n",
      "COMET INFO:     countV_ngram_range                   : (1, 2)\n",
      "COMET INFO:     countV_preprocessor                  : 1\n",
      "COMET INFO:     countV_stop_words                    : 1\n",
      "COMET INFO:     countV_strip_accents                 : 1\n",
      "COMET INFO:     countV_token_pattern                 : (?u)\\b\\w\\w+\\b\n",
      "COMET INFO:     countV_tokenizer                     : 1\n",
      "COMET INFO:     countV_vocabulary                    : 1\n",
      "COMET INFO:     cv                                   : 5\n",
      "COMET INFO:     dual                                 : False\n",
      "COMET INFO:     error_score                          : nan\n",
      "COMET INFO:     estimator                            : LogisticRegression()\n",
      "COMET INFO:     estimator__C                         : 1.0\n",
      "COMET INFO:     estimator__class_weight              : 1\n",
      "COMET INFO:     estimator__dual                      : False\n",
      "COMET INFO:     estimator__fit_intercept             : True\n",
      "COMET INFO:     estimator__intercept_scaling         : 1\n",
      "COMET INFO:     estimator__l1_ratio                  : 1\n",
      "COMET INFO:     estimator__max_iter                  : 100\n",
      "COMET INFO:     estimator__multi_class               : auto\n",
      "COMET INFO:     estimator__n_jobs                    : 1\n",
      "COMET INFO:     estimator__penalty                   : l2\n",
      "COMET INFO:     estimator__random_state              : 1\n",
      "COMET INFO:     estimator__solver                    : lbfgs\n",
      "COMET INFO:     estimator__tol                       : 0.0001\n",
      "COMET INFO:     estimator__verbose                   : 0\n",
      "COMET INFO:     estimator__warm_start                : False\n",
      "COMET INFO:     fit_intercept                        : True\n",
      "COMET INFO:     fit_prior                            : True\n",
      "COMET INFO:     intercept_scaling                    : 1\n",
      "COMET INFO:     l1_ratio                             : 1\n",
      "COMET INFO:     logReg                               : GridSearchCV(cv=5, estimator=LogisticRegression(), n_jobs=-1,\n",
      "             param_grid={'penalty': ['l1', 'l2', 'elasticnet', 'none'],\n",
      "                         'random_state': [53]},\n",
      "             scoring='f1_weighted')\n",
      "COMET INFO:     logReg__cv                           : 5\n",
      "COMET INFO:     logReg__error_score                  : nan\n",
      "COMET INFO:     logReg__estimator                    : LogisticRegression()\n",
      "COMET INFO:     logReg__estimator__C                 : 1.0\n",
      "COMET INFO:     logReg__estimator__class_weight      : 1\n",
      "COMET INFO:     logReg__estimator__dual              : False\n",
      "COMET INFO:     logReg__estimator__fit_intercept     : True\n",
      "COMET INFO:     logReg__estimator__intercept_scaling : 1\n",
      "COMET INFO:     logReg__estimator__l1_ratio          : 1\n",
      "COMET INFO:     logReg__estimator__max_iter          : 100\n",
      "COMET INFO:     logReg__estimator__multi_class       : auto\n",
      "COMET INFO:     logReg__estimator__n_jobs            : 1\n",
      "COMET INFO:     logReg__estimator__penalty           : l2\n",
      "COMET INFO:     logReg__estimator__random_state      : 1\n",
      "COMET INFO:     logReg__estimator__solver            : lbfgs\n",
      "COMET INFO:     logReg__estimator__tol               : 0.0001\n",
      "COMET INFO:     logReg__estimator__verbose           : 0\n",
      "COMET INFO:     logReg__estimator__warm_start        : False\n",
      "COMET INFO:     logReg__n_jobs                       : -1\n"
     ]
    },
    {
     "name": "stderr",
     "output_type": "stream",
     "text": [
      "COMET INFO:     logReg__param_grid                   : {\"penalty\": [\"l1\", \"l2\", \"elasticnet\", \"none\"], \"random_state\": [53]}\n",
      "COMET INFO:     logReg__pre_dispatch                 : 2*n_jobs\n",
      "COMET INFO:     logReg__refit                        : True\n",
      "COMET INFO:     logReg__return_train_score           : False\n",
      "COMET INFO:     logReg__scoring                      : f1_weighted\n",
      "COMET INFO:     logReg__verbose                      : 0\n",
      "COMET INFO:     logReg_cv                            : 5\n",
      "COMET INFO:     logReg_error_score                   : nan\n",
      "COMET INFO:     logReg_estimator                     : LogisticRegression()\n",
      "COMET INFO:     logReg_estimator__C                  : 1.0\n",
      "COMET INFO:     logReg_estimator__class_weight       : 1\n",
      "COMET INFO:     logReg_estimator__dual               : False\n",
      "COMET INFO:     logReg_estimator__fit_intercept      : True\n",
      "COMET INFO:     logReg_estimator__intercept_scaling  : 1\n",
      "COMET INFO:     logReg_estimator__l1_ratio           : 1\n",
      "COMET INFO:     logReg_estimator__max_iter           : 100\n",
      "COMET INFO:     logReg_estimator__multi_class        : auto\n",
      "COMET INFO:     logReg_estimator__n_jobs             : 1\n",
      "COMET INFO:     logReg_estimator__penalty            : l2\n",
      "COMET INFO:     logReg_estimator__random_state       : 1\n",
      "COMET INFO:     logReg_estimator__solver             : lbfgs\n",
      "COMET INFO:     logReg_estimator__tol                : 0.0001\n",
      "COMET INFO:     logReg_estimator__verbose            : 0\n",
      "COMET INFO:     logReg_estimator__warm_start         : False\n",
      "COMET INFO:     logReg_n_jobs                        : -1\n",
      "COMET INFO:     logReg_param_grid                    : {\"penalty\": [\"l1\", \"l2\", \"elasticnet\", \"none\"], \"random_state\": [53]}\n",
      "COMET INFO:     logReg_pre_dispatch                  : 2*n_jobs\n",
      "COMET INFO:     logReg_refit                         : True\n",
      "COMET INFO:     logReg_return_train_score            : False\n",
      "COMET INFO:     logReg_scoring                       : f1_weighted\n",
      "COMET INFO:     logReg_verbose                       : 0\n",
      "COMET INFO:     loss                                 : squared_hinge\n",
      "COMET INFO:     max_df                               : 0.9\n",
      "COMET INFO:     max_iter                             : 100\n",
      "COMET INFO:     memory                               : 1\n",
      "COMET INFO:     min_df                               : 1\n",
      "COMET INFO:     model_type                           : LinearSVC\n",
      "COMET INFO:     multi_class                          : auto\n",
      "COMET INFO:     n_grams                              : (1, 2)\n",
      "COMET INFO:     n_jobs                               : -1\n",
      "COMET INFO:     neg_label                            : 0\n",
      "COMET INFO:     norm                                 : False\n",
      "COMET INFO:     param_grid                           : {\"penalty\": [\"l1\", \"l2\", \"elasticnet\", \"none\"], \"random_state\": [53]}\n",
      "COMET INFO:     penalty                              : l2\n",
      "COMET INFO:     pos_label                            : 1\n",
      "COMET INFO:     pre_dispatch                         : 2*n_jobs\n",
      "COMET INFO:     random_state                         : 53\n",
      "COMET INFO:     refit                                : True\n",
      "COMET INFO:     return_train_score                   : False\n",
      "COMET INFO:     scaler                               : Standard Scaler\n",
      "COMET INFO:     scoring                              : f1_weighted\n",
      "COMET INFO:     solver                               : lbfgs\n",
      "COMET INFO:     sparse_output                        : False\n",
      "COMET INFO:     steps                                : [('countV', CountVectorizer(max_df=0.9, ngram_range=(1, 2))), ('logReg', GridSearchCV(cv=5, estimator=LogisticRegression(), n_jobs=-1,\n",
      "             param_grid={'penalty': ['l1', 'l2', 'elasticnet', 'none'],\n",
      "                         'random_state': [53]},\n",
      "             scoring='f1_weighted'))]\n",
      "COMET INFO:     tol                                  : 0.0001\n",
      "COMET INFO:     verbose                              : False\n",
      "COMET INFO:     warm_start                           : False\n",
      "COMET INFO:   Uploads:\n",
      "COMET INFO:     conda-environment-definition : 1\n",
      "COMET INFO:     conda-info                   : 1\n",
      "COMET INFO:     conda-specification          : 1\n",
      "COMET INFO:     confusion-matrix             : 1\n",
      "COMET INFO:     environment details          : 1\n",
      "COMET INFO:     filename                     : 1\n",
      "COMET INFO:     git metadata                 : 1\n",
      "COMET INFO:     git-patch (uncompressed)     : 1 (10.20 MB)\n",
      "COMET INFO:     installed packages           : 1\n",
      "COMET INFO:     notebook                     : 2 (1.36 MB)\n",
      "COMET INFO:     source_code                  : 1\n",
      "COMET INFO: ---------------------------\n",
      "COMET ERROR: Error sending a notification, make sure you have opted-in for notifications\n",
      "COMET INFO: Uploading metrics, params, and assets to Comet before program termination (may take several seconds)\n",
      "COMET INFO: The Python SDK has 3600 seconds to finish before aborting...\n",
      "COMET INFO: Waiting for completion of the file uploads (may take several seconds)\n",
      "COMET INFO: The Python SDK has 10800 seconds to finish before aborting...\n",
      "COMET INFO: Still uploading 4 file(s), remaining 1.39 MB/4.54 MB\n",
      "COMET INFO: Still uploading 4 file(s), remaining 1.38 MB/4.54 MB, Throughput 747 bytes/s, ETA ~1938s\n"
     ]
    }
   ],
   "source": [
    "# STRICTLY FOR LOCAL JUPYTER NOTEBOOKS\n",
    "experiment.end()"
   ]
  },
  {
   "cell_type": "code",
   "execution_count": null,
   "id": "efe5953b",
   "metadata": {},
   "outputs": [],
   "source": []
  },
  {
   "cell_type": "code",
   "execution_count": null,
   "id": "ab68d05a",
   "metadata": {},
   "outputs": [],
   "source": []
  },
  {
   "cell_type": "code",
   "execution_count": null,
   "id": "1619fdcb",
   "metadata": {},
   "outputs": [],
   "source": []
  }
 ],
 "metadata": {
  "kernelspec": {
   "display_name": "Python 3 (ipykernel)",
   "language": "python",
   "name": "python3"
  },
  "language_info": {
   "codemirror_mode": {
    "name": "ipython",
    "version": 3
   },
   "file_extension": ".py",
   "mimetype": "text/x-python",
   "name": "python",
   "nbconvert_exporter": "python",
   "pygments_lexer": "ipython3",
   "version": "3.9.7"
  }
 },
 "nbformat": 4,
 "nbformat_minor": 5
}
